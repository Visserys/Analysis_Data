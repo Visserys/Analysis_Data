{
  "cells": [
    {
      "cell_type": "markdown",
      "metadata": {
        "id": "hW-FNaBagmSC"
      },
      "source": [
        "\n",
        "<center><img align=center src =\"https://images.squarespace-cdn.com/content/v1/59a875abf5e2315ed0b1e769/d531c038-5658-41e6-9df0-b68f40d3f1fd/image2_the-definitive-guide-on-ecommerce-shipping.png\" width = 500></img></center>\n",
        "<h1 align=center><font size = 6>Meningkatkan Ketepatan Waktu dengan Analisis Data dan Model Prediksi</font></h1>\n",
        "\n",
        "\n",
        "------------------------------------------------"
      ]
    },
    {
      "cell_type": "markdown",
      "metadata": {
        "id": "X6ulee_4XrOn"
      },
      "source": [
        "# Perkenalan"
      ]
    },
    {
      "cell_type": "markdown",
      "metadata": {
        "id": "RLRwYqZRX7b1"
      },
      "source": [
        "\n",
        "\n",
        "--------------------------------------------------------------\n",
        "\n",
        "<h1 align=center><font size = 6>Project Model Prediksi</font></h1>\n",
        "\n",
        "\n",
        "<h1 align=center><font size = 5>Nama : Ari Budianto</font></h1>\n",
        "\n",
        "\n",
        "\n",
        "--------------------------------------------------------------\n",
        "\n",
        "\n"
      ]
    },
    {
      "cell_type": "markdown",
      "metadata": {
        "id": "RTAGMPEGZcFD"
      },
      "source": [
        "**Latar Belakang**\n",
        "\n",
        "Dalam era digital dan kemajuan teknologi, perdagangan elektronik atau e-commerce telah menjadi bagian integral dari aktivitas bisnis dan pembelian konsumen. E-commerce mencakup berbagai platform dan situs web yang memungkinkan konsumen untuk berbelanja secara online, mulai dari produk fisik hingga layanan digital.\n",
        "\n",
        "Salah satu aspek penting dalam ekosistem e-commerce adalah pengiriman atau shipping. Proses pengiriman yang efisien dan andal sangat penting untuk menjaga kepuasan pelanggan, mengoptimalkan biaya operasional, dan memastikan kelancaran bisnis e-commerce.\n",
        "\n",
        "Pengiriman tepat waktu adalah salah satu aspek penting dalam operasi e-commerce yang berpengaruh signifikan terhadap kepuasan pelanggan dan reputasi perusahaan. Ketepatan waktu dalam pengiriman berarti bahwa pesanan pelanggan tiba sesuai dengan estimasi yang telah dijanjikan atau dalam batas waktu yang wajar\n",
        "\n",
        "**Problem Stetment**\n",
        "\n",
        "Dalam konteks industri e-commerce yang berkembang pesat, permasalahan yang dihadapi adalah meningkatnya angka keterlambatan pengiriman, yang dapat mengakibatkan penurunan kepuasan pelanggan. Tantangan ini muncul akibat kerumitan rantai pasokan, keterbatasan sumber daya, dan volume pengiriman yang semakin besar. Oleh karena itu, pernyataan masalah ini bertujuan untuk meningkatkan efisiensi dalam proses pengiriman e-commerce untuk memastikan pengiriman tepat waktu kepada pelanggan dengan mengidentifikasi hambatan utama dalam rantai pasokan dan menghubungkan peningkatan ini dengan tujuan keseluruhan perusahaan e-commerce. Solusi diharapkan dapat mengurangi angka keterlambatan pengiriman dan meningkatkan kepuasan pelanggan dalam waktu yang ditentukan.\n",
        "\n",
        "Informasi yang perlu pembaca pahami adalah pemahaman terhadap dataset untuk mempermudah memahami data kami yaitu :\n",
        "- Reached on time adalah target kami yang berisikan pengiriman yang belum tepat waktu 1 dan tepat waktu 0.\n",
        "\n",
        "0 = Negatif yang artinya pengiriman tepat pada waktu dan 1 = positif yang artinya pengiriman belum tepat pada waktu dengan ini mepermudah mengidentifikasi dalam memahami confusion matrix yang akan kami buat.\n",
        "\n",
        "**Obejektif**\n",
        "\n",
        "Objek yang ingin dicapai :\n",
        "\n",
        "- Untuk mengetahui faktor yang mempengaruhi dalam memprediksi ketepatan waktu\n",
        "- Membuat beberapa model dan mengambil hasil terbaik kemudian di hyperparameter tuning untuk mendapatkan hasil lebih baik.\n",
        "- Memprediksi Reached on time menggunakan DecisionTree, RandomForest, Support Vector Machine (SVM) dan K-Nearest Neighbors (KNN) dan adaboost.\n",
        "- Dan mencari nilai False negativ yang rendah,mengidentifikasi sebanyak mungkin kasus di mana pengiriman sebenarnya tidak tepat waktu, maka recall dapat menjadi lebih penting. Ini mungkin terjadi jika tidak memenuhi waktu pengiriman dapat mengakibatkan kerugian besar dalam bisnis Anda atau kecewa pada pelanggan yang tidak dapat diterima.\n",
        "\n"
      ]
    },
    {
      "cell_type": "markdown",
      "metadata": {
        "id": "-zDG6_8DYIgT"
      },
      "source": [
        "# Import Library"
      ]
    },
    {
      "cell_type": "code",
      "execution_count": 61,
      "metadata": {
        "colab": {
          "base_uri": "https://localhost:8080/"
        },
        "id": "zD0Ab9wfC9Em",
        "outputId": "7863e904-f9b7-461a-c7be-5add2ae537b5"
      },
      "outputs": [
        {
          "name": "stdout",
          "output_type": "stream",
          "text": [
            "Requirement already satisfied: feature-engine in /usr/local/lib/python3.10/dist-packages (1.6.1)\n",
            "Requirement already satisfied: numpy>=1.18.2 in /usr/local/lib/python3.10/dist-packages (from feature-engine) (1.23.5)\n",
            "Requirement already satisfied: pandas>=1.0.3 in /usr/local/lib/python3.10/dist-packages (from feature-engine) (1.5.3)\n",
            "Requirement already satisfied: scikit-learn>=1.0.0 in /usr/local/lib/python3.10/dist-packages (from feature-engine) (1.2.2)\n",
            "Requirement already satisfied: scipy>=1.4.1 in /usr/local/lib/python3.10/dist-packages (from feature-engine) (1.11.2)\n",
            "Requirement already satisfied: statsmodels>=0.11.1 in /usr/local/lib/python3.10/dist-packages (from feature-engine) (0.14.0)\n",
            "Requirement already satisfied: python-dateutil>=2.8.1 in /usr/local/lib/python3.10/dist-packages (from pandas>=1.0.3->feature-engine) (2.8.2)\n",
            "Requirement already satisfied: pytz>=2020.1 in /usr/local/lib/python3.10/dist-packages (from pandas>=1.0.3->feature-engine) (2023.3.post1)\n",
            "Requirement already satisfied: joblib>=1.1.1 in /usr/local/lib/python3.10/dist-packages (from scikit-learn>=1.0.0->feature-engine) (1.3.2)\n",
            "Requirement already satisfied: threadpoolctl>=2.0.0 in /usr/local/lib/python3.10/dist-packages (from scikit-learn>=1.0.0->feature-engine) (3.2.0)\n",
            "Requirement already satisfied: patsy>=0.5.2 in /usr/local/lib/python3.10/dist-packages (from statsmodels>=0.11.1->feature-engine) (0.5.3)\n",
            "Requirement already satisfied: packaging>=21.3 in /usr/local/lib/python3.10/dist-packages (from statsmodels>=0.11.1->feature-engine) (23.1)\n",
            "Requirement already satisfied: six in /usr/local/lib/python3.10/dist-packages (from patsy>=0.5.2->statsmodels>=0.11.1->feature-engine) (1.16.0)\n"
          ]
        }
      ],
      "source": [
        "!pip install feature-engine"
      ]
    },
    {
      "cell_type": "code",
      "execution_count": 62,
      "metadata": {
        "id": "fc9CfrZlXlC5"
      },
      "outputs": [],
      "source": [
        "# Import Pandas dan numpy\n",
        "import pandas as pd\n",
        "import numpy as np\n",
        "\n",
        "# Import visualisasi\n",
        "import seaborn as sns\n",
        "import matplotlib.pyplot as plt\n",
        "import plotly.express as px\n",
        "\n",
        "# Import train test split\n",
        "from sklearn.model_selection import train_test_split\n",
        "\n",
        "#import untuk Outlier\n",
        "from scipy.stats import skew\n",
        "\n",
        "# # import caping\n",
        "from feature_engine.outliers import Winsorizer\n",
        "\n",
        "# Import scaling and encoder\n",
        "from sklearn.preprocessing import MinMaxScaler\n",
        "from sklearn.preprocessing import OneHotEncoder\n",
        "from sklearn.preprocessing import OrdinalEncoder\n",
        "\n",
        "# Import Pipeline\n",
        "from sklearn.pipeline import make_pipeline\n",
        "from sklearn.compose import ColumnTransformer\n",
        "\n",
        "# Import Model\n",
        "from sklearn.neighbors import KNeighborsClassifier\n",
        "from sklearn.svm import SVC\n",
        "from sklearn.tree import DecisionTreeClassifier\n",
        "from sklearn.ensemble import RandomForestClassifier\n",
        "from sklearn.metrics import classification_report\n",
        "from sklearn.metrics import ConfusionMatrixDisplay\n",
        "from sklearn.metrics import confusion_matrix, recall_score\n",
        "from sklearn.model_selection import GridSearchCV\n",
        "from xgboost import XGBClassifier\n",
        "\n",
        "# Import cv dan skfold\n",
        "from sklearn.model_selection import cross_val_score\n",
        "from sklearn.model_selection import StratifiedKFold\n",
        "import pickle\n",
        "\n",
        "\n",
        "from warnings import filterwarnings\n",
        "filterwarnings('ignore')"
      ]
    },
    {
      "cell_type": "markdown",
      "metadata": {
        "id": "zL6M68zzYhLd"
      },
      "source": [
        "# Data Loading\n",
        "Data Loading adalah proses menyalin dan memuat data atau kumpulan data dari file sumber, folder atau aplikasi ke database atau aplikasi serupa. Pada project ini, data loading dilakukan dengan cara import file csv. Data di dapatkan di Kaggle https://www.kaggle.com/datasets/prachi13/customer-analytics"
      ]
    },
    {
      "cell_type": "markdown",
      "metadata": {
        "id": "j2290BYYaEx8"
      },
      "source": [
        "| No. | Nama Kolom | Deskripsi |\n",
        "|-----|----------- | --------- |\n",
        "|1|ID| Nomor identifikasi pelanggan. |\n",
        "|2|Warehouse block| Blok gudang tempat produk disimpan. Ada beberapa blok gudang, seperti A, B, C, D, dan E. |\n",
        "|3|Mode of shipment| Metode pengiriman produk. |\n",
        "|4|Customer care calls| Jumlah panggilan yang dibuat oleh pelanggan untuk menanyakan tentang pengiriman produk atau permintaan lain terkait pengiriman. |\n",
        "|5|Customer rating| Penilaian yang diberikan oleh pelanggan kepada perusahaan. Skala penilaian berkisar dari 1 (terburuk) hingga 5 (terbaik).  |\n",
        "|6|Cost of the product| Biaya produk dalam mata uang Ini adalah harga atau biaya produk yang dibeli oleh pelanggan. |\n",
        "|7|Prior purchases| Jumlah pembelian sebelumnya yang dilakukan oleh pelanggan.|\n",
        "|8|Product importance| Kategori Produk low, medium,dan high. |\n",
        "|9|Gender| Jenis Kelamin pelanggan |\n",
        "|10|Discount offered| Diskon yang ditawarkan pada produk tertentu. |\n",
        "|11|Weight in gms| Berat produk dalam gram.|\n",
        "|12|Reached on time | Variabel target, dimana 1 menandakan produk BELUM sampai tepat waktu dan 0 menandakan produk sampai tepat waktu. |"
      ]
    },
    {
      "cell_type": "code",
      "execution_count": 63,
      "metadata": {
        "id": "hXMskY8OYkW2"
      },
      "outputs": [],
      "source": [
        "# Menampung csv ke variable df\n",
        "df = pd.read_csv('Shipping.csv')"
      ]
    },
    {
      "cell_type": "code",
      "execution_count": 64,
      "metadata": {
        "colab": {
          "base_uri": "https://localhost:8080/",
          "height": 226
        },
        "id": "Zqf0yKGMY4Vp",
        "outputId": "9c488d5a-a5e9-474c-cc56-6eb0dbf20df4"
      },
      "outputs": [
        {
          "data": {
            "text/html": [
              "\n",
              "  <div id=\"df-163807cd-b245-419a-b2f7-e2214ccc3cd2\" class=\"colab-df-container\">\n",
              "    <div>\n",
              "<style scoped>\n",
              "    .dataframe tbody tr th:only-of-type {\n",
              "        vertical-align: middle;\n",
              "    }\n",
              "\n",
              "    .dataframe tbody tr th {\n",
              "        vertical-align: top;\n",
              "    }\n",
              "\n",
              "    .dataframe thead th {\n",
              "        text-align: right;\n",
              "    }\n",
              "</style>\n",
              "<table border=\"1\" class=\"dataframe\">\n",
              "  <thead>\n",
              "    <tr style=\"text-align: right;\">\n",
              "      <th></th>\n",
              "      <th>ID</th>\n",
              "      <th>Warehouse_block</th>\n",
              "      <th>Mode_of_Shipment</th>\n",
              "      <th>Customer_care_calls</th>\n",
              "      <th>Customer_rating</th>\n",
              "      <th>Cost_of_the_Product</th>\n",
              "      <th>Prior_purchases</th>\n",
              "      <th>Product_importance</th>\n",
              "      <th>Gender</th>\n",
              "      <th>Discount_offered</th>\n",
              "      <th>Weight_in_gms</th>\n",
              "      <th>Reached.on.Time_Y.N</th>\n",
              "    </tr>\n",
              "  </thead>\n",
              "  <tbody>\n",
              "    <tr>\n",
              "      <th>0</th>\n",
              "      <td>1</td>\n",
              "      <td>D</td>\n",
              "      <td>Flight</td>\n",
              "      <td>4</td>\n",
              "      <td>2</td>\n",
              "      <td>177</td>\n",
              "      <td>3</td>\n",
              "      <td>low</td>\n",
              "      <td>F</td>\n",
              "      <td>44</td>\n",
              "      <td>1233</td>\n",
              "      <td>1</td>\n",
              "    </tr>\n",
              "    <tr>\n",
              "      <th>1</th>\n",
              "      <td>2</td>\n",
              "      <td>F</td>\n",
              "      <td>Flight</td>\n",
              "      <td>4</td>\n",
              "      <td>5</td>\n",
              "      <td>216</td>\n",
              "      <td>2</td>\n",
              "      <td>low</td>\n",
              "      <td>M</td>\n",
              "      <td>59</td>\n",
              "      <td>3088</td>\n",
              "      <td>1</td>\n",
              "    </tr>\n",
              "    <tr>\n",
              "      <th>2</th>\n",
              "      <td>3</td>\n",
              "      <td>A</td>\n",
              "      <td>Flight</td>\n",
              "      <td>2</td>\n",
              "      <td>2</td>\n",
              "      <td>183</td>\n",
              "      <td>4</td>\n",
              "      <td>low</td>\n",
              "      <td>M</td>\n",
              "      <td>48</td>\n",
              "      <td>3374</td>\n",
              "      <td>1</td>\n",
              "    </tr>\n",
              "    <tr>\n",
              "      <th>3</th>\n",
              "      <td>4</td>\n",
              "      <td>B</td>\n",
              "      <td>Flight</td>\n",
              "      <td>3</td>\n",
              "      <td>3</td>\n",
              "      <td>176</td>\n",
              "      <td>4</td>\n",
              "      <td>medium</td>\n",
              "      <td>M</td>\n",
              "      <td>10</td>\n",
              "      <td>1177</td>\n",
              "      <td>1</td>\n",
              "    </tr>\n",
              "    <tr>\n",
              "      <th>4</th>\n",
              "      <td>5</td>\n",
              "      <td>C</td>\n",
              "      <td>Flight</td>\n",
              "      <td>2</td>\n",
              "      <td>2</td>\n",
              "      <td>184</td>\n",
              "      <td>3</td>\n",
              "      <td>medium</td>\n",
              "      <td>F</td>\n",
              "      <td>46</td>\n",
              "      <td>2484</td>\n",
              "      <td>1</td>\n",
              "    </tr>\n",
              "  </tbody>\n",
              "</table>\n",
              "</div>\n",
              "    <div class=\"colab-df-buttons\">\n",
              "\n",
              "  <div class=\"colab-df-container\">\n",
              "    <button class=\"colab-df-convert\" onclick=\"convertToInteractive('df-163807cd-b245-419a-b2f7-e2214ccc3cd2')\"\n",
              "            title=\"Convert this dataframe to an interactive table.\"\n",
              "            style=\"display:none;\">\n",
              "\n",
              "  <svg xmlns=\"http://www.w3.org/2000/svg\" height=\"24px\" viewBox=\"0 -960 960 960\">\n",
              "    <path d=\"M120-120v-720h720v720H120Zm60-500h600v-160H180v160Zm220 220h160v-160H400v160Zm0 220h160v-160H400v160ZM180-400h160v-160H180v160Zm440 0h160v-160H620v160ZM180-180h160v-160H180v160Zm440 0h160v-160H620v160Z\"/>\n",
              "  </svg>\n",
              "    </button>\n",
              "\n",
              "  <style>\n",
              "    .colab-df-container {\n",
              "      display:flex;\n",
              "      gap: 12px;\n",
              "    }\n",
              "\n",
              "    .colab-df-convert {\n",
              "      background-color: #E8F0FE;\n",
              "      border: none;\n",
              "      border-radius: 50%;\n",
              "      cursor: pointer;\n",
              "      display: none;\n",
              "      fill: #1967D2;\n",
              "      height: 32px;\n",
              "      padding: 0 0 0 0;\n",
              "      width: 32px;\n",
              "    }\n",
              "\n",
              "    .colab-df-convert:hover {\n",
              "      background-color: #E2EBFA;\n",
              "      box-shadow: 0px 1px 2px rgba(60, 64, 67, 0.3), 0px 1px 3px 1px rgba(60, 64, 67, 0.15);\n",
              "      fill: #174EA6;\n",
              "    }\n",
              "\n",
              "    .colab-df-buttons div {\n",
              "      margin-bottom: 4px;\n",
              "    }\n",
              "\n",
              "    [theme=dark] .colab-df-convert {\n",
              "      background-color: #3B4455;\n",
              "      fill: #D2E3FC;\n",
              "    }\n",
              "\n",
              "    [theme=dark] .colab-df-convert:hover {\n",
              "      background-color: #434B5C;\n",
              "      box-shadow: 0px 1px 3px 1px rgba(0, 0, 0, 0.15);\n",
              "      filter: drop-shadow(0px 1px 2px rgba(0, 0, 0, 0.3));\n",
              "      fill: #FFFFFF;\n",
              "    }\n",
              "  </style>\n",
              "\n",
              "    <script>\n",
              "      const buttonEl =\n",
              "        document.querySelector('#df-163807cd-b245-419a-b2f7-e2214ccc3cd2 button.colab-df-convert');\n",
              "      buttonEl.style.display =\n",
              "        google.colab.kernel.accessAllowed ? 'block' : 'none';\n",
              "\n",
              "      async function convertToInteractive(key) {\n",
              "        const element = document.querySelector('#df-163807cd-b245-419a-b2f7-e2214ccc3cd2');\n",
              "        const dataTable =\n",
              "          await google.colab.kernel.invokeFunction('convertToInteractive',\n",
              "                                                    [key], {});\n",
              "        if (!dataTable) return;\n",
              "\n",
              "        const docLinkHtml = 'Like what you see? Visit the ' +\n",
              "          '<a target=\"_blank\" href=https://colab.research.google.com/notebooks/data_table.ipynb>data table notebook</a>'\n",
              "          + ' to learn more about interactive tables.';\n",
              "        element.innerHTML = '';\n",
              "        dataTable['output_type'] = 'display_data';\n",
              "        await google.colab.output.renderOutput(dataTable, element);\n",
              "        const docLink = document.createElement('div');\n",
              "        docLink.innerHTML = docLinkHtml;\n",
              "        element.appendChild(docLink);\n",
              "      }\n",
              "    </script>\n",
              "  </div>\n",
              "\n",
              "\n",
              "<div id=\"df-1ed64e7b-176b-429c-8c52-2a12ab2aa2c2\">\n",
              "  <button class=\"colab-df-quickchart\" onclick=\"quickchart('df-1ed64e7b-176b-429c-8c52-2a12ab2aa2c2')\"\n",
              "            title=\"Suggest charts.\"\n",
              "            style=\"display:none;\">\n",
              "\n",
              "<svg xmlns=\"http://www.w3.org/2000/svg\" height=\"24px\"viewBox=\"0 0 24 24\"\n",
              "     width=\"24px\">\n",
              "    <g>\n",
              "        <path d=\"M19 3H5c-1.1 0-2 .9-2 2v14c0 1.1.9 2 2 2h14c1.1 0 2-.9 2-2V5c0-1.1-.9-2-2-2zM9 17H7v-7h2v7zm4 0h-2V7h2v10zm4 0h-2v-4h2v4z\"/>\n",
              "    </g>\n",
              "</svg>\n",
              "  </button>\n",
              "\n",
              "<style>\n",
              "  .colab-df-quickchart {\n",
              "      --bg-color: #E8F0FE;\n",
              "      --fill-color: #1967D2;\n",
              "      --hover-bg-color: #E2EBFA;\n",
              "      --hover-fill-color: #174EA6;\n",
              "      --disabled-fill-color: #AAA;\n",
              "      --disabled-bg-color: #DDD;\n",
              "  }\n",
              "\n",
              "  [theme=dark] .colab-df-quickchart {\n",
              "      --bg-color: #3B4455;\n",
              "      --fill-color: #D2E3FC;\n",
              "      --hover-bg-color: #434B5C;\n",
              "      --hover-fill-color: #FFFFFF;\n",
              "      --disabled-bg-color: #3B4455;\n",
              "      --disabled-fill-color: #666;\n",
              "  }\n",
              "\n",
              "  .colab-df-quickchart {\n",
              "    background-color: var(--bg-color);\n",
              "    border: none;\n",
              "    border-radius: 50%;\n",
              "    cursor: pointer;\n",
              "    display: none;\n",
              "    fill: var(--fill-color);\n",
              "    height: 32px;\n",
              "    padding: 0;\n",
              "    width: 32px;\n",
              "  }\n",
              "\n",
              "  .colab-df-quickchart:hover {\n",
              "    background-color: var(--hover-bg-color);\n",
              "    box-shadow: 0 1px 2px rgba(60, 64, 67, 0.3), 0 1px 3px 1px rgba(60, 64, 67, 0.15);\n",
              "    fill: var(--button-hover-fill-color);\n",
              "  }\n",
              "\n",
              "  .colab-df-quickchart-complete:disabled,\n",
              "  .colab-df-quickchart-complete:disabled:hover {\n",
              "    background-color: var(--disabled-bg-color);\n",
              "    fill: var(--disabled-fill-color);\n",
              "    box-shadow: none;\n",
              "  }\n",
              "\n",
              "  .colab-df-spinner {\n",
              "    border: 2px solid var(--fill-color);\n",
              "    border-color: transparent;\n",
              "    border-bottom-color: var(--fill-color);\n",
              "    animation:\n",
              "      spin 1s steps(1) infinite;\n",
              "  }\n",
              "\n",
              "  @keyframes spin {\n",
              "    0% {\n",
              "      border-color: transparent;\n",
              "      border-bottom-color: var(--fill-color);\n",
              "      border-left-color: var(--fill-color);\n",
              "    }\n",
              "    20% {\n",
              "      border-color: transparent;\n",
              "      border-left-color: var(--fill-color);\n",
              "      border-top-color: var(--fill-color);\n",
              "    }\n",
              "    30% {\n",
              "      border-color: transparent;\n",
              "      border-left-color: var(--fill-color);\n",
              "      border-top-color: var(--fill-color);\n",
              "      border-right-color: var(--fill-color);\n",
              "    }\n",
              "    40% {\n",
              "      border-color: transparent;\n",
              "      border-right-color: var(--fill-color);\n",
              "      border-top-color: var(--fill-color);\n",
              "    }\n",
              "    60% {\n",
              "      border-color: transparent;\n",
              "      border-right-color: var(--fill-color);\n",
              "    }\n",
              "    80% {\n",
              "      border-color: transparent;\n",
              "      border-right-color: var(--fill-color);\n",
              "      border-bottom-color: var(--fill-color);\n",
              "    }\n",
              "    90% {\n",
              "      border-color: transparent;\n",
              "      border-bottom-color: var(--fill-color);\n",
              "    }\n",
              "  }\n",
              "</style>\n",
              "\n",
              "  <script>\n",
              "    async function quickchart(key) {\n",
              "      const quickchartButtonEl =\n",
              "        document.querySelector('#' + key + ' button');\n",
              "      quickchartButtonEl.disabled = true;  // To prevent multiple clicks.\n",
              "      quickchartButtonEl.classList.add('colab-df-spinner');\n",
              "      try {\n",
              "        const charts = await google.colab.kernel.invokeFunction(\n",
              "            'suggestCharts', [key], {});\n",
              "      } catch (error) {\n",
              "        console.error('Error during call to suggestCharts:', error);\n",
              "      }\n",
              "      quickchartButtonEl.classList.remove('colab-df-spinner');\n",
              "      quickchartButtonEl.classList.add('colab-df-quickchart-complete');\n",
              "    }\n",
              "    (() => {\n",
              "      let quickchartButtonEl =\n",
              "        document.querySelector('#df-1ed64e7b-176b-429c-8c52-2a12ab2aa2c2 button');\n",
              "      quickchartButtonEl.style.display =\n",
              "        google.colab.kernel.accessAllowed ? 'block' : 'none';\n",
              "    })();\n",
              "  </script>\n",
              "</div>\n",
              "    </div>\n",
              "  </div>\n"
            ],
            "text/plain": [
              "   ID Warehouse_block Mode_of_Shipment  Customer_care_calls  Customer_rating  \\\n",
              "0   1               D           Flight                    4                2   \n",
              "1   2               F           Flight                    4                5   \n",
              "2   3               A           Flight                    2                2   \n",
              "3   4               B           Flight                    3                3   \n",
              "4   5               C           Flight                    2                2   \n",
              "\n",
              "   Cost_of_the_Product  Prior_purchases Product_importance Gender  \\\n",
              "0                  177                3                low      F   \n",
              "1                  216                2                low      M   \n",
              "2                  183                4                low      M   \n",
              "3                  176                4             medium      M   \n",
              "4                  184                3             medium      F   \n",
              "\n",
              "   Discount_offered  Weight_in_gms  Reached.on.Time_Y.N  \n",
              "0                44           1233                    1  \n",
              "1                59           3088                    1  \n",
              "2                48           3374                    1  \n",
              "3                10           1177                    1  \n",
              "4                46           2484                    1  "
            ]
          },
          "execution_count": 64,
          "metadata": {},
          "output_type": "execute_result"
        }
      ],
      "source": [
        "# Menampilkan data\n",
        "df.head()"
      ]
    },
    {
      "cell_type": "code",
      "execution_count": 65,
      "metadata": {
        "colab": {
          "base_uri": "https://localhost:8080/",
          "height": 226
        },
        "id": "EymDYNcoZI9Y",
        "outputId": "6d00842d-f6ce-4886-bae6-02cb8d2cba87"
      },
      "outputs": [
        {
          "data": {
            "text/html": [
              "\n",
              "  <div id=\"df-e6ae57fd-89fd-46f2-9e46-bd47aef1d2ed\" class=\"colab-df-container\">\n",
              "    <div>\n",
              "<style scoped>\n",
              "    .dataframe tbody tr th:only-of-type {\n",
              "        vertical-align: middle;\n",
              "    }\n",
              "\n",
              "    .dataframe tbody tr th {\n",
              "        vertical-align: top;\n",
              "    }\n",
              "\n",
              "    .dataframe thead th {\n",
              "        text-align: right;\n",
              "    }\n",
              "</style>\n",
              "<table border=\"1\" class=\"dataframe\">\n",
              "  <thead>\n",
              "    <tr style=\"text-align: right;\">\n",
              "      <th></th>\n",
              "      <th>ID</th>\n",
              "      <th>Warehouse_block</th>\n",
              "      <th>Mode_of_Shipment</th>\n",
              "      <th>Customer_care_calls</th>\n",
              "      <th>Customer_rating</th>\n",
              "      <th>Cost_of_the_Product</th>\n",
              "      <th>Prior_purchases</th>\n",
              "      <th>Product_importance</th>\n",
              "      <th>Gender</th>\n",
              "      <th>Discount_offered</th>\n",
              "      <th>Weight_in_gms</th>\n",
              "      <th>Reached.on.Time_Y.N</th>\n",
              "    </tr>\n",
              "  </thead>\n",
              "  <tbody>\n",
              "    <tr>\n",
              "      <th>10994</th>\n",
              "      <td>10995</td>\n",
              "      <td>A</td>\n",
              "      <td>Ship</td>\n",
              "      <td>4</td>\n",
              "      <td>1</td>\n",
              "      <td>252</td>\n",
              "      <td>5</td>\n",
              "      <td>medium</td>\n",
              "      <td>F</td>\n",
              "      <td>1</td>\n",
              "      <td>1538</td>\n",
              "      <td>1</td>\n",
              "    </tr>\n",
              "    <tr>\n",
              "      <th>10995</th>\n",
              "      <td>10996</td>\n",
              "      <td>B</td>\n",
              "      <td>Ship</td>\n",
              "      <td>4</td>\n",
              "      <td>1</td>\n",
              "      <td>232</td>\n",
              "      <td>5</td>\n",
              "      <td>medium</td>\n",
              "      <td>F</td>\n",
              "      <td>6</td>\n",
              "      <td>1247</td>\n",
              "      <td>0</td>\n",
              "    </tr>\n",
              "    <tr>\n",
              "      <th>10996</th>\n",
              "      <td>10997</td>\n",
              "      <td>C</td>\n",
              "      <td>Ship</td>\n",
              "      <td>5</td>\n",
              "      <td>4</td>\n",
              "      <td>242</td>\n",
              "      <td>5</td>\n",
              "      <td>low</td>\n",
              "      <td>F</td>\n",
              "      <td>4</td>\n",
              "      <td>1155</td>\n",
              "      <td>0</td>\n",
              "    </tr>\n",
              "    <tr>\n",
              "      <th>10997</th>\n",
              "      <td>10998</td>\n",
              "      <td>F</td>\n",
              "      <td>Ship</td>\n",
              "      <td>5</td>\n",
              "      <td>2</td>\n",
              "      <td>223</td>\n",
              "      <td>6</td>\n",
              "      <td>medium</td>\n",
              "      <td>M</td>\n",
              "      <td>2</td>\n",
              "      <td>1210</td>\n",
              "      <td>0</td>\n",
              "    </tr>\n",
              "    <tr>\n",
              "      <th>10998</th>\n",
              "      <td>10999</td>\n",
              "      <td>D</td>\n",
              "      <td>Ship</td>\n",
              "      <td>2</td>\n",
              "      <td>5</td>\n",
              "      <td>155</td>\n",
              "      <td>5</td>\n",
              "      <td>low</td>\n",
              "      <td>F</td>\n",
              "      <td>6</td>\n",
              "      <td>1639</td>\n",
              "      <td>0</td>\n",
              "    </tr>\n",
              "  </tbody>\n",
              "</table>\n",
              "</div>\n",
              "    <div class=\"colab-df-buttons\">\n",
              "\n",
              "  <div class=\"colab-df-container\">\n",
              "    <button class=\"colab-df-convert\" onclick=\"convertToInteractive('df-e6ae57fd-89fd-46f2-9e46-bd47aef1d2ed')\"\n",
              "            title=\"Convert this dataframe to an interactive table.\"\n",
              "            style=\"display:none;\">\n",
              "\n",
              "  <svg xmlns=\"http://www.w3.org/2000/svg\" height=\"24px\" viewBox=\"0 -960 960 960\">\n",
              "    <path d=\"M120-120v-720h720v720H120Zm60-500h600v-160H180v160Zm220 220h160v-160H400v160Zm0 220h160v-160H400v160ZM180-400h160v-160H180v160Zm440 0h160v-160H620v160ZM180-180h160v-160H180v160Zm440 0h160v-160H620v160Z\"/>\n",
              "  </svg>\n",
              "    </button>\n",
              "\n",
              "  <style>\n",
              "    .colab-df-container {\n",
              "      display:flex;\n",
              "      gap: 12px;\n",
              "    }\n",
              "\n",
              "    .colab-df-convert {\n",
              "      background-color: #E8F0FE;\n",
              "      border: none;\n",
              "      border-radius: 50%;\n",
              "      cursor: pointer;\n",
              "      display: none;\n",
              "      fill: #1967D2;\n",
              "      height: 32px;\n",
              "      padding: 0 0 0 0;\n",
              "      width: 32px;\n",
              "    }\n",
              "\n",
              "    .colab-df-convert:hover {\n",
              "      background-color: #E2EBFA;\n",
              "      box-shadow: 0px 1px 2px rgba(60, 64, 67, 0.3), 0px 1px 3px 1px rgba(60, 64, 67, 0.15);\n",
              "      fill: #174EA6;\n",
              "    }\n",
              "\n",
              "    .colab-df-buttons div {\n",
              "      margin-bottom: 4px;\n",
              "    }\n",
              "\n",
              "    [theme=dark] .colab-df-convert {\n",
              "      background-color: #3B4455;\n",
              "      fill: #D2E3FC;\n",
              "    }\n",
              "\n",
              "    [theme=dark] .colab-df-convert:hover {\n",
              "      background-color: #434B5C;\n",
              "      box-shadow: 0px 1px 3px 1px rgba(0, 0, 0, 0.15);\n",
              "      filter: drop-shadow(0px 1px 2px rgba(0, 0, 0, 0.3));\n",
              "      fill: #FFFFFF;\n",
              "    }\n",
              "  </style>\n",
              "\n",
              "    <script>\n",
              "      const buttonEl =\n",
              "        document.querySelector('#df-e6ae57fd-89fd-46f2-9e46-bd47aef1d2ed button.colab-df-convert');\n",
              "      buttonEl.style.display =\n",
              "        google.colab.kernel.accessAllowed ? 'block' : 'none';\n",
              "\n",
              "      async function convertToInteractive(key) {\n",
              "        const element = document.querySelector('#df-e6ae57fd-89fd-46f2-9e46-bd47aef1d2ed');\n",
              "        const dataTable =\n",
              "          await google.colab.kernel.invokeFunction('convertToInteractive',\n",
              "                                                    [key], {});\n",
              "        if (!dataTable) return;\n",
              "\n",
              "        const docLinkHtml = 'Like what you see? Visit the ' +\n",
              "          '<a target=\"_blank\" href=https://colab.research.google.com/notebooks/data_table.ipynb>data table notebook</a>'\n",
              "          + ' to learn more about interactive tables.';\n",
              "        element.innerHTML = '';\n",
              "        dataTable['output_type'] = 'display_data';\n",
              "        await google.colab.output.renderOutput(dataTable, element);\n",
              "        const docLink = document.createElement('div');\n",
              "        docLink.innerHTML = docLinkHtml;\n",
              "        element.appendChild(docLink);\n",
              "      }\n",
              "    </script>\n",
              "  </div>\n",
              "\n",
              "\n",
              "<div id=\"df-ced31e89-d62e-4501-8dca-be21e1d85fc3\">\n",
              "  <button class=\"colab-df-quickchart\" onclick=\"quickchart('df-ced31e89-d62e-4501-8dca-be21e1d85fc3')\"\n",
              "            title=\"Suggest charts.\"\n",
              "            style=\"display:none;\">\n",
              "\n",
              "<svg xmlns=\"http://www.w3.org/2000/svg\" height=\"24px\"viewBox=\"0 0 24 24\"\n",
              "     width=\"24px\">\n",
              "    <g>\n",
              "        <path d=\"M19 3H5c-1.1 0-2 .9-2 2v14c0 1.1.9 2 2 2h14c1.1 0 2-.9 2-2V5c0-1.1-.9-2-2-2zM9 17H7v-7h2v7zm4 0h-2V7h2v10zm4 0h-2v-4h2v4z\"/>\n",
              "    </g>\n",
              "</svg>\n",
              "  </button>\n",
              "\n",
              "<style>\n",
              "  .colab-df-quickchart {\n",
              "      --bg-color: #E8F0FE;\n",
              "      --fill-color: #1967D2;\n",
              "      --hover-bg-color: #E2EBFA;\n",
              "      --hover-fill-color: #174EA6;\n",
              "      --disabled-fill-color: #AAA;\n",
              "      --disabled-bg-color: #DDD;\n",
              "  }\n",
              "\n",
              "  [theme=dark] .colab-df-quickchart {\n",
              "      --bg-color: #3B4455;\n",
              "      --fill-color: #D2E3FC;\n",
              "      --hover-bg-color: #434B5C;\n",
              "      --hover-fill-color: #FFFFFF;\n",
              "      --disabled-bg-color: #3B4455;\n",
              "      --disabled-fill-color: #666;\n",
              "  }\n",
              "\n",
              "  .colab-df-quickchart {\n",
              "    background-color: var(--bg-color);\n",
              "    border: none;\n",
              "    border-radius: 50%;\n",
              "    cursor: pointer;\n",
              "    display: none;\n",
              "    fill: var(--fill-color);\n",
              "    height: 32px;\n",
              "    padding: 0;\n",
              "    width: 32px;\n",
              "  }\n",
              "\n",
              "  .colab-df-quickchart:hover {\n",
              "    background-color: var(--hover-bg-color);\n",
              "    box-shadow: 0 1px 2px rgba(60, 64, 67, 0.3), 0 1px 3px 1px rgba(60, 64, 67, 0.15);\n",
              "    fill: var(--button-hover-fill-color);\n",
              "  }\n",
              "\n",
              "  .colab-df-quickchart-complete:disabled,\n",
              "  .colab-df-quickchart-complete:disabled:hover {\n",
              "    background-color: var(--disabled-bg-color);\n",
              "    fill: var(--disabled-fill-color);\n",
              "    box-shadow: none;\n",
              "  }\n",
              "\n",
              "  .colab-df-spinner {\n",
              "    border: 2px solid var(--fill-color);\n",
              "    border-color: transparent;\n",
              "    border-bottom-color: var(--fill-color);\n",
              "    animation:\n",
              "      spin 1s steps(1) infinite;\n",
              "  }\n",
              "\n",
              "  @keyframes spin {\n",
              "    0% {\n",
              "      border-color: transparent;\n",
              "      border-bottom-color: var(--fill-color);\n",
              "      border-left-color: var(--fill-color);\n",
              "    }\n",
              "    20% {\n",
              "      border-color: transparent;\n",
              "      border-left-color: var(--fill-color);\n",
              "      border-top-color: var(--fill-color);\n",
              "    }\n",
              "    30% {\n",
              "      border-color: transparent;\n",
              "      border-left-color: var(--fill-color);\n",
              "      border-top-color: var(--fill-color);\n",
              "      border-right-color: var(--fill-color);\n",
              "    }\n",
              "    40% {\n",
              "      border-color: transparent;\n",
              "      border-right-color: var(--fill-color);\n",
              "      border-top-color: var(--fill-color);\n",
              "    }\n",
              "    60% {\n",
              "      border-color: transparent;\n",
              "      border-right-color: var(--fill-color);\n",
              "    }\n",
              "    80% {\n",
              "      border-color: transparent;\n",
              "      border-right-color: var(--fill-color);\n",
              "      border-bottom-color: var(--fill-color);\n",
              "    }\n",
              "    90% {\n",
              "      border-color: transparent;\n",
              "      border-bottom-color: var(--fill-color);\n",
              "    }\n",
              "  }\n",
              "</style>\n",
              "\n",
              "  <script>\n",
              "    async function quickchart(key) {\n",
              "      const quickchartButtonEl =\n",
              "        document.querySelector('#' + key + ' button');\n",
              "      quickchartButtonEl.disabled = true;  // To prevent multiple clicks.\n",
              "      quickchartButtonEl.classList.add('colab-df-spinner');\n",
              "      try {\n",
              "        const charts = await google.colab.kernel.invokeFunction(\n",
              "            'suggestCharts', [key], {});\n",
              "      } catch (error) {\n",
              "        console.error('Error during call to suggestCharts:', error);\n",
              "      }\n",
              "      quickchartButtonEl.classList.remove('colab-df-spinner');\n",
              "      quickchartButtonEl.classList.add('colab-df-quickchart-complete');\n",
              "    }\n",
              "    (() => {\n",
              "      let quickchartButtonEl =\n",
              "        document.querySelector('#df-ced31e89-d62e-4501-8dca-be21e1d85fc3 button');\n",
              "      quickchartButtonEl.style.display =\n",
              "        google.colab.kernel.accessAllowed ? 'block' : 'none';\n",
              "    })();\n",
              "  </script>\n",
              "</div>\n",
              "    </div>\n",
              "  </div>\n"
            ],
            "text/plain": [
              "          ID Warehouse_block Mode_of_Shipment  Customer_care_calls  \\\n",
              "10994  10995               A             Ship                    4   \n",
              "10995  10996               B             Ship                    4   \n",
              "10996  10997               C             Ship                    5   \n",
              "10997  10998               F             Ship                    5   \n",
              "10998  10999               D             Ship                    2   \n",
              "\n",
              "       Customer_rating  Cost_of_the_Product  Prior_purchases  \\\n",
              "10994                1                  252                5   \n",
              "10995                1                  232                5   \n",
              "10996                4                  242                5   \n",
              "10997                2                  223                6   \n",
              "10998                5                  155                5   \n",
              "\n",
              "      Product_importance Gender  Discount_offered  Weight_in_gms  \\\n",
              "10994             medium      F                 1           1538   \n",
              "10995             medium      F                 6           1247   \n",
              "10996                low      F                 4           1155   \n",
              "10997             medium      M                 2           1210   \n",
              "10998                low      F                 6           1639   \n",
              "\n",
              "       Reached.on.Time_Y.N  \n",
              "10994                    1  \n",
              "10995                    0  \n",
              "10996                    0  \n",
              "10997                    0  \n",
              "10998                    0  "
            ]
          },
          "execution_count": 65,
          "metadata": {},
          "output_type": "execute_result"
        }
      ],
      "source": [
        "# Menampilkan data\n",
        "df.tail()"
      ]
    },
    {
      "cell_type": "markdown",
      "metadata": {
        "id": "Kk6NmLjhdTxC"
      },
      "source": [
        "Data csv di tampung di variable df, data kami tampilkan 5 data teratas dan 5 data ter bawah, terntu saja ini menjadi informasi awal untuk memahami data."
      ]
    },
    {
      "cell_type": "code",
      "execution_count": 66,
      "metadata": {
        "id": "rvLZVqBCNylF"
      },
      "outputs": [],
      "source": [
        "# Change Feature\n",
        "df.rename(columns={'Reached.on.Time_Y.N' : 'Rot'},inplace=True)"
      ]
    },
    {
      "cell_type": "markdown",
      "metadata": {
        "id": "C9eE0EbDdmCv"
      },
      "source": [
        "Mengganti Nama Fitur dengan singkatan agar mempermudah dalam proses selanjutnya."
      ]
    },
    {
      "cell_type": "code",
      "execution_count": 67,
      "metadata": {
        "colab": {
          "base_uri": "https://localhost:8080/"
        },
        "id": "81gnC_CiZgjj",
        "outputId": "daa47397-3791-470a-9e38-11d885a01d4d"
      },
      "outputs": [
        {
          "name": "stdout",
          "output_type": "stream",
          "text": [
            "<class 'pandas.core.frame.DataFrame'>\n",
            "RangeIndex: 10999 entries, 0 to 10998\n",
            "Data columns (total 12 columns):\n",
            " #   Column               Non-Null Count  Dtype \n",
            "---  ------               --------------  ----- \n",
            " 0   ID                   10999 non-null  int64 \n",
            " 1   Warehouse_block      10999 non-null  object\n",
            " 2   Mode_of_Shipment     10999 non-null  object\n",
            " 3   Customer_care_calls  10999 non-null  int64 \n",
            " 4   Customer_rating      10999 non-null  int64 \n",
            " 5   Cost_of_the_Product  10999 non-null  int64 \n",
            " 6   Prior_purchases      10999 non-null  int64 \n",
            " 7   Product_importance   10999 non-null  object\n",
            " 8   Gender               10999 non-null  object\n",
            " 9   Discount_offered     10999 non-null  int64 \n",
            " 10  Weight_in_gms        10999 non-null  int64 \n",
            " 11  Rot                  10999 non-null  int64 \n",
            "dtypes: int64(8), object(4)\n",
            "memory usage: 1.0+ MB\n"
          ]
        }
      ],
      "source": [
        "# Menampilkan Informasi\n",
        "df.info()"
      ]
    },
    {
      "cell_type": "markdown",
      "metadata": {
        "id": "kNAIdDMtd0uE"
      },
      "source": [
        "Data Shipping memiliki 12 kolom, 10999 baris,masing-masing fitur memiliki tipe integer, float dan object serta tidak memiliki missing value."
      ]
    },
    {
      "cell_type": "code",
      "execution_count": 68,
      "metadata": {
        "colab": {
          "base_uri": "https://localhost:8080/"
        },
        "id": "RwKk3cTVZqcP",
        "outputId": "5064c232-8dbc-4b15-865c-411d7d644524"
      },
      "outputs": [
        {
          "data": {
            "text/plain": [
              "0"
            ]
          },
          "execution_count": 68,
          "metadata": {},
          "output_type": "execute_result"
        }
      ],
      "source": [
        "df.duplicated().sum()"
      ]
    },
    {
      "cell_type": "code",
      "execution_count": 69,
      "metadata": {
        "colab": {
          "base_uri": "https://localhost:8080/"
        },
        "id": "ODhdhB6DZ635",
        "outputId": "89bb31a6-c6f5-4a30-8148-b1a15f741961"
      },
      "outputs": [
        {
          "data": {
            "text/plain": [
              "ID                     0\n",
              "Warehouse_block        0\n",
              "Mode_of_Shipment       0\n",
              "Customer_care_calls    0\n",
              "Customer_rating        0\n",
              "Cost_of_the_Product    0\n",
              "Prior_purchases        0\n",
              "Product_importance     0\n",
              "Gender                 0\n",
              "Discount_offered       0\n",
              "Weight_in_gms          0\n",
              "Rot                    0\n",
              "dtype: int64"
            ]
          },
          "execution_count": 69,
          "metadata": {},
          "output_type": "execute_result"
        }
      ],
      "source": [
        "df.isnull().sum()"
      ]
    },
    {
      "cell_type": "markdown",
      "metadata": {
        "id": "gP72MwwVecrE"
      },
      "source": [
        "Dari hasil check pada data tidak memiliki duplikat dan data tidak memiliki missing value ini akan sangat memudahkan dalam proses-proses selanjutnya."
      ]
    },
    {
      "cell_type": "code",
      "execution_count": 70,
      "metadata": {
        "colab": {
          "base_uri": "https://localhost:8080/"
        },
        "id": "b06YLyDRY589",
        "outputId": "79907d78-edd4-4895-a902-1d49eddbc98f"
      },
      "outputs": [
        {
          "name": "stdout",
          "output_type": "stream",
          "text": [
            "Jumlah nilai 0 dalam kolom 'Reached.on.Time_Y.N': 4436\n",
            "Jumlah nilai 1 dalam kolom 'Reached.on.Time_Y.N': 6563\n"
          ]
        }
      ],
      "source": [
        "# Menghitung data target\n",
        "count_0 = df['Rot'].value_counts()[0]\n",
        "count_1 = df['Rot'].value_counts()[1]\n",
        "\n",
        "print(\"Jumlah nilai 0 dalam kolom 'Reached.on.Time_Y.N':\", count_0)\n",
        "print(\"Jumlah nilai 1 dalam kolom 'Reached.on.Time_Y.N':\", count_1)"
      ]
    },
    {
      "cell_type": "markdown",
      "metadata": {
        "id": "-myQIvXVewJ7"
      },
      "source": [
        "Melakukan pengecheckan terhadap data target ternyata data masih normal dan kami anggap masih balance. Jika terjadi penggantian untuk keperluan model, maka data akan kami SMOTE atau SMOTENC untuk membalance kan data target.\n",
        "\n",
        "SMOTE (Synthetic Minority Over-sampling Technique) dan SMOTENC (SMOTE for Nominal and Continuous) adalah dua teknik oversampling yang digunakan dalam pengolahan data yang tidak seimbang, terutama dalam masalah klasifikasi di mana kelas minoritas memiliki jumlah yang jauh lebih kecil daripada kelas mayoritas. Kedua teknik ini dirancang untuk mengatasi ketidakseimbangan tersebut dengan membuat sampel-sampel sintetis untuk kelas minoritas."
      ]
    },
    {
      "cell_type": "markdown",
      "metadata": {
        "id": "hoesvI0q8QPe"
      },
      "source": [
        "# Exploratory Data Analysis (EDA)\n",
        "Exploratory Data Analysis (EDA) merupakan metode eksplorasi data dengan menggunakan teknik aritmatika sederhana dan teknik grafis dalam meringkas data pengamatan. Bagian ini berisi eksplorasi data pada dataset diatas dengan menggunakan query, grouping, visualisasi sederhana, dan lain sebagainya."
      ]
    },
    {
      "cell_type": "code",
      "execution_count": 71,
      "metadata": {
        "colab": {
          "base_uri": "https://localhost:8080/",
          "height": 206
        },
        "id": "bybqaD7M_-vy",
        "outputId": "cd06f092-8c7a-4c4b-a3c8-c054102851c1"
      },
      "outputs": [
        {
          "data": {
            "text/html": [
              "\n",
              "  <div id=\"df-455c1cf3-2aa9-4e12-b9f6-b9753a478c67\" class=\"colab-df-container\">\n",
              "    <div>\n",
              "<style scoped>\n",
              "    .dataframe tbody tr th:only-of-type {\n",
              "        vertical-align: middle;\n",
              "    }\n",
              "\n",
              "    .dataframe tbody tr th {\n",
              "        vertical-align: top;\n",
              "    }\n",
              "\n",
              "    .dataframe thead th {\n",
              "        text-align: right;\n",
              "    }\n",
              "</style>\n",
              "<table border=\"1\" class=\"dataframe\">\n",
              "  <thead>\n",
              "    <tr style=\"text-align: right;\">\n",
              "      <th></th>\n",
              "      <th>Warehouse_block</th>\n",
              "      <th>Mode_of_Shipment</th>\n",
              "      <th>Product_importance</th>\n",
              "      <th>Gender</th>\n",
              "    </tr>\n",
              "  </thead>\n",
              "  <tbody>\n",
              "    <tr>\n",
              "      <th>0</th>\n",
              "      <td>D</td>\n",
              "      <td>Flight</td>\n",
              "      <td>low</td>\n",
              "      <td>F</td>\n",
              "    </tr>\n",
              "    <tr>\n",
              "      <th>1</th>\n",
              "      <td>F</td>\n",
              "      <td>Flight</td>\n",
              "      <td>low</td>\n",
              "      <td>M</td>\n",
              "    </tr>\n",
              "    <tr>\n",
              "      <th>2</th>\n",
              "      <td>A</td>\n",
              "      <td>Flight</td>\n",
              "      <td>low</td>\n",
              "      <td>M</td>\n",
              "    </tr>\n",
              "    <tr>\n",
              "      <th>3</th>\n",
              "      <td>B</td>\n",
              "      <td>Flight</td>\n",
              "      <td>medium</td>\n",
              "      <td>M</td>\n",
              "    </tr>\n",
              "    <tr>\n",
              "      <th>4</th>\n",
              "      <td>C</td>\n",
              "      <td>Flight</td>\n",
              "      <td>medium</td>\n",
              "      <td>F</td>\n",
              "    </tr>\n",
              "  </tbody>\n",
              "</table>\n",
              "</div>\n",
              "    <div class=\"colab-df-buttons\">\n",
              "\n",
              "  <div class=\"colab-df-container\">\n",
              "    <button class=\"colab-df-convert\" onclick=\"convertToInteractive('df-455c1cf3-2aa9-4e12-b9f6-b9753a478c67')\"\n",
              "            title=\"Convert this dataframe to an interactive table.\"\n",
              "            style=\"display:none;\">\n",
              "\n",
              "  <svg xmlns=\"http://www.w3.org/2000/svg\" height=\"24px\" viewBox=\"0 -960 960 960\">\n",
              "    <path d=\"M120-120v-720h720v720H120Zm60-500h600v-160H180v160Zm220 220h160v-160H400v160Zm0 220h160v-160H400v160ZM180-400h160v-160H180v160Zm440 0h160v-160H620v160ZM180-180h160v-160H180v160Zm440 0h160v-160H620v160Z\"/>\n",
              "  </svg>\n",
              "    </button>\n",
              "\n",
              "  <style>\n",
              "    .colab-df-container {\n",
              "      display:flex;\n",
              "      gap: 12px;\n",
              "    }\n",
              "\n",
              "    .colab-df-convert {\n",
              "      background-color: #E8F0FE;\n",
              "      border: none;\n",
              "      border-radius: 50%;\n",
              "      cursor: pointer;\n",
              "      display: none;\n",
              "      fill: #1967D2;\n",
              "      height: 32px;\n",
              "      padding: 0 0 0 0;\n",
              "      width: 32px;\n",
              "    }\n",
              "\n",
              "    .colab-df-convert:hover {\n",
              "      background-color: #E2EBFA;\n",
              "      box-shadow: 0px 1px 2px rgba(60, 64, 67, 0.3), 0px 1px 3px 1px rgba(60, 64, 67, 0.15);\n",
              "      fill: #174EA6;\n",
              "    }\n",
              "\n",
              "    .colab-df-buttons div {\n",
              "      margin-bottom: 4px;\n",
              "    }\n",
              "\n",
              "    [theme=dark] .colab-df-convert {\n",
              "      background-color: #3B4455;\n",
              "      fill: #D2E3FC;\n",
              "    }\n",
              "\n",
              "    [theme=dark] .colab-df-convert:hover {\n",
              "      background-color: #434B5C;\n",
              "      box-shadow: 0px 1px 3px 1px rgba(0, 0, 0, 0.15);\n",
              "      filter: drop-shadow(0px 1px 2px rgba(0, 0, 0, 0.3));\n",
              "      fill: #FFFFFF;\n",
              "    }\n",
              "  </style>\n",
              "\n",
              "    <script>\n",
              "      const buttonEl =\n",
              "        document.querySelector('#df-455c1cf3-2aa9-4e12-b9f6-b9753a478c67 button.colab-df-convert');\n",
              "      buttonEl.style.display =\n",
              "        google.colab.kernel.accessAllowed ? 'block' : 'none';\n",
              "\n",
              "      async function convertToInteractive(key) {\n",
              "        const element = document.querySelector('#df-455c1cf3-2aa9-4e12-b9f6-b9753a478c67');\n",
              "        const dataTable =\n",
              "          await google.colab.kernel.invokeFunction('convertToInteractive',\n",
              "                                                    [key], {});\n",
              "        if (!dataTable) return;\n",
              "\n",
              "        const docLinkHtml = 'Like what you see? Visit the ' +\n",
              "          '<a target=\"_blank\" href=https://colab.research.google.com/notebooks/data_table.ipynb>data table notebook</a>'\n",
              "          + ' to learn more about interactive tables.';\n",
              "        element.innerHTML = '';\n",
              "        dataTable['output_type'] = 'display_data';\n",
              "        await google.colab.output.renderOutput(dataTable, element);\n",
              "        const docLink = document.createElement('div');\n",
              "        docLink.innerHTML = docLinkHtml;\n",
              "        element.appendChild(docLink);\n",
              "      }\n",
              "    </script>\n",
              "  </div>\n",
              "\n",
              "\n",
              "<div id=\"df-8e50e7ae-84e7-4c2d-9c3a-7e576e3e2934\">\n",
              "  <button class=\"colab-df-quickchart\" onclick=\"quickchart('df-8e50e7ae-84e7-4c2d-9c3a-7e576e3e2934')\"\n",
              "            title=\"Suggest charts.\"\n",
              "            style=\"display:none;\">\n",
              "\n",
              "<svg xmlns=\"http://www.w3.org/2000/svg\" height=\"24px\"viewBox=\"0 0 24 24\"\n",
              "     width=\"24px\">\n",
              "    <g>\n",
              "        <path d=\"M19 3H5c-1.1 0-2 .9-2 2v14c0 1.1.9 2 2 2h14c1.1 0 2-.9 2-2V5c0-1.1-.9-2-2-2zM9 17H7v-7h2v7zm4 0h-2V7h2v10zm4 0h-2v-4h2v4z\"/>\n",
              "    </g>\n",
              "</svg>\n",
              "  </button>\n",
              "\n",
              "<style>\n",
              "  .colab-df-quickchart {\n",
              "      --bg-color: #E8F0FE;\n",
              "      --fill-color: #1967D2;\n",
              "      --hover-bg-color: #E2EBFA;\n",
              "      --hover-fill-color: #174EA6;\n",
              "      --disabled-fill-color: #AAA;\n",
              "      --disabled-bg-color: #DDD;\n",
              "  }\n",
              "\n",
              "  [theme=dark] .colab-df-quickchart {\n",
              "      --bg-color: #3B4455;\n",
              "      --fill-color: #D2E3FC;\n",
              "      --hover-bg-color: #434B5C;\n",
              "      --hover-fill-color: #FFFFFF;\n",
              "      --disabled-bg-color: #3B4455;\n",
              "      --disabled-fill-color: #666;\n",
              "  }\n",
              "\n",
              "  .colab-df-quickchart {\n",
              "    background-color: var(--bg-color);\n",
              "    border: none;\n",
              "    border-radius: 50%;\n",
              "    cursor: pointer;\n",
              "    display: none;\n",
              "    fill: var(--fill-color);\n",
              "    height: 32px;\n",
              "    padding: 0;\n",
              "    width: 32px;\n",
              "  }\n",
              "\n",
              "  .colab-df-quickchart:hover {\n",
              "    background-color: var(--hover-bg-color);\n",
              "    box-shadow: 0 1px 2px rgba(60, 64, 67, 0.3), 0 1px 3px 1px rgba(60, 64, 67, 0.15);\n",
              "    fill: var(--button-hover-fill-color);\n",
              "  }\n",
              "\n",
              "  .colab-df-quickchart-complete:disabled,\n",
              "  .colab-df-quickchart-complete:disabled:hover {\n",
              "    background-color: var(--disabled-bg-color);\n",
              "    fill: var(--disabled-fill-color);\n",
              "    box-shadow: none;\n",
              "  }\n",
              "\n",
              "  .colab-df-spinner {\n",
              "    border: 2px solid var(--fill-color);\n",
              "    border-color: transparent;\n",
              "    border-bottom-color: var(--fill-color);\n",
              "    animation:\n",
              "      spin 1s steps(1) infinite;\n",
              "  }\n",
              "\n",
              "  @keyframes spin {\n",
              "    0% {\n",
              "      border-color: transparent;\n",
              "      border-bottom-color: var(--fill-color);\n",
              "      border-left-color: var(--fill-color);\n",
              "    }\n",
              "    20% {\n",
              "      border-color: transparent;\n",
              "      border-left-color: var(--fill-color);\n",
              "      border-top-color: var(--fill-color);\n",
              "    }\n",
              "    30% {\n",
              "      border-color: transparent;\n",
              "      border-left-color: var(--fill-color);\n",
              "      border-top-color: var(--fill-color);\n",
              "      border-right-color: var(--fill-color);\n",
              "    }\n",
              "    40% {\n",
              "      border-color: transparent;\n",
              "      border-right-color: var(--fill-color);\n",
              "      border-top-color: var(--fill-color);\n",
              "    }\n",
              "    60% {\n",
              "      border-color: transparent;\n",
              "      border-right-color: var(--fill-color);\n",
              "    }\n",
              "    80% {\n",
              "      border-color: transparent;\n",
              "      border-right-color: var(--fill-color);\n",
              "      border-bottom-color: var(--fill-color);\n",
              "    }\n",
              "    90% {\n",
              "      border-color: transparent;\n",
              "      border-bottom-color: var(--fill-color);\n",
              "    }\n",
              "  }\n",
              "</style>\n",
              "\n",
              "  <script>\n",
              "    async function quickchart(key) {\n",
              "      const quickchartButtonEl =\n",
              "        document.querySelector('#' + key + ' button');\n",
              "      quickchartButtonEl.disabled = true;  // To prevent multiple clicks.\n",
              "      quickchartButtonEl.classList.add('colab-df-spinner');\n",
              "      try {\n",
              "        const charts = await google.colab.kernel.invokeFunction(\n",
              "            'suggestCharts', [key], {});\n",
              "      } catch (error) {\n",
              "        console.error('Error during call to suggestCharts:', error);\n",
              "      }\n",
              "      quickchartButtonEl.classList.remove('colab-df-spinner');\n",
              "      quickchartButtonEl.classList.add('colab-df-quickchart-complete');\n",
              "    }\n",
              "    (() => {\n",
              "      let quickchartButtonEl =\n",
              "        document.querySelector('#df-8e50e7ae-84e7-4c2d-9c3a-7e576e3e2934 button');\n",
              "      quickchartButtonEl.style.display =\n",
              "        google.colab.kernel.accessAllowed ? 'block' : 'none';\n",
              "    })();\n",
              "  </script>\n",
              "</div>\n",
              "    </div>\n",
              "  </div>\n"
            ],
            "text/plain": [
              "  Warehouse_block Mode_of_Shipment Product_importance Gender\n",
              "0               D           Flight                low      F\n",
              "1               F           Flight                low      M\n",
              "2               A           Flight                low      M\n",
              "3               B           Flight             medium      M\n",
              "4               C           Flight             medium      F"
            ]
          },
          "execution_count": 71,
          "metadata": {},
          "output_type": "execute_result"
        }
      ],
      "source": [
        "# menampilkan data object\n",
        "object_columns = df.select_dtypes(include = ['object'])\n",
        "object_columns.head()"
      ]
    },
    {
      "cell_type": "markdown",
      "metadata": {
        "id": "57KF94HICj7-"
      },
      "source": [
        "Untuk mempermudah dalam analisa dan memahami data kami akan memulai dengan menganalisa data object terlebih dahulu."
      ]
    },
    {
      "cell_type": "code",
      "execution_count": 72,
      "metadata": {
        "colab": {
          "base_uri": "https://localhost:8080/",
          "height": 417
        },
        "id": "34d0o2_D8M0B",
        "outputId": "644bd6d3-0f03-4b79-f4c9-a22a98ede1d9"
      },
      "outputs": [
        {
          "data": {
            "text/html": [
              "<html>\n",
              "<head><meta charset=\"utf-8\" /></head>\n",
              "<body>\n",
              "    <div>            <script src=\"https://cdnjs.cloudflare.com/ajax/libs/mathjax/2.7.5/MathJax.js?config=TeX-AMS-MML_SVG\"></script><script type=\"text/javascript\">if (window.MathJax && window.MathJax.Hub && window.MathJax.Hub.Config) {window.MathJax.Hub.Config({SVG: {font: \"STIX-Web\"}});}</script>                <script type=\"text/javascript\">window.PlotlyConfig = {MathJaxConfig: 'local'};</script>\n",
              "        <script charset=\"utf-8\" src=\"https://cdn.plot.ly/plotly-2.24.1.min.js\"></script>                <div id=\"307604c8-fbff-4c7e-b6a3-b9556a31dc6b\" class=\"plotly-graph-div\" style=\"height:400px; width:500px;\"></div>            <script type=\"text/javascript\">                                    window.PLOTLYENV=window.PLOTLYENV || {};                                    if (document.getElementById(\"307604c8-fbff-4c7e-b6a3-b9556a31dc6b\")) {                    Plotly.newPlot(                        \"307604c8-fbff-4c7e-b6a3-b9556a31dc6b\",                        [{\"domain\":{\"x\":[0.0,1.0],\"y\":[0.0,1.0]},\"hole\":0.5,\"hovertemplate\":\"warehouse=%{label}\\u003cbr\\u003evalue_counts=%{value}\\u003cextra\\u003e\\u003c\\u002fextra\\u003e\",\"labels\":[\"F\",\"D\",\"A\",\"B\",\"C\"],\"legendgroup\":\"\",\"name\":\"\",\"showlegend\":true,\"values\":[3666,1834,1833,1833,1833],\"type\":\"pie\",\"textinfo\":\"percent+label\"}],                        {\"template\":{\"data\":{\"histogram2dcontour\":[{\"type\":\"histogram2dcontour\",\"colorbar\":{\"outlinewidth\":0,\"ticks\":\"\"},\"colorscale\":[[0.0,\"#0d0887\"],[0.1111111111111111,\"#46039f\"],[0.2222222222222222,\"#7201a8\"],[0.3333333333333333,\"#9c179e\"],[0.4444444444444444,\"#bd3786\"],[0.5555555555555556,\"#d8576b\"],[0.6666666666666666,\"#ed7953\"],[0.7777777777777778,\"#fb9f3a\"],[0.8888888888888888,\"#fdca26\"],[1.0,\"#f0f921\"]]}],\"choropleth\":[{\"type\":\"choropleth\",\"colorbar\":{\"outlinewidth\":0,\"ticks\":\"\"}}],\"histogram2d\":[{\"type\":\"histogram2d\",\"colorbar\":{\"outlinewidth\":0,\"ticks\":\"\"},\"colorscale\":[[0.0,\"#0d0887\"],[0.1111111111111111,\"#46039f\"],[0.2222222222222222,\"#7201a8\"],[0.3333333333333333,\"#9c179e\"],[0.4444444444444444,\"#bd3786\"],[0.5555555555555556,\"#d8576b\"],[0.6666666666666666,\"#ed7953\"],[0.7777777777777778,\"#fb9f3a\"],[0.8888888888888888,\"#fdca26\"],[1.0,\"#f0f921\"]]}],\"heatmap\":[{\"type\":\"heatmap\",\"colorbar\":{\"outlinewidth\":0,\"ticks\":\"\"},\"colorscale\":[[0.0,\"#0d0887\"],[0.1111111111111111,\"#46039f\"],[0.2222222222222222,\"#7201a8\"],[0.3333333333333333,\"#9c179e\"],[0.4444444444444444,\"#bd3786\"],[0.5555555555555556,\"#d8576b\"],[0.6666666666666666,\"#ed7953\"],[0.7777777777777778,\"#fb9f3a\"],[0.8888888888888888,\"#fdca26\"],[1.0,\"#f0f921\"]]}],\"heatmapgl\":[{\"type\":\"heatmapgl\",\"colorbar\":{\"outlinewidth\":0,\"ticks\":\"\"},\"colorscale\":[[0.0,\"#0d0887\"],[0.1111111111111111,\"#46039f\"],[0.2222222222222222,\"#7201a8\"],[0.3333333333333333,\"#9c179e\"],[0.4444444444444444,\"#bd3786\"],[0.5555555555555556,\"#d8576b\"],[0.6666666666666666,\"#ed7953\"],[0.7777777777777778,\"#fb9f3a\"],[0.8888888888888888,\"#fdca26\"],[1.0,\"#f0f921\"]]}],\"contourcarpet\":[{\"type\":\"contourcarpet\",\"colorbar\":{\"outlinewidth\":0,\"ticks\":\"\"}}],\"contour\":[{\"type\":\"contour\",\"colorbar\":{\"outlinewidth\":0,\"ticks\":\"\"},\"colorscale\":[[0.0,\"#0d0887\"],[0.1111111111111111,\"#46039f\"],[0.2222222222222222,\"#7201a8\"],[0.3333333333333333,\"#9c179e\"],[0.4444444444444444,\"#bd3786\"],[0.5555555555555556,\"#d8576b\"],[0.6666666666666666,\"#ed7953\"],[0.7777777777777778,\"#fb9f3a\"],[0.8888888888888888,\"#fdca26\"],[1.0,\"#f0f921\"]]}],\"surface\":[{\"type\":\"surface\",\"colorbar\":{\"outlinewidth\":0,\"ticks\":\"\"},\"colorscale\":[[0.0,\"#0d0887\"],[0.1111111111111111,\"#46039f\"],[0.2222222222222222,\"#7201a8\"],[0.3333333333333333,\"#9c179e\"],[0.4444444444444444,\"#bd3786\"],[0.5555555555555556,\"#d8576b\"],[0.6666666666666666,\"#ed7953\"],[0.7777777777777778,\"#fb9f3a\"],[0.8888888888888888,\"#fdca26\"],[1.0,\"#f0f921\"]]}],\"mesh3d\":[{\"type\":\"mesh3d\",\"colorbar\":{\"outlinewidth\":0,\"ticks\":\"\"}}],\"scatter\":[{\"fillpattern\":{\"fillmode\":\"overlay\",\"size\":10,\"solidity\":0.2},\"type\":\"scatter\"}],\"parcoords\":[{\"type\":\"parcoords\",\"line\":{\"colorbar\":{\"outlinewidth\":0,\"ticks\":\"\"}}}],\"scatterpolargl\":[{\"type\":\"scatterpolargl\",\"marker\":{\"colorbar\":{\"outlinewidth\":0,\"ticks\":\"\"}}}],\"bar\":[{\"error_x\":{\"color\":\"#2a3f5f\"},\"error_y\":{\"color\":\"#2a3f5f\"},\"marker\":{\"line\":{\"color\":\"#E5ECF6\",\"width\":0.5},\"pattern\":{\"fillmode\":\"overlay\",\"size\":10,\"solidity\":0.2}},\"type\":\"bar\"}],\"scattergeo\":[{\"type\":\"scattergeo\",\"marker\":{\"colorbar\":{\"outlinewidth\":0,\"ticks\":\"\"}}}],\"scatterpolar\":[{\"type\":\"scatterpolar\",\"marker\":{\"colorbar\":{\"outlinewidth\":0,\"ticks\":\"\"}}}],\"histogram\":[{\"marker\":{\"pattern\":{\"fillmode\":\"overlay\",\"size\":10,\"solidity\":0.2}},\"type\":\"histogram\"}],\"scattergl\":[{\"type\":\"scattergl\",\"marker\":{\"colorbar\":{\"outlinewidth\":0,\"ticks\":\"\"}}}],\"scatter3d\":[{\"type\":\"scatter3d\",\"line\":{\"colorbar\":{\"outlinewidth\":0,\"ticks\":\"\"}},\"marker\":{\"colorbar\":{\"outlinewidth\":0,\"ticks\":\"\"}}}],\"scattermapbox\":[{\"type\":\"scattermapbox\",\"marker\":{\"colorbar\":{\"outlinewidth\":0,\"ticks\":\"\"}}}],\"scatterternary\":[{\"type\":\"scatterternary\",\"marker\":{\"colorbar\":{\"outlinewidth\":0,\"ticks\":\"\"}}}],\"scattercarpet\":[{\"type\":\"scattercarpet\",\"marker\":{\"colorbar\":{\"outlinewidth\":0,\"ticks\":\"\"}}}],\"carpet\":[{\"aaxis\":{\"endlinecolor\":\"#2a3f5f\",\"gridcolor\":\"white\",\"linecolor\":\"white\",\"minorgridcolor\":\"white\",\"startlinecolor\":\"#2a3f5f\"},\"baxis\":{\"endlinecolor\":\"#2a3f5f\",\"gridcolor\":\"white\",\"linecolor\":\"white\",\"minorgridcolor\":\"white\",\"startlinecolor\":\"#2a3f5f\"},\"type\":\"carpet\"}],\"table\":[{\"cells\":{\"fill\":{\"color\":\"#EBF0F8\"},\"line\":{\"color\":\"white\"}},\"header\":{\"fill\":{\"color\":\"#C8D4E3\"},\"line\":{\"color\":\"white\"}},\"type\":\"table\"}],\"barpolar\":[{\"marker\":{\"line\":{\"color\":\"#E5ECF6\",\"width\":0.5},\"pattern\":{\"fillmode\":\"overlay\",\"size\":10,\"solidity\":0.2}},\"type\":\"barpolar\"}],\"pie\":[{\"automargin\":true,\"type\":\"pie\"}]},\"layout\":{\"autotypenumbers\":\"strict\",\"colorway\":[\"#636efa\",\"#EF553B\",\"#00cc96\",\"#ab63fa\",\"#FFA15A\",\"#19d3f3\",\"#FF6692\",\"#B6E880\",\"#FF97FF\",\"#FECB52\"],\"font\":{\"color\":\"#2a3f5f\"},\"hovermode\":\"closest\",\"hoverlabel\":{\"align\":\"left\"},\"paper_bgcolor\":\"white\",\"plot_bgcolor\":\"#E5ECF6\",\"polar\":{\"bgcolor\":\"#E5ECF6\",\"angularaxis\":{\"gridcolor\":\"white\",\"linecolor\":\"white\",\"ticks\":\"\"},\"radialaxis\":{\"gridcolor\":\"white\",\"linecolor\":\"white\",\"ticks\":\"\"}},\"ternary\":{\"bgcolor\":\"#E5ECF6\",\"aaxis\":{\"gridcolor\":\"white\",\"linecolor\":\"white\",\"ticks\":\"\"},\"baxis\":{\"gridcolor\":\"white\",\"linecolor\":\"white\",\"ticks\":\"\"},\"caxis\":{\"gridcolor\":\"white\",\"linecolor\":\"white\",\"ticks\":\"\"}},\"coloraxis\":{\"colorbar\":{\"outlinewidth\":0,\"ticks\":\"\"}},\"colorscale\":{\"sequential\":[[0.0,\"#0d0887\"],[0.1111111111111111,\"#46039f\"],[0.2222222222222222,\"#7201a8\"],[0.3333333333333333,\"#9c179e\"],[0.4444444444444444,\"#bd3786\"],[0.5555555555555556,\"#d8576b\"],[0.6666666666666666,\"#ed7953\"],[0.7777777777777778,\"#fb9f3a\"],[0.8888888888888888,\"#fdca26\"],[1.0,\"#f0f921\"]],\"sequentialminus\":[[0.0,\"#0d0887\"],[0.1111111111111111,\"#46039f\"],[0.2222222222222222,\"#7201a8\"],[0.3333333333333333,\"#9c179e\"],[0.4444444444444444,\"#bd3786\"],[0.5555555555555556,\"#d8576b\"],[0.6666666666666666,\"#ed7953\"],[0.7777777777777778,\"#fb9f3a\"],[0.8888888888888888,\"#fdca26\"],[1.0,\"#f0f921\"]],\"diverging\":[[0,\"#8e0152\"],[0.1,\"#c51b7d\"],[0.2,\"#de77ae\"],[0.3,\"#f1b6da\"],[0.4,\"#fde0ef\"],[0.5,\"#f7f7f7\"],[0.6,\"#e6f5d0\"],[0.7,\"#b8e186\"],[0.8,\"#7fbc41\"],[0.9,\"#4d9221\"],[1,\"#276419\"]]},\"xaxis\":{\"gridcolor\":\"white\",\"linecolor\":\"white\",\"ticks\":\"\",\"title\":{\"standoff\":15},\"zerolinecolor\":\"white\",\"automargin\":true,\"zerolinewidth\":2},\"yaxis\":{\"gridcolor\":\"white\",\"linecolor\":\"white\",\"ticks\":\"\",\"title\":{\"standoff\":15},\"zerolinecolor\":\"white\",\"automargin\":true,\"zerolinewidth\":2},\"scene\":{\"xaxis\":{\"backgroundcolor\":\"#E5ECF6\",\"gridcolor\":\"white\",\"linecolor\":\"white\",\"showbackground\":true,\"ticks\":\"\",\"zerolinecolor\":\"white\",\"gridwidth\":2},\"yaxis\":{\"backgroundcolor\":\"#E5ECF6\",\"gridcolor\":\"white\",\"linecolor\":\"white\",\"showbackground\":true,\"ticks\":\"\",\"zerolinecolor\":\"white\",\"gridwidth\":2},\"zaxis\":{\"backgroundcolor\":\"#E5ECF6\",\"gridcolor\":\"white\",\"linecolor\":\"white\",\"showbackground\":true,\"ticks\":\"\",\"zerolinecolor\":\"white\",\"gridwidth\":2}},\"shapedefaults\":{\"line\":{\"color\":\"#2a3f5f\"}},\"annotationdefaults\":{\"arrowcolor\":\"#2a3f5f\",\"arrowhead\":0,\"arrowwidth\":1},\"geo\":{\"bgcolor\":\"white\",\"landcolor\":\"#E5ECF6\",\"subunitcolor\":\"white\",\"showland\":true,\"showlakes\":true,\"lakecolor\":\"white\"},\"title\":{\"x\":0.05},\"mapbox\":{\"style\":\"light\"}}},\"legend\":{\"tracegroupgap\":0},\"margin\":{\"t\":60},\"piecolorway\":[\"rgb(47, 15, 61)\",\"rgb(76, 21, 80)\",\"rgb(107, 24, 93)\",\"rgb(138, 29, 99)\",\"rgb(168, 40, 96)\",\"rgb(195, 56, 90)\",\"rgb(216, 80, 83)\",\"rgb(231, 109, 84)\",\"rgb(240, 142, 98)\",\"rgb(246, 173, 119)\",\"rgb(250, 205, 145)\",\"rgb(253, 237, 176)\"],\"height\":400,\"width\":500},                        {\"responsive\": true}                    ).then(function(){\n",
              "                            \n",
              "var gd = document.getElementById('307604c8-fbff-4c7e-b6a3-b9556a31dc6b');\n",
              "var x = new MutationObserver(function (mutations, observer) {{\n",
              "        var display = window.getComputedStyle(gd).display;\n",
              "        if (!display || display === 'none') {{\n",
              "            console.log([gd, 'removed!']);\n",
              "            Plotly.purge(gd);\n",
              "            observer.disconnect();\n",
              "        }}\n",
              "}});\n",
              "\n",
              "// Listen for the removal of the full notebook cells\n",
              "var notebookContainer = gd.closest('#notebook-container');\n",
              "if (notebookContainer) {{\n",
              "    x.observe(notebookContainer, {childList: true});\n",
              "}}\n",
              "\n",
              "// Listen for the clearing of the current output cell\n",
              "var outputEl = gd.closest('.output');\n",
              "if (outputEl) {{\n",
              "    x.observe(outputEl, {childList: true});\n",
              "}}\n",
              "\n",
              "                        })                };                            </script>        </div>\n",
              "</body>\n",
              "</html>"
            ]
          },
          "metadata": {},
          "output_type": "display_data"
        }
      ],
      "source": [
        "# Membuat px pie data menampilkan\n",
        "warehouse = df['Warehouse_block'].value_counts().reset_index()\n",
        "warehouse.columns = ['warehouse', 'value_counts']\n",
        "fig = px.pie(warehouse, names = 'warehouse', values = 'value_counts',\n",
        "             color_discrete_sequence = px.colors.sequential.matter_r,\n",
        "             width = 500, height = 400,\n",
        "             hole = 0.5)\n",
        "fig.update_traces(textinfo = 'percent+label')"
      ]
    },
    {
      "cell_type": "code",
      "execution_count": 73,
      "metadata": {
        "colab": {
          "base_uri": "https://localhost:8080/",
          "height": 542
        },
        "id": "eZ0jG35Y_RZT",
        "outputId": "1097de53-3d90-49be-f654-e31f919bc3f5"
      },
      "outputs": [
        {
          "data": {
            "image/png": "[encoded data removed]",
            "text/plain": [
              "<Figure size 1000x600 with 1 Axes>"
            ]
          },
          "metadata": {},
          "output_type": "display_data"
        }
      ],
      "source": [
        "# Membuat plot\n",
        "plt.figure(figsize = (10, 6))\n",
        "sns.countplot(x='Warehouse_block', hue = 'Rot',\n",
        "              data = df, palette='rocket')\n",
        "plt.show()"
      ]
    },
    {
      "cell_type": "markdown",
      "metadata": {
        "id": "r7kX6tLBDRjT"
      },
      "source": [
        "Dalam data pie kita mendapatkan informasi distribusi warehouse dengan beberpa block yaitu A,B,C,D,dan F dan dari analisa yang kita dapat Block F memiliki porsi pengiriman yang paling banyak yaitu 33.7%, serta di dalam diagram batang menunjukan hal yang sama namun juga memiliki masalah pengiriamn yang sama masih banyak nya pengiriman yang tidak tepat waktu."
      ]
    },
    {
      "cell_type": "code",
      "execution_count": 74,
      "metadata": {
        "colab": {
          "base_uri": "https://localhost:8080/",
          "height": 417
        },
        "id": "pL_RQQJlIXql",
        "outputId": "6402282f-6dc5-453b-c44a-48fd22e73f32"
      },
      "outputs": [
        {
          "data": {
            "text/html": [
              "<html>\n",
              "<head><meta charset=\"utf-8\" /></head>\n",
              "<body>\n",
              "    <div>            <script src=\"https://cdnjs.cloudflare.com/ajax/libs/mathjax/2.7.5/MathJax.js?config=TeX-AMS-MML_SVG\"></script><script type=\"text/javascript\">if (window.MathJax && window.MathJax.Hub && window.MathJax.Hub.Config) {window.MathJax.Hub.Config({SVG: {font: \"STIX-Web\"}});}</script>                <script type=\"text/javascript\">window.PlotlyConfig = {MathJaxConfig: 'local'};</script>\n",
              "        <script charset=\"utf-8\" src=\"https://cdn.plot.ly/plotly-2.24.1.min.js\"></script>                <div id=\"0a9e116c-8674-45d6-9331-15c13526f174\" class=\"plotly-graph-div\" style=\"height:400px; width:500px;\"></div>            <script type=\"text/javascript\">                                    window.PLOTLYENV=window.PLOTLYENV || {};                                    if (document.getElementById(\"0a9e116c-8674-45d6-9331-15c13526f174\")) {                    Plotly.newPlot(                        \"0a9e116c-8674-45d6-9331-15c13526f174\",                        [{\"domain\":{\"x\":[0.0,1.0],\"y\":[0.0,1.0]},\"hole\":0.5,\"hovertemplate\":\"Mode_of_Shipment=%{label}\\u003cbr\\u003evalue_counts=%{value}\\u003cextra\\u003e\\u003c\\u002fextra\\u003e\",\"labels\":[\"Ship\",\"Flight\",\"Road\"],\"legendgroup\":\"\",\"name\":\"\",\"showlegend\":true,\"values\":[7462,1777,1760],\"type\":\"pie\",\"textinfo\":\"percent+label\"}],                        {\"template\":{\"data\":{\"histogram2dcontour\":[{\"type\":\"histogram2dcontour\",\"colorbar\":{\"outlinewidth\":0,\"ticks\":\"\"},\"colorscale\":[[0.0,\"#0d0887\"],[0.1111111111111111,\"#46039f\"],[0.2222222222222222,\"#7201a8\"],[0.3333333333333333,\"#9c179e\"],[0.4444444444444444,\"#bd3786\"],[0.5555555555555556,\"#d8576b\"],[0.6666666666666666,\"#ed7953\"],[0.7777777777777778,\"#fb9f3a\"],[0.8888888888888888,\"#fdca26\"],[1.0,\"#f0f921\"]]}],\"choropleth\":[{\"type\":\"choropleth\",\"colorbar\":{\"outlinewidth\":0,\"ticks\":\"\"}}],\"histogram2d\":[{\"type\":\"histogram2d\",\"colorbar\":{\"outlinewidth\":0,\"ticks\":\"\"},\"colorscale\":[[0.0,\"#0d0887\"],[0.1111111111111111,\"#46039f\"],[0.2222222222222222,\"#7201a8\"],[0.3333333333333333,\"#9c179e\"],[0.4444444444444444,\"#bd3786\"],[0.5555555555555556,\"#d8576b\"],[0.6666666666666666,\"#ed7953\"],[0.7777777777777778,\"#fb9f3a\"],[0.8888888888888888,\"#fdca26\"],[1.0,\"#f0f921\"]]}],\"heatmap\":[{\"type\":\"heatmap\",\"colorbar\":{\"outlinewidth\":0,\"ticks\":\"\"},\"colorscale\":[[0.0,\"#0d0887\"],[0.1111111111111111,\"#46039f\"],[0.2222222222222222,\"#7201a8\"],[0.3333333333333333,\"#9c179e\"],[0.4444444444444444,\"#bd3786\"],[0.5555555555555556,\"#d8576b\"],[0.6666666666666666,\"#ed7953\"],[0.7777777777777778,\"#fb9f3a\"],[0.8888888888888888,\"#fdca26\"],[1.0,\"#f0f921\"]]}],\"heatmapgl\":[{\"type\":\"heatmapgl\",\"colorbar\":{\"outlinewidth\":0,\"ticks\":\"\"},\"colorscale\":[[0.0,\"#0d0887\"],[0.1111111111111111,\"#46039f\"],[0.2222222222222222,\"#7201a8\"],[0.3333333333333333,\"#9c179e\"],[0.4444444444444444,\"#bd3786\"],[0.5555555555555556,\"#d8576b\"],[0.6666666666666666,\"#ed7953\"],[0.7777777777777778,\"#fb9f3a\"],[0.8888888888888888,\"#fdca26\"],[1.0,\"#f0f921\"]]}],\"contourcarpet\":[{\"type\":\"contourcarpet\",\"colorbar\":{\"outlinewidth\":0,\"ticks\":\"\"}}],\"contour\":[{\"type\":\"contour\",\"colorbar\":{\"outlinewidth\":0,\"ticks\":\"\"},\"colorscale\":[[0.0,\"#0d0887\"],[0.1111111111111111,\"#46039f\"],[0.2222222222222222,\"#7201a8\"],[0.3333333333333333,\"#9c179e\"],[0.4444444444444444,\"#bd3786\"],[0.5555555555555556,\"#d8576b\"],[0.6666666666666666,\"#ed7953\"],[0.7777777777777778,\"#fb9f3a\"],[0.8888888888888888,\"#fdca26\"],[1.0,\"#f0f921\"]]}],\"surface\":[{\"type\":\"surface\",\"colorbar\":{\"outlinewidth\":0,\"ticks\":\"\"},\"colorscale\":[[0.0,\"#0d0887\"],[0.1111111111111111,\"#46039f\"],[0.2222222222222222,\"#7201a8\"],[0.3333333333333333,\"#9c179e\"],[0.4444444444444444,\"#bd3786\"],[0.5555555555555556,\"#d8576b\"],[0.6666666666666666,\"#ed7953\"],[0.7777777777777778,\"#fb9f3a\"],[0.8888888888888888,\"#fdca26\"],[1.0,\"#f0f921\"]]}],\"mesh3d\":[{\"type\":\"mesh3d\",\"colorbar\":{\"outlinewidth\":0,\"ticks\":\"\"}}],\"scatter\":[{\"fillpattern\":{\"fillmode\":\"overlay\",\"size\":10,\"solidity\":0.2},\"type\":\"scatter\"}],\"parcoords\":[{\"type\":\"parcoords\",\"line\":{\"colorbar\":{\"outlinewidth\":0,\"ticks\":\"\"}}}],\"scatterpolargl\":[{\"type\":\"scatterpolargl\",\"marker\":{\"colorbar\":{\"outlinewidth\":0,\"ticks\":\"\"}}}],\"bar\":[{\"error_x\":{\"color\":\"#2a3f5f\"},\"error_y\":{\"color\":\"#2a3f5f\"},\"marker\":{\"line\":{\"color\":\"#E5ECF6\",\"width\":0.5},\"pattern\":{\"fillmode\":\"overlay\",\"size\":10,\"solidity\":0.2}},\"type\":\"bar\"}],\"scattergeo\":[{\"type\":\"scattergeo\",\"marker\":{\"colorbar\":{\"outlinewidth\":0,\"ticks\":\"\"}}}],\"scatterpolar\":[{\"type\":\"scatterpolar\",\"marker\":{\"colorbar\":{\"outlinewidth\":0,\"ticks\":\"\"}}}],\"histogram\":[{\"marker\":{\"pattern\":{\"fillmode\":\"overlay\",\"size\":10,\"solidity\":0.2}},\"type\":\"histogram\"}],\"scattergl\":[{\"type\":\"scattergl\",\"marker\":{\"colorbar\":{\"outlinewidth\":0,\"ticks\":\"\"}}}],\"scatter3d\":[{\"type\":\"scatter3d\",\"line\":{\"colorbar\":{\"outlinewidth\":0,\"ticks\":\"\"}},\"marker\":{\"colorbar\":{\"outlinewidth\":0,\"ticks\":\"\"}}}],\"scattermapbox\":[{\"type\":\"scattermapbox\",\"marker\":{\"colorbar\":{\"outlinewidth\":0,\"ticks\":\"\"}}}],\"scatterternary\":[{\"type\":\"scatterternary\",\"marker\":{\"colorbar\":{\"outlinewidth\":0,\"ticks\":\"\"}}}],\"scattercarpet\":[{\"type\":\"scattercarpet\",\"marker\":{\"colorbar\":{\"outlinewidth\":0,\"ticks\":\"\"}}}],\"carpet\":[{\"aaxis\":{\"endlinecolor\":\"#2a3f5f\",\"gridcolor\":\"white\",\"linecolor\":\"white\",\"minorgridcolor\":\"white\",\"startlinecolor\":\"#2a3f5f\"},\"baxis\":{\"endlinecolor\":\"#2a3f5f\",\"gridcolor\":\"white\",\"linecolor\":\"white\",\"minorgridcolor\":\"white\",\"startlinecolor\":\"#2a3f5f\"},\"type\":\"carpet\"}],\"table\":[{\"cells\":{\"fill\":{\"color\":\"#EBF0F8\"},\"line\":{\"color\":\"white\"}},\"header\":{\"fill\":{\"color\":\"#C8D4E3\"},\"line\":{\"color\":\"white\"}},\"type\":\"table\"}],\"barpolar\":[{\"marker\":{\"line\":{\"color\":\"#E5ECF6\",\"width\":0.5},\"pattern\":{\"fillmode\":\"overlay\",\"size\":10,\"solidity\":0.2}},\"type\":\"barpolar\"}],\"pie\":[{\"automargin\":true,\"type\":\"pie\"}]},\"layout\":{\"autotypenumbers\":\"strict\",\"colorway\":[\"#636efa\",\"#EF553B\",\"#00cc96\",\"#ab63fa\",\"#FFA15A\",\"#19d3f3\",\"#FF6692\",\"#B6E880\",\"#FF97FF\",\"#FECB52\"],\"font\":{\"color\":\"#2a3f5f\"},\"hovermode\":\"closest\",\"hoverlabel\":{\"align\":\"left\"},\"paper_bgcolor\":\"white\",\"plot_bgcolor\":\"#E5ECF6\",\"polar\":{\"bgcolor\":\"#E5ECF6\",\"angularaxis\":{\"gridcolor\":\"white\",\"linecolor\":\"white\",\"ticks\":\"\"},\"radialaxis\":{\"gridcolor\":\"white\",\"linecolor\":\"white\",\"ticks\":\"\"}},\"ternary\":{\"bgcolor\":\"#E5ECF6\",\"aaxis\":{\"gridcolor\":\"white\",\"linecolor\":\"white\",\"ticks\":\"\"},\"baxis\":{\"gridcolor\":\"white\",\"linecolor\":\"white\",\"ticks\":\"\"},\"caxis\":{\"gridcolor\":\"white\",\"linecolor\":\"white\",\"ticks\":\"\"}},\"coloraxis\":{\"colorbar\":{\"outlinewidth\":0,\"ticks\":\"\"}},\"colorscale\":{\"sequential\":[[0.0,\"#0d0887\"],[0.1111111111111111,\"#46039f\"],[0.2222222222222222,\"#7201a8\"],[0.3333333333333333,\"#9c179e\"],[0.4444444444444444,\"#bd3786\"],[0.5555555555555556,\"#d8576b\"],[0.6666666666666666,\"#ed7953\"],[0.7777777777777778,\"#fb9f3a\"],[0.8888888888888888,\"#fdca26\"],[1.0,\"#f0f921\"]],\"sequentialminus\":[[0.0,\"#0d0887\"],[0.1111111111111111,\"#46039f\"],[0.2222222222222222,\"#7201a8\"],[0.3333333333333333,\"#9c179e\"],[0.4444444444444444,\"#bd3786\"],[0.5555555555555556,\"#d8576b\"],[0.6666666666666666,\"#ed7953\"],[0.7777777777777778,\"#fb9f3a\"],[0.8888888888888888,\"#fdca26\"],[1.0,\"#f0f921\"]],\"diverging\":[[0,\"#8e0152\"],[0.1,\"#c51b7d\"],[0.2,\"#de77ae\"],[0.3,\"#f1b6da\"],[0.4,\"#fde0ef\"],[0.5,\"#f7f7f7\"],[0.6,\"#e6f5d0\"],[0.7,\"#b8e186\"],[0.8,\"#7fbc41\"],[0.9,\"#4d9221\"],[1,\"#276419\"]]},\"xaxis\":{\"gridcolor\":\"white\",\"linecolor\":\"white\",\"ticks\":\"\",\"title\":{\"standoff\":15},\"zerolinecolor\":\"white\",\"automargin\":true,\"zerolinewidth\":2},\"yaxis\":{\"gridcolor\":\"white\",\"linecolor\":\"white\",\"ticks\":\"\",\"title\":{\"standoff\":15},\"zerolinecolor\":\"white\",\"automargin\":true,\"zerolinewidth\":2},\"scene\":{\"xaxis\":{\"backgroundcolor\":\"#E5ECF6\",\"gridcolor\":\"white\",\"linecolor\":\"white\",\"showbackground\":true,\"ticks\":\"\",\"zerolinecolor\":\"white\",\"gridwidth\":2},\"yaxis\":{\"backgroundcolor\":\"#E5ECF6\",\"gridcolor\":\"white\",\"linecolor\":\"white\",\"showbackground\":true,\"ticks\":\"\",\"zerolinecolor\":\"white\",\"gridwidth\":2},\"zaxis\":{\"backgroundcolor\":\"#E5ECF6\",\"gridcolor\":\"white\",\"linecolor\":\"white\",\"showbackground\":true,\"ticks\":\"\",\"zerolinecolor\":\"white\",\"gridwidth\":2}},\"shapedefaults\":{\"line\":{\"color\":\"#2a3f5f\"}},\"annotationdefaults\":{\"arrowcolor\":\"#2a3f5f\",\"arrowhead\":0,\"arrowwidth\":1},\"geo\":{\"bgcolor\":\"white\",\"landcolor\":\"#E5ECF6\",\"subunitcolor\":\"white\",\"showland\":true,\"showlakes\":true,\"lakecolor\":\"white\"},\"title\":{\"x\":0.05},\"mapbox\":{\"style\":\"light\"}}},\"legend\":{\"tracegroupgap\":0},\"margin\":{\"t\":60},\"piecolorway\":[\"rgb(47, 15, 61)\",\"rgb(76, 21, 80)\",\"rgb(107, 24, 93)\",\"rgb(138, 29, 99)\",\"rgb(168, 40, 96)\",\"rgb(195, 56, 90)\",\"rgb(216, 80, 83)\",\"rgb(231, 109, 84)\",\"rgb(240, 142, 98)\",\"rgb(246, 173, 119)\",\"rgb(250, 205, 145)\",\"rgb(253, 237, 176)\"],\"height\":400,\"width\":500},                        {\"responsive\": true}                    ).then(function(){\n",
              "                            \n",
              "var gd = document.getElementById('0a9e116c-8674-45d6-9331-15c13526f174');\n",
              "var x = new MutationObserver(function (mutations, observer) {{\n",
              "        var display = window.getComputedStyle(gd).display;\n",
              "        if (!display || display === 'none') {{\n",
              "            console.log([gd, 'removed!']);\n",
              "            Plotly.purge(gd);\n",
              "            observer.disconnect();\n",
              "        }}\n",
              "}});\n",
              "\n",
              "// Listen for the removal of the full notebook cells\n",
              "var notebookContainer = gd.closest('#notebook-container');\n",
              "if (notebookContainer) {{\n",
              "    x.observe(notebookContainer, {childList: true});\n",
              "}}\n",
              "\n",
              "// Listen for the clearing of the current output cell\n",
              "var outputEl = gd.closest('.output');\n",
              "if (outputEl) {{\n",
              "    x.observe(outputEl, {childList: true});\n",
              "}}\n",
              "\n",
              "                        })                };                            </script>        </div>\n",
              "</body>\n",
              "</html>"
            ]
          },
          "metadata": {},
          "output_type": "display_data"
        }
      ],
      "source": [
        "# Pie jenis pengiriman\n",
        "Mode_of_Shipment = df['Mode_of_Shipment'].value_counts().reset_index()\n",
        "Mode_of_Shipment.columns = ['Mode_of_Shipment', 'value_counts']\n",
        "fig = px.pie(Mode_of_Shipment, names = 'Mode_of_Shipment', values = 'value_counts',\n",
        "             color_discrete_sequence = px.colors.sequential.matter_r,\n",
        "             width = 500, height = 400,hole = 0.5)\n",
        "fig.update_traces(textinfo = 'percent+label')"
      ]
    },
    {
      "cell_type": "code",
      "execution_count": 75,
      "metadata": {
        "colab": {
          "base_uri": "https://localhost:8080/",
          "height": 542
        },
        "id": "Vl9t5x6EI9yn",
        "outputId": "e08f76d7-0374-47d1-c113-68b75243e3a5"
      },
      "outputs": [
        {
          "data": {
            "image/png": "[encoded data removed]",
            "text/plain": [
              "<Figure size 1000x600 with 1 Axes>"
            ]
          },
          "metadata": {},
          "output_type": "display_data"
        }
      ],
      "source": [
        "# Plot hubungan jenis pengiriman dan Rot\n",
        "plt.figure(figsize = (10, 6))\n",
        "sns.countplot(x='Mode_of_Shipment', hue = 'Rot',\n",
        "              data = df, palette='rocket')\n",
        "plt.show()"
      ]
    },
    {
      "cell_type": "markdown",
      "metadata": {
        "id": "ogyqPpcGGB0T"
      },
      "source": [
        "Analisa mode of shipment menujukan distribusi yaitu :\n",
        "- Ship 67.8% dengan distibusi yang paling tinggi melayani pengantan barang.\n",
        "- Disusul Flight 16.2% dengan distribusi di bawah ship.\n",
        "- Paling sedikit yaitu Road 16% namun tidak terlalu jauh dengan Flight.\n",
        "\n",
        "Kita lihat Rot berdasarkan mode shipment ternyata semua memiliki pengiriman yang tidak tepat waktu."
      ]
    },
    {
      "cell_type": "code",
      "execution_count": 76,
      "metadata": {
        "colab": {
          "base_uri": "https://localhost:8080/",
          "height": 428
        },
        "id": "RF3WCZzDPtan",
        "outputId": "0680e33a-d310-4b44-de97-01f07e872cca"
      },
      "outputs": [
        {
          "data": {
            "image/png": "[encoded data removed]",
            "text/plain": [
              "<Figure size 640x480 with 1 Axes>"
            ]
          },
          "metadata": {},
          "output_type": "display_data"
        }
      ],
      "source": [
        "Product_importance = df[\"Product_importance\"].value_counts()\n",
        "explode = (0.1, 0, 0)\n",
        "fig , ax = plt.subplots()\n",
        "ax.pie(Product_importance,labels=Product_importance.index,explode=explode,autopct='%1.1f%%',shadow=True, startangle=90)\n",
        "ax.set(aspect=\"equal\", title='Product_importance')\n",
        "fig.show()"
      ]
    },
    {
      "cell_type": "code",
      "execution_count": 77,
      "metadata": {
        "colab": {
          "base_uri": "https://localhost:8080/",
          "height": 542
        },
        "id": "NlCgHSVspfdq",
        "outputId": "1d10b0a3-c2bf-43d1-b680-e93a9791cc34"
      },
      "outputs": [
        {
          "data": {
            "image/png": "[encoded data removed]",
            "text/plain": [
              "<Figure size 1000x600 with 1 Axes>"
            ]
          },
          "metadata": {},
          "output_type": "display_data"
        }
      ],
      "source": [
        "# Membuat Plot Rot\n",
        "plt.figure(figsize = (10, 6))\n",
        "sns.countplot(x='Product_importance', hue = 'Rot',\n",
        "              data = df, palette='rocket')\n",
        "# Menampilkan plot\n",
        "plt.show()"
      ]
    },
    {
      "cell_type": "markdown",
      "metadata": {
        "id": "MwLgyIqLJAT-"
      },
      "source": [
        "Distibusi product importance :\n",
        "- Low memiliki distribusi 48.2% yang mengartikan banyak barang yang tingkatan low dengan barang-barang yang ekonomis untuk dikirim.\n",
        "- Medium distribusi 43.2% hasilnya lebih rendah dari product low.\n",
        "- High dengan distribusi yang paling sedikit 8.6%.\n",
        "\n",
        "Dalam ketepatan waktu memiliki masalah yang sama yaitu pengiriman tidak tepat waktu."
      ]
    },
    {
      "cell_type": "code",
      "execution_count": 78,
      "metadata": {
        "colab": {
          "base_uri": "https://localhost:8080/",
          "height": 415
        },
        "id": "v6BswK3q-zXc",
        "outputId": "20c479c9-420d-4f0b-e532-c9a37d71ddc0"
      },
      "outputs": [
        {
          "data": {
            "image/png": "[encoded data removed]",
            "text/plain": [
              "<Figure size 800x400 with 1 Axes>"
            ]
          },
          "metadata": {},
          "output_type": "display_data"
        }
      ],
      "source": [
        "# Mengelompokkan data Rot dan menghitung rata-rata Discount_offered\n",
        "grouped_df = df.groupby('Discount_offered')['Rot'].mean().reset_index()\n",
        "\n",
        "# Membuat diagram batang\n",
        "plt.figure(figsize=(8, 4))\n",
        "plt.bar(grouped_df['Discount_offered'], grouped_df['Rot'], color='blue')\n",
        "plt.title('Hubungan antara Discount Offered dan Rata-rata Rot', fontsize=14)\n",
        "plt.xlabel('Discount Offered', fontsize=12)\n",
        "plt.ylabel('Rata-rata Rot', fontsize=12)\n",
        "plt.grid(axis='y', linestyle='--', alpha=0.7)\n",
        "\n",
        "# Tampilkan diagram batang\n",
        "plt.show()"
      ]
    },
    {
      "cell_type": "markdown",
      "metadata": {
        "id": "bXWzbtBFNfPq"
      },
      "source": [
        "Rata-Rata barang yang berdiskon memiliki tingkat keterlambatag yang tinggi."
      ]
    },
    {
      "cell_type": "code",
      "execution_count": 79,
      "metadata": {
        "colab": {
          "base_uri": "https://localhost:8080/",
          "height": 407
        },
        "id": "R6XeMxFXQ8Lj",
        "outputId": "d50fd215-b08d-405c-f05e-d27bb2f993e2"
      },
      "outputs": [
        {
          "data": {
            "image/png": "[encoded data removed]",
            "text/plain": [
              "<Figure size 553.861x400 with 1 Axes>"
            ]
          },
          "metadata": {},
          "output_type": "display_data"
        }
      ],
      "source": [
        "# Definisi Rot dengan fitur yang diinginkan\n",
        "Rot = df.groupby(['Rot', 'Customer_care_calls']).size().reset_index(name='count')\n",
        "# Membuat diagram batang (bar chart)\n",
        "g = sns.catplot(\n",
        "    data=Rot, kind='bar',\n",
        "    x='Rot', y='count', hue='Customer_care_calls',\n",
        "    palette='dark', height=4\n",
        ")\n",
        "\n",
        "# Menampilkan plot\n",
        "plt.show()"
      ]
    },
    {
      "cell_type": "markdown",
      "metadata": {
        "id": "x5RvHvCvN774"
      },
      "source": [
        "Barchart diatas kita mendapat informasi customer yang sering menanyakan terkait pengriman adalah yang barangnya tidak tepat waktu."
      ]
    },
    {
      "cell_type": "code",
      "execution_count": 80,
      "metadata": {
        "colab": {
          "base_uri": "https://localhost:8080/",
          "height": 981
        },
        "id": "wLvfZxOVJbwM",
        "outputId": "4e52ad42-a5d6-43d0-ee53-02b56d2e3cd0"
      },
      "outputs": [
        {
          "data": {
            "text/plain": [
              "<Axes: >"
            ]
          },
          "execution_count": 80,
          "metadata": {},
          "output_type": "execute_result"
        },
        {
          "data": {
            "image/png": "[encoded data removed]",
            "text/plain": [
              "<Figure size 1000x1000 with 2 Axes>"
            ]
          },
          "metadata": {},
          "output_type": "display_data"
        }
      ],
      "source": [
        "# Menampilkan heatmap kolerasi\n",
        "plt.figure(figsize=(10,10))\n",
        "sns.heatmap(df.corr(),annot=True)"
      ]
    },
    {
      "cell_type": "markdown",
      "metadata": {
        "id": "1_LZmMDnh93B"
      },
      "source": [
        "Kolerasi yang di tampilkan dalam heatmap beberapa fitur yang tidak kami mempunyai kolerasi yang tiggi namun fitur-fitur yang rendah kolerasi akan kami pertahankan dan di lanjutkan ke proses selanjutnya serta beberapa fitur kami pertimbangkan untuk dilakukan drop."
      ]
    },
    {
      "cell_type": "code",
      "execution_count": 81,
      "metadata": {
        "colab": {
          "base_uri": "https://localhost:8080/"
        },
        "id": "moV1eiv2-S1I",
        "outputId": "06487147-e1fc-4228-a8f4-f07d17b2b831"
      },
      "outputs": [
        {
          "name": "stdout",
          "output_type": "stream",
          "text": [
            "Number of categories in the variable Warehouse_block     : 5\n",
            "Number of categories in the variable Mode_of_Shipment    : 3\n",
            "Number of categories in the variable Product_importance  : 3\n",
            "Number of categories in the variable Gender              : 2\n"
          ]
        }
      ],
      "source": [
        "# count unique columns\n",
        "print('Number of categories in the variable Warehouse_block     : {}'.format(len(df.Warehouse_block.unique())))\n",
        "print('Number of categories in the variable Mode_of_Shipment    : {}'.format(len(df.Mode_of_Shipment.unique())))\n",
        "print('Number of categories in the variable Product_importance  : {}'.format(len(df.Product_importance.unique())))\n",
        "print('Number of categories in the variable Gender              : {}'.format(len(df.Gender.unique())))"
      ]
    },
    {
      "cell_type": "markdown",
      "metadata": {
        "id": "5lCIJmbmi4vE"
      },
      "source": [
        "Dalam pengecheckan tidak di temukan data cardinality dan unik data yang tidak terlalu banyak maka kami tidak akan melakukan mereduce cardinality."
      ]
    },
    {
      "cell_type": "markdown",
      "metadata": {
        "id": "6qxAc5pfJsA1"
      },
      "source": [
        "# Feature Engineering\n",
        "\n",
        "Bagian ini berisi proses penyiapan data, seperti pembagian data menjadi train-test, transformasi data (normalisasi, encoding, drop data dll.) untuk membantu proses pelatihan model."
      ]
    },
    {
      "cell_type": "markdown",
      "metadata": {
        "id": "qagxBG2SSYrf"
      },
      "source": [
        "**Sample Data**"
      ]
    },
    {
      "cell_type": "code",
      "execution_count": 82,
      "metadata": {
        "id": "xUGlUOHN6WdR"
      },
      "outputs": [],
      "source": [
        "# store 1 random data from the original data to be used as data inference into the data_inf variable\n",
        "data_inf = df.sample(2, random_state=72)\n",
        "\n",
        "# remove data inference from df\n",
        "df.drop(data_inf.index, inplace=True)\n",
        "\n",
        "# reset indexes for data_inf and df\n",
        "df.reset_index(drop=True, inplace=True)\n",
        "data_inf.reset_index(drop=True, inplace=True)\n",
        "\n",
        "# Menghapus kolom 'Rot' dari DataFrame data_inf\n",
        "data_inf.drop(columns=['Rot'], inplace=True)\n",
        "\n",
        "data_inf.to_csv('data_inf.csv',index=False)"
      ]
    },
    {
      "cell_type": "markdown",
      "metadata": {
        "id": "cVy4pCj4RLnI"
      },
      "source": [
        "Mengambil sample data untuk di test pada data inference."
      ]
    },
    {
      "cell_type": "markdown",
      "metadata": {
        "id": "R8kGpwbaSbxk"
      },
      "source": [
        "**Split Data**"
      ]
    },
    {
      "cell_type": "code",
      "execution_count": 83,
      "metadata": {
        "colab": {
          "base_uri": "https://localhost:8080/"
        },
        "id": "GcA3ocARJrsn",
        "outputId": "fe11e857-50ce-4daf-d576-5f79bf87ef24"
      },
      "outputs": [
        {
          "data": {
            "text/plain": [
              "(10997, 11)"
            ]
          },
          "execution_count": 83,
          "metadata": {},
          "output_type": "execute_result"
        }
      ],
      "source": [
        "# Split X and y\n",
        "X = df.drop('Rot',axis=1)\n",
        "y = df.Rot\n",
        "X.shape"
      ]
    },
    {
      "cell_type": "markdown",
      "metadata": {
        "id": "TPUoEMswzGjx"
      },
      "source": [
        "Memisahkan Target dengan di split yaitu :\n",
        "\n",
        "- Fitur Independent di simpan di X.\n",
        "- Sedangkan dependent di simpan y."
      ]
    },
    {
      "cell_type": "code",
      "execution_count": 84,
      "metadata": {
        "colab": {
          "base_uri": "https://localhost:8080/",
          "height": 261
        },
        "id": "MW5pGhGinkw_",
        "outputId": "9797de41-335c-4273-ad43-bc5d8a473bbd"
      },
      "outputs": [
        {
          "name": "stdout",
          "output_type": "stream",
          "text": [
            "Train size : (8797, 11)\n",
            "Test size  : (2200, 11)\n"
          ]
        },
        {
          "data": {
            "text/html": [
              "\n",
              "  <div id=\"df-2c9e44d4-324b-4d00-a6d7-acd1a09306a1\" class=\"colab-df-container\">\n",
              "    <div>\n",
              "<style scoped>\n",
              "    .dataframe tbody tr th:only-of-type {\n",
              "        vertical-align: middle;\n",
              "    }\n",
              "\n",
              "    .dataframe tbody tr th {\n",
              "        vertical-align: top;\n",
              "    }\n",
              "\n",
              "    .dataframe thead th {\n",
              "        text-align: right;\n",
              "    }\n",
              "</style>\n",
              "<table border=\"1\" class=\"dataframe\">\n",
              "  <thead>\n",
              "    <tr style=\"text-align: right;\">\n",
              "      <th></th>\n",
              "      <th>ID</th>\n",
              "      <th>Warehouse_block</th>\n",
              "      <th>Mode_of_Shipment</th>\n",
              "      <th>Customer_care_calls</th>\n",
              "      <th>Customer_rating</th>\n",
              "      <th>Cost_of_the_Product</th>\n",
              "      <th>Prior_purchases</th>\n",
              "      <th>Product_importance</th>\n",
              "      <th>Gender</th>\n",
              "      <th>Discount_offered</th>\n",
              "      <th>Weight_in_gms</th>\n",
              "    </tr>\n",
              "  </thead>\n",
              "  <tbody>\n",
              "    <tr>\n",
              "      <th>2775</th>\n",
              "      <td>2776</td>\n",
              "      <td>B</td>\n",
              "      <td>Ship</td>\n",
              "      <td>4</td>\n",
              "      <td>1</td>\n",
              "      <td>178</td>\n",
              "      <td>3</td>\n",
              "      <td>low</td>\n",
              "      <td>M</td>\n",
              "      <td>19</td>\n",
              "      <td>1906</td>\n",
              "    </tr>\n",
              "    <tr>\n",
              "      <th>2184</th>\n",
              "      <td>2185</td>\n",
              "      <td>D</td>\n",
              "      <td>Road</td>\n",
              "      <td>3</td>\n",
              "      <td>2</td>\n",
              "      <td>204</td>\n",
              "      <td>2</td>\n",
              "      <td>medium</td>\n",
              "      <td>F</td>\n",
              "      <td>35</td>\n",
              "      <td>2090</td>\n",
              "    </tr>\n",
              "    <tr>\n",
              "      <th>5323</th>\n",
              "      <td>5325</td>\n",
              "      <td>A</td>\n",
              "      <td>Road</td>\n",
              "      <td>4</td>\n",
              "      <td>3</td>\n",
              "      <td>175</td>\n",
              "      <td>3</td>\n",
              "      <td>medium</td>\n",
              "      <td>F</td>\n",
              "      <td>4</td>\n",
              "      <td>5784</td>\n",
              "    </tr>\n",
              "    <tr>\n",
              "      <th>9664</th>\n",
              "      <td>9667</td>\n",
              "      <td>D</td>\n",
              "      <td>Ship</td>\n",
              "      <td>7</td>\n",
              "      <td>5</td>\n",
              "      <td>256</td>\n",
              "      <td>4</td>\n",
              "      <td>medium</td>\n",
              "      <td>F</td>\n",
              "      <td>2</td>\n",
              "      <td>1396</td>\n",
              "    </tr>\n",
              "    <tr>\n",
              "      <th>4235</th>\n",
              "      <td>4237</td>\n",
              "      <td>D</td>\n",
              "      <td>Road</td>\n",
              "      <td>3</td>\n",
              "      <td>4</td>\n",
              "      <td>247</td>\n",
              "      <td>2</td>\n",
              "      <td>medium</td>\n",
              "      <td>F</td>\n",
              "      <td>2</td>\n",
              "      <td>5016</td>\n",
              "    </tr>\n",
              "  </tbody>\n",
              "</table>\n",
              "</div>\n",
              "    <div class=\"colab-df-buttons\">\n",
              "\n",
              "  <div class=\"colab-df-container\">\n",
              "    <button class=\"colab-df-convert\" onclick=\"convertToInteractive('df-2c9e44d4-324b-4d00-a6d7-acd1a09306a1')\"\n",
              "            title=\"Convert this dataframe to an interactive table.\"\n",
              "            style=\"display:none;\">\n",
              "\n",
              "  <svg xmlns=\"http://www.w3.org/2000/svg\" height=\"24px\" viewBox=\"0 -960 960 960\">\n",
              "    <path d=\"M120-120v-720h720v720H120Zm60-500h600v-160H180v160Zm220 220h160v-160H400v160Zm0 220h160v-160H400v160ZM180-400h160v-160H180v160Zm440 0h160v-160H620v160ZM180-180h160v-160H180v160Zm440 0h160v-160H620v160Z\"/>\n",
              "  </svg>\n",
              "    </button>\n",
              "\n",
              "  <style>\n",
              "    .colab-df-container {\n",
              "      display:flex;\n",
              "      gap: 12px;\n",
              "    }\n",
              "\n",
              "    .colab-df-convert {\n",
              "      background-color: #E8F0FE;\n",
              "      border: none;\n",
              "      border-radius: 50%;\n",
              "      cursor: pointer;\n",
              "      display: none;\n",
              "      fill: #1967D2;\n",
              "      height: 32px;\n",
              "      padding: 0 0 0 0;\n",
              "      width: 32px;\n",
              "    }\n",
              "\n",
              "    .colab-df-convert:hover {\n",
              "      background-color: #E2EBFA;\n",
              "      box-shadow: 0px 1px 2px rgba(60, 64, 67, 0.3), 0px 1px 3px 1px rgba(60, 64, 67, 0.15);\n",
              "      fill: #174EA6;\n",
              "    }\n",
              "\n",
              "    .colab-df-buttons div {\n",
              "      margin-bottom: 4px;\n",
              "    }\n",
              "\n",
              "    [theme=dark] .colab-df-convert {\n",
              "      background-color: #3B4455;\n",
              "      fill: #D2E3FC;\n",
              "    }\n",
              "\n",
              "    [theme=dark] .colab-df-convert:hover {\n",
              "      background-color: #434B5C;\n",
              "      box-shadow: 0px 1px 3px 1px rgba(0, 0, 0, 0.15);\n",
              "      filter: drop-shadow(0px 1px 2px rgba(0, 0, 0, 0.3));\n",
              "      fill: #FFFFFF;\n",
              "    }\n",
              "  </style>\n",
              "\n",
              "    <script>\n",
              "      const buttonEl =\n",
              "        document.querySelector('#df-2c9e44d4-324b-4d00-a6d7-acd1a09306a1 button.colab-df-convert');\n",
              "      buttonEl.style.display =\n",
              "        google.colab.kernel.accessAllowed ? 'block' : 'none';\n",
              "\n",
              "      async function convertToInteractive(key) {\n",
              "        const element = document.querySelector('#df-2c9e44d4-324b-4d00-a6d7-acd1a09306a1');\n",
              "        const dataTable =\n",
              "          await google.colab.kernel.invokeFunction('convertToInteractive',\n",
              "                                                    [key], {});\n",
              "        if (!dataTable) return;\n",
              "\n",
              "        const docLinkHtml = 'Like what you see? Visit the ' +\n",
              "          '<a target=\"_blank\" href=https://colab.research.google.com/notebooks/data_table.ipynb>data table notebook</a>'\n",
              "          + ' to learn more about interactive tables.';\n",
              "        element.innerHTML = '';\n",
              "        dataTable['output_type'] = 'display_data';\n",
              "        await google.colab.output.renderOutput(dataTable, element);\n",
              "        const docLink = document.createElement('div');\n",
              "        docLink.innerHTML = docLinkHtml;\n",
              "        element.appendChild(docLink);\n",
              "      }\n",
              "    </script>\n",
              "  </div>\n",
              "\n",
              "\n",
              "<div id=\"df-fad48c2c-6fed-4341-aa89-51bfddcf3eb6\">\n",
              "  <button class=\"colab-df-quickchart\" onclick=\"quickchart('df-fad48c2c-6fed-4341-aa89-51bfddcf3eb6')\"\n",
              "            title=\"Suggest charts.\"\n",
              "            style=\"display:none;\">\n",
              "\n",
              "<svg xmlns=\"http://www.w3.org/2000/svg\" height=\"24px\"viewBox=\"0 0 24 24\"\n",
              "     width=\"24px\">\n",
              "    <g>\n",
              "        <path d=\"M19 3H5c-1.1 0-2 .9-2 2v14c0 1.1.9 2 2 2h14c1.1 0 2-.9 2-2V5c0-1.1-.9-2-2-2zM9 17H7v-7h2v7zm4 0h-2V7h2v10zm4 0h-2v-4h2v4z\"/>\n",
              "    </g>\n",
              "</svg>\n",
              "  </button>\n",
              "\n",
              "<style>\n",
              "  .colab-df-quickchart {\n",
              "      --bg-color: #E8F0FE;\n",
              "      --fill-color: #1967D2;\n",
              "      --hover-bg-color: #E2EBFA;\n",
              "      --hover-fill-color: #174EA6;\n",
              "      --disabled-fill-color: #AAA;\n",
              "      --disabled-bg-color: #DDD;\n",
              "  }\n",
              "\n",
              "  [theme=dark] .colab-df-quickchart {\n",
              "      --bg-color: #3B4455;\n",
              "      --fill-color: #D2E3FC;\n",
              "      --hover-bg-color: #434B5C;\n",
              "      --hover-fill-color: #FFFFFF;\n",
              "      --disabled-bg-color: #3B4455;\n",
              "      --disabled-fill-color: #666;\n",
              "  }\n",
              "\n",
              "  .colab-df-quickchart {\n",
              "    background-color: var(--bg-color);\n",
              "    border: none;\n",
              "    border-radius: 50%;\n",
              "    cursor: pointer;\n",
              "    display: none;\n",
              "    fill: var(--fill-color);\n",
              "    height: 32px;\n",
              "    padding: 0;\n",
              "    width: 32px;\n",
              "  }\n",
              "\n",
              "  .colab-df-quickchart:hover {\n",
              "    background-color: var(--hover-bg-color);\n",
              "    box-shadow: 0 1px 2px rgba(60, 64, 67, 0.3), 0 1px 3px 1px rgba(60, 64, 67, 0.15);\n",
              "    fill: var(--button-hover-fill-color);\n",
              "  }\n",
              "\n",
              "  .colab-df-quickchart-complete:disabled,\n",
              "  .colab-df-quickchart-complete:disabled:hover {\n",
              "    background-color: var(--disabled-bg-color);\n",
              "    fill: var(--disabled-fill-color);\n",
              "    box-shadow: none;\n",
              "  }\n",
              "\n",
              "  .colab-df-spinner {\n",
              "    border: 2px solid var(--fill-color);\n",
              "    border-color: transparent;\n",
              "    border-bottom-color: var(--fill-color);\n",
              "    animation:\n",
              "      spin 1s steps(1) infinite;\n",
              "  }\n",
              "\n",
              "  @keyframes spin {\n",
              "    0% {\n",
              "      border-color: transparent;\n",
              "      border-bottom-color: var(--fill-color);\n",
              "      border-left-color: var(--fill-color);\n",
              "    }\n",
              "    20% {\n",
              "      border-color: transparent;\n",
              "      border-left-color: var(--fill-color);\n",
              "      border-top-color: var(--fill-color);\n",
              "    }\n",
              "    30% {\n",
              "      border-color: transparent;\n",
              "      border-left-color: var(--fill-color);\n",
              "      border-top-color: var(--fill-color);\n",
              "      border-right-color: var(--fill-color);\n",
              "    }\n",
              "    40% {\n",
              "      border-color: transparent;\n",
              "      border-right-color: var(--fill-color);\n",
              "      border-top-color: var(--fill-color);\n",
              "    }\n",
              "    60% {\n",
              "      border-color: transparent;\n",
              "      border-right-color: var(--fill-color);\n",
              "    }\n",
              "    80% {\n",
              "      border-color: transparent;\n",
              "      border-right-color: var(--fill-color);\n",
              "      border-bottom-color: var(--fill-color);\n",
              "    }\n",
              "    90% {\n",
              "      border-color: transparent;\n",
              "      border-bottom-color: var(--fill-color);\n",
              "    }\n",
              "  }\n",
              "</style>\n",
              "\n",
              "  <script>\n",
              "    async function quickchart(key) {\n",
              "      const quickchartButtonEl =\n",
              "        document.querySelector('#' + key + ' button');\n",
              "      quickchartButtonEl.disabled = true;  // To prevent multiple clicks.\n",
              "      quickchartButtonEl.classList.add('colab-df-spinner');\n",
              "      try {\n",
              "        const charts = await google.colab.kernel.invokeFunction(\n",
              "            'suggestCharts', [key], {});\n",
              "      } catch (error) {\n",
              "        console.error('Error during call to suggestCharts:', error);\n",
              "      }\n",
              "      quickchartButtonEl.classList.remove('colab-df-spinner');\n",
              "      quickchartButtonEl.classList.add('colab-df-quickchart-complete');\n",
              "    }\n",
              "    (() => {\n",
              "      let quickchartButtonEl =\n",
              "        document.querySelector('#df-fad48c2c-6fed-4341-aa89-51bfddcf3eb6 button');\n",
              "      quickchartButtonEl.style.display =\n",
              "        google.colab.kernel.accessAllowed ? 'block' : 'none';\n",
              "    })();\n",
              "  </script>\n",
              "</div>\n",
              "    </div>\n",
              "  </div>\n"
            ],
            "text/plain": [
              "        ID Warehouse_block Mode_of_Shipment  Customer_care_calls  \\\n",
              "2775  2776               B             Ship                    4   \n",
              "2184  2185               D             Road                    3   \n",
              "5323  5325               A             Road                    4   \n",
              "9664  9667               D             Ship                    7   \n",
              "4235  4237               D             Road                    3   \n",
              "\n",
              "      Customer_rating  Cost_of_the_Product  Prior_purchases  \\\n",
              "2775                1                  178                3   \n",
              "2184                2                  204                2   \n",
              "5323                3                  175                3   \n",
              "9664                5                  256                4   \n",
              "4235                4                  247                2   \n",
              "\n",
              "     Product_importance Gender  Discount_offered  Weight_in_gms  \n",
              "2775                low      M                19           1906  \n",
              "2184             medium      F                35           2090  \n",
              "5323             medium      F                 4           5784  \n",
              "9664             medium      F                 2           1396  \n",
              "4235             medium      F                 2           5016  "
            ]
          },
          "execution_count": 84,
          "metadata": {},
          "output_type": "execute_result"
        }
      ],
      "source": [
        "# Mengunakan Split train_test_split\n",
        "X_train, X_test, y_train, y_test = train_test_split(X, y, test_size = 0.2, random_state=2)\n",
        "\n",
        "print('Train size :', X_train.shape)\n",
        "print('Test size  :', X_test.shape)\n",
        "X_train.head()"
      ]
    },
    {
      "cell_type": "markdown",
      "metadata": {
        "id": "mxLB11Iz0X_x"
      },
      "source": [
        "Setalah kita melakukan split X dan y, selanjutnya split independent dan dependent menjadi data train dan test."
      ]
    },
    {
      "cell_type": "code",
      "execution_count": 85,
      "metadata": {
        "colab": {
          "base_uri": "https://localhost:8080/"
        },
        "id": "KLF7VNSNqRSb",
        "outputId": "0af48826-e95a-4a87-cbb9-b01795602906"
      },
      "outputs": [
        {
          "name": "stdout",
          "output_type": "stream",
          "text": [
            "Shape X_train (8797, 9)\n",
            "Shape X_test (2200, 9)\n"
          ]
        }
      ],
      "source": [
        "# Drop kolom\n",
        "X_train = X_train.drop(['ID','Gender'],axis=1)\n",
        "X_test  = X_test.drop(['ID','Gender'],axis=1)\n",
        "\n",
        "# check kolom\n",
        "print('Shape X_train', X_train.shape)\n",
        "print('Shape X_test',X_test.shape)"
      ]
    },
    {
      "cell_type": "code",
      "execution_count": 86,
      "metadata": {
        "colab": {
          "base_uri": "https://localhost:8080/"
        },
        "id": "EKJjpzdzqs_E",
        "outputId": "a1442415-890e-4ea4-fe92-912ba5241242"
      },
      "outputs": [
        {
          "data": {
            "text/plain": [
              "Warehouse_block        0\n",
              "Mode_of_Shipment       0\n",
              "Customer_care_calls    0\n",
              "Customer_rating        0\n",
              "Cost_of_the_Product    0\n",
              "Prior_purchases        0\n",
              "Product_importance     0\n",
              "Discount_offered       0\n",
              "Weight_in_gms          0\n",
              "dtype: int64"
            ]
          },
          "execution_count": 86,
          "metadata": {},
          "output_type": "execute_result"
        }
      ],
      "source": [
        "# Check X_train\n",
        "X_train.isnull().sum()"
      ]
    },
    {
      "cell_type": "code",
      "execution_count": 87,
      "metadata": {
        "colab": {
          "base_uri": "https://localhost:8080/"
        },
        "id": "VK6l4P25yHM0",
        "outputId": "b1c430bb-8366-46bf-91be-b8530a076bcc"
      },
      "outputs": [
        {
          "data": {
            "text/plain": [
              "Warehouse_block        0\n",
              "Mode_of_Shipment       0\n",
              "Customer_care_calls    0\n",
              "Customer_rating        0\n",
              "Cost_of_the_Product    0\n",
              "Prior_purchases        0\n",
              "Product_importance     0\n",
              "Discount_offered       0\n",
              "Weight_in_gms          0\n",
              "dtype: int64"
            ]
          },
          "execution_count": 87,
          "metadata": {},
          "output_type": "execute_result"
        }
      ],
      "source": [
        "# Check X_test\n",
        "X_test.isnull().sum()"
      ]
    },
    {
      "cell_type": "code",
      "execution_count": 88,
      "metadata": {
        "colab": {
          "base_uri": "https://localhost:8080/"
        },
        "id": "9q_AQX-XyMdK",
        "outputId": "1314bde2-6d60-4890-b864-438892179e28"
      },
      "outputs": [
        {
          "name": "stdout",
          "output_type": "stream",
          "text": [
            "y_train Rot : 0\n",
            "y_test Rot  : 0\n"
          ]
        }
      ],
      "source": [
        "# Check y_train\n",
        "print('y_train Rot :',y_train.isnull().sum())\n",
        "# Check y_test\n",
        "print('y_test Rot  :',y_test.isnull().sum())"
      ]
    },
    {
      "cell_type": "markdown",
      "metadata": {
        "id": "xzwGwRCxz71g"
      },
      "source": [
        "Dari beberapa proses yang kita dapat ada faktor yang tidak mempengaruhi terhadap target, kami akan membuang berdasarkan faktor kolerasi, sedangkan ID hanya data unik maka akan di ikut sertakan di drop.\n",
        "\n",
        "Setalah melakukan drop di check kembali missing value."
      ]
    },
    {
      "cell_type": "code",
      "execution_count": 89,
      "metadata": {
        "colab": {
          "base_uri": "https://localhost:8080/",
          "height": 300
        },
        "id": "dVYRJX1Z8K3l",
        "outputId": "f54a627a-682c-41c8-b633-62183170a8a1"
      },
      "outputs": [
        {
          "data": {
            "text/html": [
              "\n",
              "  <div id=\"df-c9680298-93b8-49bb-bff1-674933c6e700\" class=\"colab-df-container\">\n",
              "    <div>\n",
              "<style scoped>\n",
              "    .dataframe tbody tr th:only-of-type {\n",
              "        vertical-align: middle;\n",
              "    }\n",
              "\n",
              "    .dataframe tbody tr th {\n",
              "        vertical-align: top;\n",
              "    }\n",
              "\n",
              "    .dataframe thead th {\n",
              "        text-align: right;\n",
              "    }\n",
              "</style>\n",
              "<table border=\"1\" class=\"dataframe\">\n",
              "  <thead>\n",
              "    <tr style=\"text-align: right;\">\n",
              "      <th></th>\n",
              "      <th>Customer_care_calls</th>\n",
              "      <th>Customer_rating</th>\n",
              "      <th>Cost_of_the_Product</th>\n",
              "      <th>Prior_purchases</th>\n",
              "      <th>Discount_offered</th>\n",
              "      <th>Weight_in_gms</th>\n",
              "    </tr>\n",
              "  </thead>\n",
              "  <tbody>\n",
              "    <tr>\n",
              "      <th>count</th>\n",
              "      <td>8797.000000</td>\n",
              "      <td>8797.000000</td>\n",
              "      <td>8797.000000</td>\n",
              "      <td>8797.000000</td>\n",
              "      <td>8797.000000</td>\n",
              "      <td>8797.000000</td>\n",
              "    </tr>\n",
              "    <tr>\n",
              "      <th>mean</th>\n",
              "      <td>4.051267</td>\n",
              "      <td>2.996021</td>\n",
              "      <td>210.492668</td>\n",
              "      <td>3.569171</td>\n",
              "      <td>13.318518</td>\n",
              "      <td>3627.971809</td>\n",
              "    </tr>\n",
              "    <tr>\n",
              "      <th>std</th>\n",
              "      <td>1.144210</td>\n",
              "      <td>1.412559</td>\n",
              "      <td>48.057580</td>\n",
              "      <td>1.529651</td>\n",
              "      <td>16.222733</td>\n",
              "      <td>1634.155660</td>\n",
              "    </tr>\n",
              "    <tr>\n",
              "      <th>min</th>\n",
              "      <td>2.000000</td>\n",
              "      <td>1.000000</td>\n",
              "      <td>96.000000</td>\n",
              "      <td>2.000000</td>\n",
              "      <td>1.000000</td>\n",
              "      <td>1001.000000</td>\n",
              "    </tr>\n",
              "    <tr>\n",
              "      <th>25%</th>\n",
              "      <td>3.000000</td>\n",
              "      <td>2.000000</td>\n",
              "      <td>170.000000</td>\n",
              "      <td>3.000000</td>\n",
              "      <td>4.000000</td>\n",
              "      <td>1837.000000</td>\n",
              "    </tr>\n",
              "    <tr>\n",
              "      <th>50%</th>\n",
              "      <td>4.000000</td>\n",
              "      <td>3.000000</td>\n",
              "      <td>215.000000</td>\n",
              "      <td>3.000000</td>\n",
              "      <td>7.000000</td>\n",
              "      <td>4149.000000</td>\n",
              "    </tr>\n",
              "    <tr>\n",
              "      <th>75%</th>\n",
              "      <td>5.000000</td>\n",
              "      <td>4.000000</td>\n",
              "      <td>251.000000</td>\n",
              "      <td>4.000000</td>\n",
              "      <td>10.000000</td>\n",
              "      <td>5041.000000</td>\n",
              "    </tr>\n",
              "    <tr>\n",
              "      <th>max</th>\n",
              "      <td>7.000000</td>\n",
              "      <td>5.000000</td>\n",
              "      <td>310.000000</td>\n",
              "      <td>10.000000</td>\n",
              "      <td>65.000000</td>\n",
              "      <td>7846.000000</td>\n",
              "    </tr>\n",
              "  </tbody>\n",
              "</table>\n",
              "</div>\n",
              "    <div class=\"colab-df-buttons\">\n",
              "\n",
              "  <div class=\"colab-df-container\">\n",
              "    <button class=\"colab-df-convert\" onclick=\"convertToInteractive('df-c9680298-93b8-49bb-bff1-674933c6e700')\"\n",
              "            title=\"Convert this dataframe to an interactive table.\"\n",
              "            style=\"display:none;\">\n",
              "\n",
              "  <svg xmlns=\"http://www.w3.org/2000/svg\" height=\"24px\" viewBox=\"0 -960 960 960\">\n",
              "    <path d=\"M120-120v-720h720v720H120Zm60-500h600v-160H180v160Zm220 220h160v-160H400v160Zm0 220h160v-160H400v160ZM180-400h160v-160H180v160Zm440 0h160v-160H620v160ZM180-180h160v-160H180v160Zm440 0h160v-160H620v160Z\"/>\n",
              "  </svg>\n",
              "    </button>\n",
              "\n",
              "  <style>\n",
              "    .colab-df-container {\n",
              "      display:flex;\n",
              "      gap: 12px;\n",
              "    }\n",
              "\n",
              "    .colab-df-convert {\n",
              "      background-color: #E8F0FE;\n",
              "      border: none;\n",
              "      border-radius: 50%;\n",
              "      cursor: pointer;\n",
              "      display: none;\n",
              "      fill: #1967D2;\n",
              "      height: 32px;\n",
              "      padding: 0 0 0 0;\n",
              "      width: 32px;\n",
              "    }\n",
              "\n",
              "    .colab-df-convert:hover {\n",
              "      background-color: #E2EBFA;\n",
              "      box-shadow: 0px 1px 2px rgba(60, 64, 67, 0.3), 0px 1px 3px 1px rgba(60, 64, 67, 0.15);\n",
              "      fill: #174EA6;\n",
              "    }\n",
              "\n",
              "    .colab-df-buttons div {\n",
              "      margin-bottom: 4px;\n",
              "    }\n",
              "\n",
              "    [theme=dark] .colab-df-convert {\n",
              "      background-color: #3B4455;\n",
              "      fill: #D2E3FC;\n",
              "    }\n",
              "\n",
              "    [theme=dark] .colab-df-convert:hover {\n",
              "      background-color: #434B5C;\n",
              "      box-shadow: 0px 1px 3px 1px rgba(0, 0, 0, 0.15);\n",
              "      filter: drop-shadow(0px 1px 2px rgba(0, 0, 0, 0.3));\n",
              "      fill: #FFFFFF;\n",
              "    }\n",
              "  </style>\n",
              "\n",
              "    <script>\n",
              "      const buttonEl =\n",
              "        document.querySelector('#df-c9680298-93b8-49bb-bff1-674933c6e700 button.colab-df-convert');\n",
              "      buttonEl.style.display =\n",
              "        google.colab.kernel.accessAllowed ? 'block' : 'none';\n",
              "\n",
              "      async function convertToInteractive(key) {\n",
              "        const element = document.querySelector('#df-c9680298-93b8-49bb-bff1-674933c6e700');\n",
              "        const dataTable =\n",
              "          await google.colab.kernel.invokeFunction('convertToInteractive',\n",
              "                                                    [key], {});\n",
              "        if (!dataTable) return;\n",
              "\n",
              "        const docLinkHtml = 'Like what you see? Visit the ' +\n",
              "          '<a target=\"_blank\" href=https://colab.research.google.com/notebooks/data_table.ipynb>data table notebook</a>'\n",
              "          + ' to learn more about interactive tables.';\n",
              "        element.innerHTML = '';\n",
              "        dataTable['output_type'] = 'display_data';\n",
              "        await google.colab.output.renderOutput(dataTable, element);\n",
              "        const docLink = document.createElement('div');\n",
              "        docLink.innerHTML = docLinkHtml;\n",
              "        element.appendChild(docLink);\n",
              "      }\n",
              "    </script>\n",
              "  </div>\n",
              "\n",
              "\n",
              "<div id=\"df-4f71c8d1-b9ac-4be8-9742-1dbce07d24c2\">\n",
              "  <button class=\"colab-df-quickchart\" onclick=\"quickchart('df-4f71c8d1-b9ac-4be8-9742-1dbce07d24c2')\"\n",
              "            title=\"Suggest charts.\"\n",
              "            style=\"display:none;\">\n",
              "\n",
              "<svg xmlns=\"http://www.w3.org/2000/svg\" height=\"24px\"viewBox=\"0 0 24 24\"\n",
              "     width=\"24px\">\n",
              "    <g>\n",
              "        <path d=\"M19 3H5c-1.1 0-2 .9-2 2v14c0 1.1.9 2 2 2h14c1.1 0 2-.9 2-2V5c0-1.1-.9-2-2-2zM9 17H7v-7h2v7zm4 0h-2V7h2v10zm4 0h-2v-4h2v4z\"/>\n",
              "    </g>\n",
              "</svg>\n",
              "  </button>\n",
              "\n",
              "<style>\n",
              "  .colab-df-quickchart {\n",
              "      --bg-color: #E8F0FE;\n",
              "      --fill-color: #1967D2;\n",
              "      --hover-bg-color: #E2EBFA;\n",
              "      --hover-fill-color: #174EA6;\n",
              "      --disabled-fill-color: #AAA;\n",
              "      --disabled-bg-color: #DDD;\n",
              "  }\n",
              "\n",
              "  [theme=dark] .colab-df-quickchart {\n",
              "      --bg-color: #3B4455;\n",
              "      --fill-color: #D2E3FC;\n",
              "      --hover-bg-color: #434B5C;\n",
              "      --hover-fill-color: #FFFFFF;\n",
              "      --disabled-bg-color: #3B4455;\n",
              "      --disabled-fill-color: #666;\n",
              "  }\n",
              "\n",
              "  .colab-df-quickchart {\n",
              "    background-color: var(--bg-color);\n",
              "    border: none;\n",
              "    border-radius: 50%;\n",
              "    cursor: pointer;\n",
              "    display: none;\n",
              "    fill: var(--fill-color);\n",
              "    height: 32px;\n",
              "    padding: 0;\n",
              "    width: 32px;\n",
              "  }\n",
              "\n",
              "  .colab-df-quickchart:hover {\n",
              "    background-color: var(--hover-bg-color);\n",
              "    box-shadow: 0 1px 2px rgba(60, 64, 67, 0.3), 0 1px 3px 1px rgba(60, 64, 67, 0.15);\n",
              "    fill: var(--button-hover-fill-color);\n",
              "  }\n",
              "\n",
              "  .colab-df-quickchart-complete:disabled,\n",
              "  .colab-df-quickchart-complete:disabled:hover {\n",
              "    background-color: var(--disabled-bg-color);\n",
              "    fill: var(--disabled-fill-color);\n",
              "    box-shadow: none;\n",
              "  }\n",
              "\n",
              "  .colab-df-spinner {\n",
              "    border: 2px solid var(--fill-color);\n",
              "    border-color: transparent;\n",
              "    border-bottom-color: var(--fill-color);\n",
              "    animation:\n",
              "      spin 1s steps(1) infinite;\n",
              "  }\n",
              "\n",
              "  @keyframes spin {\n",
              "    0% {\n",
              "      border-color: transparent;\n",
              "      border-bottom-color: var(--fill-color);\n",
              "      border-left-color: var(--fill-color);\n",
              "    }\n",
              "    20% {\n",
              "      border-color: transparent;\n",
              "      border-left-color: var(--fill-color);\n",
              "      border-top-color: var(--fill-color);\n",
              "    }\n",
              "    30% {\n",
              "      border-color: transparent;\n",
              "      border-left-color: var(--fill-color);\n",
              "      border-top-color: var(--fill-color);\n",
              "      border-right-color: var(--fill-color);\n",
              "    }\n",
              "    40% {\n",
              "      border-color: transparent;\n",
              "      border-right-color: var(--fill-color);\n",
              "      border-top-color: var(--fill-color);\n",
              "    }\n",
              "    60% {\n",
              "      border-color: transparent;\n",
              "      border-right-color: var(--fill-color);\n",
              "    }\n",
              "    80% {\n",
              "      border-color: transparent;\n",
              "      border-right-color: var(--fill-color);\n",
              "      border-bottom-color: var(--fill-color);\n",
              "    }\n",
              "    90% {\n",
              "      border-color: transparent;\n",
              "      border-bottom-color: var(--fill-color);\n",
              "    }\n",
              "  }\n",
              "</style>\n",
              "\n",
              "  <script>\n",
              "    async function quickchart(key) {\n",
              "      const quickchartButtonEl =\n",
              "        document.querySelector('#' + key + ' button');\n",
              "      quickchartButtonEl.disabled = true;  // To prevent multiple clicks.\n",
              "      quickchartButtonEl.classList.add('colab-df-spinner');\n",
              "      try {\n",
              "        const charts = await google.colab.kernel.invokeFunction(\n",
              "            'suggestCharts', [key], {});\n",
              "      } catch (error) {\n",
              "        console.error('Error during call to suggestCharts:', error);\n",
              "      }\n",
              "      quickchartButtonEl.classList.remove('colab-df-spinner');\n",
              "      quickchartButtonEl.classList.add('colab-df-quickchart-complete');\n",
              "    }\n",
              "    (() => {\n",
              "      let quickchartButtonEl =\n",
              "        document.querySelector('#df-4f71c8d1-b9ac-4be8-9742-1dbce07d24c2 button');\n",
              "      quickchartButtonEl.style.display =\n",
              "        google.colab.kernel.accessAllowed ? 'block' : 'none';\n",
              "    })();\n",
              "  </script>\n",
              "</div>\n",
              "    </div>\n",
              "  </div>\n"
            ],
            "text/plain": [
              "       Customer_care_calls  Customer_rating  Cost_of_the_Product  \\\n",
              "count          8797.000000      8797.000000          8797.000000   \n",
              "mean              4.051267         2.996021           210.492668   \n",
              "std               1.144210         1.412559            48.057580   \n",
              "min               2.000000         1.000000            96.000000   \n",
              "25%               3.000000         2.000000           170.000000   \n",
              "50%               4.000000         3.000000           215.000000   \n",
              "75%               5.000000         4.000000           251.000000   \n",
              "max               7.000000         5.000000           310.000000   \n",
              "\n",
              "       Prior_purchases  Discount_offered  Weight_in_gms  \n",
              "count      8797.000000       8797.000000    8797.000000  \n",
              "mean          3.569171         13.318518    3627.971809  \n",
              "std           1.529651         16.222733    1634.155660  \n",
              "min           2.000000          1.000000    1001.000000  \n",
              "25%           3.000000          4.000000    1837.000000  \n",
              "50%           3.000000          7.000000    4149.000000  \n",
              "75%           4.000000         10.000000    5041.000000  \n",
              "max          10.000000         65.000000    7846.000000  "
            ]
          },
          "execution_count": 89,
          "metadata": {},
          "output_type": "execute_result"
        }
      ],
      "source": [
        "#check sentral tendency\n",
        "X_train.describe()"
      ]
    },
    {
      "cell_type": "markdown",
      "metadata": {
        "id": "RV6FVx4D8qe9"
      },
      "source": [
        "Rata-rata Weight memiliki berat 3631 gram, min nya ada pada angka 1001 gram sedangkan max ada di angka 7846 gram."
      ]
    },
    {
      "cell_type": "markdown",
      "metadata": {
        "id": "Y3AYrhjG__5I"
      },
      "source": [
        "**Check Outlier**"
      ]
    },
    {
      "cell_type": "code",
      "execution_count": 90,
      "metadata": {
        "id": "zS_RovZL_-v3"
      },
      "outputs": [],
      "source": [
        "def diagnostic_plots(df, variable):\n",
        "    # Define ukurn figure\n",
        "    plt.figure(figsize=(10, 4))\n",
        "\n",
        "    # Histogram\n",
        "    plt.subplot(1, 2, 1)\n",
        "    sns.histplot(df[variable], bins=30)\n",
        "    plt.title('Histogram')\n",
        "\n",
        "    # Boxplot\n",
        "    plt.subplot(1, 2, 2)\n",
        "    sns.boxplot(y=df[variable])\n",
        "    plt.title('Boxplot')\n",
        "\n",
        "    plt.show()"
      ]
    },
    {
      "cell_type": "code",
      "execution_count": 91,
      "metadata": {
        "colab": {
          "base_uri": "https://localhost:8080/",
          "height": 237
        },
        "id": "coEp05G7AaH5",
        "outputId": "0763a07f-c606-4e7c-e682-a5d2034a37e4"
      },
      "outputs": [
        {
          "data": {
            "text/html": [
              "\n",
              "  <div id=\"df-e83dea6a-8ac8-45f6-9567-9385d444e057\" class=\"colab-df-container\">\n",
              "    <div>\n",
              "<style scoped>\n",
              "    .dataframe tbody tr th:only-of-type {\n",
              "        vertical-align: middle;\n",
              "    }\n",
              "\n",
              "    .dataframe tbody tr th {\n",
              "        vertical-align: top;\n",
              "    }\n",
              "\n",
              "    .dataframe thead th {\n",
              "        text-align: right;\n",
              "    }\n",
              "</style>\n",
              "<table border=\"1\" class=\"dataframe\">\n",
              "  <thead>\n",
              "    <tr style=\"text-align: right;\">\n",
              "      <th></th>\n",
              "      <th>Fitur</th>\n",
              "      <th>Skewness</th>\n",
              "    </tr>\n",
              "  </thead>\n",
              "  <tbody>\n",
              "    <tr>\n",
              "      <th>0</th>\n",
              "      <td>Customer_care_calls</td>\n",
              "      <td>0.402907</td>\n",
              "    </tr>\n",
              "    <tr>\n",
              "      <th>1</th>\n",
              "      <td>Customer_rating</td>\n",
              "      <td>-0.003369</td>\n",
              "    </tr>\n",
              "    <tr>\n",
              "      <th>2</th>\n",
              "      <td>Cost_of_the_Product</td>\n",
              "      <td>-0.164067</td>\n",
              "    </tr>\n",
              "    <tr>\n",
              "      <th>3</th>\n",
              "      <td>Prior_purchases</td>\n",
              "      <td>1.682020</td>\n",
              "    </tr>\n",
              "    <tr>\n",
              "      <th>4</th>\n",
              "      <td>Discount_offered</td>\n",
              "      <td>1.813334</td>\n",
              "    </tr>\n",
              "    <tr>\n",
              "      <th>5</th>\n",
              "      <td>Weight_in_gms</td>\n",
              "      <td>-0.245680</td>\n",
              "    </tr>\n",
              "  </tbody>\n",
              "</table>\n",
              "</div>\n",
              "    <div class=\"colab-df-buttons\">\n",
              "\n",
              "  <div class=\"colab-df-container\">\n",
              "    <button class=\"colab-df-convert\" onclick=\"convertToInteractive('df-e83dea6a-8ac8-45f6-9567-9385d444e057')\"\n",
              "            title=\"Convert this dataframe to an interactive table.\"\n",
              "            style=\"display:none;\">\n",
              "\n",
              "  <svg xmlns=\"http://www.w3.org/2000/svg\" height=\"24px\" viewBox=\"0 -960 960 960\">\n",
              "    <path d=\"M120-120v-720h720v720H120Zm60-500h600v-160H180v160Zm220 220h160v-160H400v160Zm0 220h160v-160H400v160ZM180-400h160v-160H180v160Zm440 0h160v-160H620v160ZM180-180h160v-160H180v160Zm440 0h160v-160H620v160Z\"/>\n",
              "  </svg>\n",
              "    </button>\n",
              "\n",
              "  <style>\n",
              "    .colab-df-container {\n",
              "      display:flex;\n",
              "      gap: 12px;\n",
              "    }\n",
              "\n",
              "    .colab-df-convert {\n",
              "      background-color: #E8F0FE;\n",
              "      border: none;\n",
              "      border-radius: 50%;\n",
              "      cursor: pointer;\n",
              "      display: none;\n",
              "      fill: #1967D2;\n",
              "      height: 32px;\n",
              "      padding: 0 0 0 0;\n",
              "      width: 32px;\n",
              "    }\n",
              "\n",
              "    .colab-df-convert:hover {\n",
              "      background-color: #E2EBFA;\n",
              "      box-shadow: 0px 1px 2px rgba(60, 64, 67, 0.3), 0px 1px 3px 1px rgba(60, 64, 67, 0.15);\n",
              "      fill: #174EA6;\n",
              "    }\n",
              "\n",
              "    .colab-df-buttons div {\n",
              "      margin-bottom: 4px;\n",
              "    }\n",
              "\n",
              "    [theme=dark] .colab-df-convert {\n",
              "      background-color: #3B4455;\n",
              "      fill: #D2E3FC;\n",
              "    }\n",
              "\n",
              "    [theme=dark] .colab-df-convert:hover {\n",
              "      background-color: #434B5C;\n",
              "      box-shadow: 0px 1px 3px 1px rgba(0, 0, 0, 0.15);\n",
              "      filter: drop-shadow(0px 1px 2px rgba(0, 0, 0, 0.3));\n",
              "      fill: #FFFFFF;\n",
              "    }\n",
              "  </style>\n",
              "\n",
              "    <script>\n",
              "      const buttonEl =\n",
              "        document.querySelector('#df-e83dea6a-8ac8-45f6-9567-9385d444e057 button.colab-df-convert');\n",
              "      buttonEl.style.display =\n",
              "        google.colab.kernel.accessAllowed ? 'block' : 'none';\n",
              "\n",
              "      async function convertToInteractive(key) {\n",
              "        const element = document.querySelector('#df-e83dea6a-8ac8-45f6-9567-9385d444e057');\n",
              "        const dataTable =\n",
              "          await google.colab.kernel.invokeFunction('convertToInteractive',\n",
              "                                                    [key], {});\n",
              "        if (!dataTable) return;\n",
              "\n",
              "        const docLinkHtml = 'Like what you see? Visit the ' +\n",
              "          '<a target=\"_blank\" href=https://colab.research.google.com/notebooks/data_table.ipynb>data table notebook</a>'\n",
              "          + ' to learn more about interactive tables.';\n",
              "        element.innerHTML = '';\n",
              "        dataTable['output_type'] = 'display_data';\n",
              "        await google.colab.output.renderOutput(dataTable, element);\n",
              "        const docLink = document.createElement('div');\n",
              "        docLink.innerHTML = docLinkHtml;\n",
              "        element.appendChild(docLink);\n",
              "      }\n",
              "    </script>\n",
              "  </div>\n",
              "\n",
              "\n",
              "<div id=\"df-df663903-e956-4103-aa4b-5c04e6035cdf\">\n",
              "  <button class=\"colab-df-quickchart\" onclick=\"quickchart('df-df663903-e956-4103-aa4b-5c04e6035cdf')\"\n",
              "            title=\"Suggest charts.\"\n",
              "            style=\"display:none;\">\n",
              "\n",
              "<svg xmlns=\"http://www.w3.org/2000/svg\" height=\"24px\"viewBox=\"0 0 24 24\"\n",
              "     width=\"24px\">\n",
              "    <g>\n",
              "        <path d=\"M19 3H5c-1.1 0-2 .9-2 2v14c0 1.1.9 2 2 2h14c1.1 0 2-.9 2-2V5c0-1.1-.9-2-2-2zM9 17H7v-7h2v7zm4 0h-2V7h2v10zm4 0h-2v-4h2v4z\"/>\n",
              "    </g>\n",
              "</svg>\n",
              "  </button>\n",
              "\n",
              "<style>\n",
              "  .colab-df-quickchart {\n",
              "      --bg-color: #E8F0FE;\n",
              "      --fill-color: #1967D2;\n",
              "      --hover-bg-color: #E2EBFA;\n",
              "      --hover-fill-color: #174EA6;\n",
              "      --disabled-fill-color: #AAA;\n",
              "      --disabled-bg-color: #DDD;\n",
              "  }\n",
              "\n",
              "  [theme=dark] .colab-df-quickchart {\n",
              "      --bg-color: #3B4455;\n",
              "      --fill-color: #D2E3FC;\n",
              "      --hover-bg-color: #434B5C;\n",
              "      --hover-fill-color: #FFFFFF;\n",
              "      --disabled-bg-color: #3B4455;\n",
              "      --disabled-fill-color: #666;\n",
              "  }\n",
              "\n",
              "  .colab-df-quickchart {\n",
              "    background-color: var(--bg-color);\n",
              "    border: none;\n",
              "    border-radius: 50%;\n",
              "    cursor: pointer;\n",
              "    display: none;\n",
              "    fill: var(--fill-color);\n",
              "    height: 32px;\n",
              "    padding: 0;\n",
              "    width: 32px;\n",
              "  }\n",
              "\n",
              "  .colab-df-quickchart:hover {\n",
              "    background-color: var(--hover-bg-color);\n",
              "    box-shadow: 0 1px 2px rgba(60, 64, 67, 0.3), 0 1px 3px 1px rgba(60, 64, 67, 0.15);\n",
              "    fill: var(--button-hover-fill-color);\n",
              "  }\n",
              "\n",
              "  .colab-df-quickchart-complete:disabled,\n",
              "  .colab-df-quickchart-complete:disabled:hover {\n",
              "    background-color: var(--disabled-bg-color);\n",
              "    fill: var(--disabled-fill-color);\n",
              "    box-shadow: none;\n",
              "  }\n",
              "\n",
              "  .colab-df-spinner {\n",
              "    border: 2px solid var(--fill-color);\n",
              "    border-color: transparent;\n",
              "    border-bottom-color: var(--fill-color);\n",
              "    animation:\n",
              "      spin 1s steps(1) infinite;\n",
              "  }\n",
              "\n",
              "  @keyframes spin {\n",
              "    0% {\n",
              "      border-color: transparent;\n",
              "      border-bottom-color: var(--fill-color);\n",
              "      border-left-color: var(--fill-color);\n",
              "    }\n",
              "    20% {\n",
              "      border-color: transparent;\n",
              "      border-left-color: var(--fill-color);\n",
              "      border-top-color: var(--fill-color);\n",
              "    }\n",
              "    30% {\n",
              "      border-color: transparent;\n",
              "      border-left-color: var(--fill-color);\n",
              "      border-top-color: var(--fill-color);\n",
              "      border-right-color: var(--fill-color);\n",
              "    }\n",
              "    40% {\n",
              "      border-color: transparent;\n",
              "      border-right-color: var(--fill-color);\n",
              "      border-top-color: var(--fill-color);\n",
              "    }\n",
              "    60% {\n",
              "      border-color: transparent;\n",
              "      border-right-color: var(--fill-color);\n",
              "    }\n",
              "    80% {\n",
              "      border-color: transparent;\n",
              "      border-right-color: var(--fill-color);\n",
              "      border-bottom-color: var(--fill-color);\n",
              "    }\n",
              "    90% {\n",
              "      border-color: transparent;\n",
              "      border-bottom-color: var(--fill-color);\n",
              "    }\n",
              "  }\n",
              "</style>\n",
              "\n",
              "  <script>\n",
              "    async function quickchart(key) {\n",
              "      const quickchartButtonEl =\n",
              "        document.querySelector('#' + key + ' button');\n",
              "      quickchartButtonEl.disabled = true;  // To prevent multiple clicks.\n",
              "      quickchartButtonEl.classList.add('colab-df-spinner');\n",
              "      try {\n",
              "        const charts = await google.colab.kernel.invokeFunction(\n",
              "            'suggestCharts', [key], {});\n",
              "      } catch (error) {\n",
              "        console.error('Error during call to suggestCharts:', error);\n",
              "      }\n",
              "      quickchartButtonEl.classList.remove('colab-df-spinner');\n",
              "      quickchartButtonEl.classList.add('colab-df-quickchart-complete');\n",
              "    }\n",
              "    (() => {\n",
              "      let quickchartButtonEl =\n",
              "        document.querySelector('#df-df663903-e956-4103-aa4b-5c04e6035cdf button');\n",
              "      quickchartButtonEl.style.display =\n",
              "        google.colab.kernel.accessAllowed ? 'block' : 'none';\n",
              "    })();\n",
              "  </script>\n",
              "</div>\n",
              "    </div>\n",
              "  </div>\n"
            ],
            "text/plain": [
              "                 Fitur  Skewness\n",
              "0  Customer_care_calls  0.402907\n",
              "1      Customer_rating -0.003369\n",
              "2  Cost_of_the_Product -0.164067\n",
              "3      Prior_purchases  1.682020\n",
              "4     Discount_offered  1.813334\n",
              "5        Weight_in_gms -0.245680"
            ]
          },
          "execution_count": 91,
          "metadata": {},
          "output_type": "execute_result"
        }
      ],
      "source": [
        "# Daftar fitur yang akan dihitung skewness-nya\n",
        "fitur = [\n",
        "      'Customer_care_calls',\n",
        "      'Customer_rating',\n",
        "      'Cost_of_the_Product',\n",
        "      'Prior_purchases',\n",
        "      'Discount_offered',\n",
        "      'Weight_in_gms'\n",
        "]\n",
        "\n",
        "# Menghitung skewness untuk setiap fitur\n",
        "skewness_values = X_train[fitur].apply(lambda x: skew(x)).reset_index()\n",
        "skewness_values.columns = ['Fitur', 'Skewness']\n",
        "\n",
        "# Menampilkan hasilnya\n",
        "skewness_values"
      ]
    },
    {
      "cell_type": "markdown",
      "metadata": {
        "id": "uihkzYInmf6O"
      },
      "source": [
        "Dari hasil pengecheckan hasil skewness kita mendapatkan beberapa kolom memiliki skew yang tinggi maka jika kolom bukan termasuk kategori maka kolom yang skew tinggi akan kami lakukan capping iqr untuk menurunkan outlier."
      ]
    },
    {
      "cell_type": "code",
      "execution_count": 92,
      "metadata": {
        "colab": {
          "base_uri": "https://localhost:8080/",
          "height": 838
        },
        "id": "HZw2cdOuARUx",
        "outputId": "41f2772a-bce5-474b-ceb4-b387869ab45d"
      },
      "outputs": [
        {
          "data": {
            "image/png": "[encoded data removed]",
            "text/plain": [
              "<Figure size 1000x400 with 2 Axes>"
            ]
          },
          "metadata": {},
          "output_type": "display_data"
        },
        {
          "name": "stdout",
          "output_type": "stream",
          "text": [
            "None\n"
          ]
        },
        {
          "data": {
            "image/png": "[encoded data removed]",
            "text/plain": [
              "<Figure size 1000x400 with 2 Axes>"
            ]
          },
          "metadata": {},
          "output_type": "display_data"
        },
        {
          "name": "stdout",
          "output_type": "stream",
          "text": [
            "None\n"
          ]
        }
      ],
      "source": [
        "# Check hasil oulier\n",
        "print(diagnostic_plots(X_train, 'Prior_purchases'))\n",
        "print(diagnostic_plots(X_train, 'Discount_offered'))"
      ]
    },
    {
      "cell_type": "markdown",
      "metadata": {
        "id": "fz_-KyGqEfYC"
      },
      "source": [
        "Dari hasil pengecheckan outlier kita mendapatkan beebrapa hasil yang skew yaitu fitur `Prior_purchases` dan `Discount_offered` di angka melebihi 1. Dan hasil Diagram boxplot outlier memang memiliki jarak yang jauh maka dari hasil yang kita dapat kam memutuskan menggunakan capping untuk handle outlier agar data tidak berkurang dan kami ingin mempertahankan data yang ada."
      ]
    },
    {
      "cell_type": "markdown",
      "metadata": {
        "id": "PkkxSTxGUEyu"
      },
      "source": [
        "**Capping**"
      ]
    },
    {
      "cell_type": "code",
      "execution_count": 93,
      "metadata": {
        "id": "_-VoiDBqDMrF"
      },
      "outputs": [],
      "source": [
        "# Daftar kolom yang akan di-capping dengan Winsorizer\n",
        "columns_to_winsorize = ['Prior_purchases','Discount_offered']\n",
        "\n",
        "# Membuat objek Winsorizer\n",
        "winsoriser = Winsorizer(capping_method='iqr', tail='both', fold=3)\n",
        "\n",
        "# Menggunakan loop untuk menerapkan Winsorizer ke setiap kolom\n",
        "for column in columns_to_winsorize:\n",
        "    X_train[column] = winsoriser.fit_transform(X_train[[column]])"
      ]
    },
    {
      "cell_type": "code",
      "execution_count": 94,
      "metadata": {
        "colab": {
          "base_uri": "https://localhost:8080/",
          "height": 838
        },
        "id": "cAf1sWEcDvGQ",
        "outputId": "d6f26713-201e-48aa-a79c-e42c4a95acfb"
      },
      "outputs": [
        {
          "data": {
            "image/png": "[encoded data removed]",
            "text/plain": [
              "<Figure size 1000x400 with 2 Axes>"
            ]
          },
          "metadata": {},
          "output_type": "display_data"
        },
        {
          "name": "stdout",
          "output_type": "stream",
          "text": [
            "None\n"
          ]
        },
        {
          "data": {
            "image/png": "[encoded data removed]",
            "text/plain": [
              "<Figure size 1000x400 with 2 Axes>"
            ]
          },
          "metadata": {},
          "output_type": "display_data"
        },
        {
          "name": "stdout",
          "output_type": "stream",
          "text": [
            "None\n"
          ]
        }
      ],
      "source": [
        "# Check hasil oulier\n",
        "print(diagnostic_plots(X_train, 'Prior_purchases'))\n",
        "print(diagnostic_plots(X_train, 'Discount_offered'))"
      ]
    },
    {
      "cell_type": "markdown",
      "metadata": {
        "id": "veDyuKsOEpkZ"
      },
      "source": [
        "Handle Outlier yang kita gunakan adalah Winsorizing dengan IQR (Interquartile Range) Berikut adalah beberapa alasan mengapa memilih metode Winsorizer IQR:\n",
        "\n",
        "- Winsorizing dengan IQR adalah pendekatan konservatif yang tidak menghapus data secara keseluruhan atau mengubahnya secara signifikan. Ini hanya \"menggeser\" atau \"memotong\" nilai-nilai yang berada di luar batasan tertentu tanpa mengubah distribusi data secara fundamental.\n",
        "- Meminimalkan Dampak Outliers Metode ini efektif dalam meminimalkan dampak outliers terhadap analisis statistik, seperti mean, median, dan deviasi standar, yang bisa sangat dipengaruhi oleh nilai-nilai ekstrem. Ini membantu mencegah outliers merusak hasil analisis\n",
        "- Dan dengan Iqr kami bisa mempertahan kan informasi dari outlier"
      ]
    },
    {
      "cell_type": "markdown",
      "metadata": {
        "id": "GJH7tF0anqXj"
      },
      "source": [
        "**Encoder**"
      ]
    },
    {
      "cell_type": "code",
      "execution_count": 95,
      "metadata": {
        "colab": {
          "base_uri": "https://localhost:8080/"
        },
        "id": "qEnJslh-z4WW",
        "outputId": "0b115229-a1cb-4a3d-e200-e181401bd8a4"
      },
      "outputs": [
        {
          "name": "stdout",
          "output_type": "stream",
          "text": [
            "['Product_importance']\n",
            "['Mode_of_Shipment', 'Warehouse_block']\n"
          ]
        }
      ],
      "source": [
        "# drop kolom\n",
        "cat_col_odl = ['Product_importance']\n",
        "cat_col_ohe = ['Mode_of_Shipment','Warehouse_block']\n",
        "# menampilkan data\n",
        "print(cat_col_odl)\n",
        "print(cat_col_ohe)"
      ]
    },
    {
      "cell_type": "markdown",
      "metadata": {
        "id": "BlDPzBOan8O_"
      },
      "source": [
        "Sebelum kami encode data akan dipisahkan terlebih dahulu untuk di pisah data yang akan dilakukan Onehotencoder dan Ordinalencoder.\n",
        "Kenapa kolom `Mode_of_Shipment`,`Warehouse_block` Menghindari Bias: One-Hot Encoder sangat berguna untuk menghindari bias yang tidak diinginkan yang dapat timbul jika Anda mengkodekan data kategori menjadi angka-angka yang memiliki urutan tertentu juga tidak ada urutan yang jelas pada data.\n",
        "\n",
        "Dan kenapa kolom `Product_importance` kami gunakan Ordinal karena Ordinal Encoder digunakan ketika memiliki data kategori yang memiliki urutan atau tingkatan yang berarti di antara nilai-nilainya.\n",
        "\n"
      ]
    },
    {
      "cell_type": "code",
      "execution_count": 96,
      "metadata": {
        "colab": {
          "base_uri": "https://localhost:8080/"
        },
        "id": "QzbfzvsWCTfj",
        "outputId": "d2810731-2e2a-4c53-e4d1-35d4a4946059"
      },
      "outputs": [
        {
          "name": "stdout",
          "output_type": "stream",
          "text": [
            "Numerical columns: ['Customer_care_calls', 'Customer_rating', 'Cost_of_the_Product', 'Prior_purchases', 'Discount_offered', 'Weight_in_gms']\n"
          ]
        }
      ],
      "source": [
        "# memisahkan data numerik dan kategori\n",
        "num_col = X_train.select_dtypes(include=np.number).columns.tolist()\n",
        "\n",
        "# menampilkan data\n",
        "print('Numerical columns:',num_col)"
      ]
    },
    {
      "cell_type": "markdown",
      "metadata": {
        "id": "kHasWZFiokat"
      },
      "source": [
        "Kami siapkan data dan kami pisahkan data numeric untuk dilakukan Scaler. Kami memutuskan mengunakan gunakan MinMaxscaler karena untuk Mengurangi Sensitivitas Terhadap Outlier: Min-Max Scaling cenderung lebih tahan terhadap pengaruh outlier karena rentang nilai yang dihasilkan (biasanya 0 hingga 1) membuat nilai outlier tetap berada dalam skala yang sama.\n"
      ]
    },
    {
      "cell_type": "markdown",
      "metadata": {
        "id": "1-XTG8EGpild"
      },
      "source": [
        "**Pipeline**"
      ]
    },
    {
      "cell_type": "code",
      "execution_count": 97,
      "metadata": {
        "id": "gVCgoQuhtsHl"
      },
      "outputs": [],
      "source": [
        "# Pembuatan pipeline dengan make pipeline\n",
        "num_pipeline = make_pipeline(MinMaxScaler())\n",
        "\n",
        "cat_pipeline_ohe = make_pipeline(OneHotEncoder(handle_unknown=\"ignore\"))\n",
        "\n",
        "cat_pipeline_odl = make_pipeline(OrdinalEncoder(categories=[['low', 'medium', 'high']]))\n",
        "\n",
        "preprocessing_pipeline = ColumnTransformer([\n",
        "    ('pipe_num', num_pipeline, num_col),\n",
        "    ('pipe_cat_ohe', cat_pipeline_ohe, cat_col_ohe),\n",
        "    ('pipe_cat_odl', cat_pipeline_odl, cat_col_odl)\n",
        "])"
      ]
    },
    {
      "cell_type": "markdown",
      "metadata": {
        "id": "VneoMF_ApfP0"
      },
      "source": [
        "Disini kita menggunakan pipeline untuk mempermudah dalam meringkas baris kode. Didalam pipeline dilakukan Scaling dan Encoding.\n",
        "\n",
        "**Apa itu pipeline**\n",
        "\n",
        "Pipeline adalah pendekatan dalam pengolahan data dan pembelajaran mesin yang digunakan untuk mengorganisasi aliran kerja pemrosesan data dengan cara yang terstruktur. Ini melibatkan serangkaian langkah-langkah atau operasi yang dilakukan secara berurutan pada data sebelum data tersebut digunakan untuk melatih model pembelajaran mesin atau melakukan prediksi.\n",
        "- Kegunaan untuk meringkas kode.\n",
        "- Pencegahan Data Leakage: Mencegah kebocoran data dengan memisahkan tahapan pemrosesan data dengan benar.\n",
        "\n",
        "\n"
      ]
    },
    {
      "cell_type": "markdown",
      "metadata": {
        "id": "ieORTfBN6LJx"
      },
      "source": [
        "# Model Definition\n",
        "\n",
        "Mendefinisikan model K-Nearest Neighbor, Support Vector Machine, Decision Tree dan Random Forest."
      ]
    },
    {
      "cell_type": "markdown",
      "metadata": {
        "id": "JaA2Pus46YUu"
      },
      "source": [
        "**K-Nearest Neighbor**"
      ]
    },
    {
      "cell_type": "code",
      "execution_count": 98,
      "metadata": {
        "id": "1N-vnDj86Wft"
      },
      "outputs": [],
      "source": [
        "# Definisi model\n",
        "knn = make_pipeline(preprocessing_pipeline, KNeighborsClassifier())"
      ]
    },
    {
      "cell_type": "markdown",
      "metadata": {
        "id": "QjeFzm_gvfQy"
      },
      "source": [
        "K-Nearest Neighbors (K-NN) adalah salah satu algoritma pembelajaran mesin yang digunakan untuk klasifikasi dan regresi. Ini adalah algoritma yang relatif sederhana tetapi memiliki kelebihan dan kekurangan yang perlu dipertimbangkan dalam penggunaannya:\n",
        "1. Sederhana dan Mudah Dimengerti: K-NN adalah salah satu algoritma yang paling mudah dimengerti dalam pembelajaran mesin. Ini cocok untuk pemula dan sering digunakan sebagai pengantar untuk pemahaman dasar pembelajaran mesin.\n",
        "2. Dapat Menangani Data Non-Linier: K-NN dapat digunakan untuk masalah klasifikasi yang tidak memiliki pemisahan linier yang jelas antara kelas-kelas.\n",
        "\n",
        "Kekurangan K-Nearest Neighbors (K-NN):\n",
        "1. Sensitif Terhadap Data Outlier: K-NN sensitif terhadap data outlier. Titik data yang jauh dari sebagian besar tetangganya dapat mempengaruhi hasil prediksi secara signifikan.\n",
        "2. Tidak Mendukung Data Categorical: K-NN biasanya digunakan untuk data numerik, dan memerlukan pengolahan khusus untuk mengatasi data kategorikal dll."
      ]
    },
    {
      "cell_type": "markdown",
      "metadata": {
        "id": "OO8_tu0w9MMO"
      },
      "source": [
        "**Support Vector Machine**"
      ]
    },
    {
      "cell_type": "code",
      "execution_count": 99,
      "metadata": {
        "id": "wtNH-sUU-g7_"
      },
      "outputs": [],
      "source": [
        "# Devinisi model\n",
        "svm = make_pipeline(preprocessing_pipeline, SVC())"
      ]
    },
    {
      "cell_type": "markdown",
      "metadata": {
        "id": "sm1b4-jqwQd1"
      },
      "source": [
        "Support Vector Machine (SVM) adalah salah satu algoritma pembelajaran mesin yang digunakan untuk masalah klasifikasi dan regresi. SVM memiliki sejumlah kelebihan dan kekurangan yang perlu dipertimbangkan dalam pemilihan dan penggunaannya:\n",
        "1. Efektif dalam Kasus Data yang Tidak Linier: SVM dapat mengatasi masalah klasifikasi yang tidak memiliki pemisahan linier dengan menggunakan fungsi kernel. Fungsi kernel memungkinkan SVM untuk melakukan transformasi data ke ruang dimensi yang lebih tinggi di mana pemisahan linier dapat dicapai.\n",
        "2. Robust terhadap Overfitting: SVM cenderung lebih tahan terhadap overfitting (model terlalu sesuai dengan data pelatihan) jika parameter C (trade-off antara margin dan error pelatihan) dipilih dengan bijak.\n",
        "\n",
        "Keurngan SVM :\n",
        "1. Keterbatasan dalam Kasus Regresi: Meskipun SVM terutama digunakan untuk klasifikasi, implementasi SVM untuk regresi (SVR) lebih kompleks dan kurang umum dibandingkan dengan metode regresi lainnya seperti regresi linear.\n",
        "2. Ketergantungan pada Tuning Parameter: Kinerja SVM sangat tergantung pada parameter C dan kernel yang dipilih. Menentukan parameter yang optimal bisa memerlukan eksperimen yang cermat."
      ]
    },
    {
      "cell_type": "markdown",
      "metadata": {
        "id": "iLFXnqsd9UyK"
      },
      "source": [
        "**Decision Tree Classifier**"
      ]
    },
    {
      "cell_type": "code",
      "execution_count": 100,
      "metadata": {
        "id": "5fOVzuXE-tXk"
      },
      "outputs": [],
      "source": [
        "# Devinisi model\n",
        "tree = make_pipeline(preprocessing_pipeline, DecisionTreeClassifier())"
      ]
    },
    {
      "cell_type": "markdown",
      "metadata": {
        "id": "XnMj2Peo0SCp"
      },
      "source": [
        "Decision Tree (Pohon Keputusan) adalah salah satu algoritma pembelajaran mesin yang digunakan untuk tugas klasifikasi dan regresi. Algoritma ini mengambil keputusan atau membuat prediksi dengan membagi data menjadi serangkaian aturan keputusan yang sederhana berbentuk pohon.\n",
        "Kelebihan Decision Tree:\n",
        "1. Penanganan Data Campuran: Decision Tree dapat menangani dataset dengan campuran fitur kategoris dan numerik dengan baik. Ini tidak memerlukan normalisasi atau pemrosesan khusus pada data.\n",
        "2. Kemampuan Menangani Missing Values: Decision Tree dapat menangani data yang memiliki nilai yang hilang (missing values) tanpa memerlukan imputasi (pengisian nilai yang hilang) terlebih dahulu.\n",
        "\n",
        "Kekurangan :\n",
        "1. Overfitting: Decision Tree cenderung rentan terhadap overfitting jika tidak diatur dengan benar. Pohon yang terlalu dalam dan kompleks dapat mempelajari detail-data sampel pelatihan yang noise, tetapi tidak menggeneralisasi dengan baik pada data yang belum pernah dilihat sebelumnya.\n",
        "2. Kerentanan terhadap Variasi Data: Decision Tree sensitif terhadap perubahan kecil dalam data pelatihan, yang dapat menghasilkan pohon yang berbeda. Hal ini dapat mempengaruhi stabilitas model."
      ]
    },
    {
      "cell_type": "markdown",
      "metadata": {
        "id": "xyVQbWjW9YR0"
      },
      "source": [
        "**Random Forest**"
      ]
    },
    {
      "cell_type": "code",
      "execution_count": 101,
      "metadata": {
        "id": "MmdjPuQY-0wK"
      },
      "outputs": [],
      "source": [
        "#Devinisi model\n",
        "rdf = make_pipeline(preprocessing_pipeline, RandomForestClassifier())"
      ]
    },
    {
      "cell_type": "markdown",
      "metadata": {
        "id": "gmoCxW-N4U3n"
      },
      "source": [
        "Random Forest adalah salah satu algoritma ensemble learning yang menggabungkan sejumlah besar pohon keputusan (Decision Tree) menjadi satu model yang lebih kuat. Ensemble learning mengacu pada teknik di mana beberapa model digabungkan untuk meningkatkan kinerja dan ketahanan terhadap overfitting. Berikut adalah kelebihan dan kekurangan dari algoritma Random Forest.\n",
        "\n",
        "Kelebihan :\n",
        "1. Ketepatan Tinggi: Random Forest adalah salah satu algoritma yang paling akurat dan stabil untuk klasifikasi dan regresi. Ini memiliki kemampuan untuk menghasilkan hasil prediksi yang sangat baik.\n",
        "2. Penanganan Fitur yang Baik: Random Forest secara otomatis melakukan seleksi fitur dan memberikan skor pada fitur-fitur yang paling informatif. Ini membantu dalam mengidentifikasi fitur-fitur yang paling relevan dalam dataset.\n",
        "\n",
        "Kekurangan :\n",
        "1. Kesulitan dalam Interpretasi: Random Forest memiliki struktur yang kompleks dengan banyak pohon keputusan, sehingga bisa sulit untuk diinterpretasikan dengan mudah. Anda mungkin tidak dapat dengan mudah menjelaskan mengapa suatu keputusan diambil oleh model.\n",
        "2. Kinerja pada Data Tidak Seimbang: Random Forest dapat cenderung memihak kepada kelas mayoritas pada dataset yang tidak seimbang, kecuali jika langkah-langkah penanganan data tidak seimbang diambil."
      ]
    },
    {
      "cell_type": "markdown",
      "metadata": {
        "id": "VbGcadL9angi"
      },
      "source": [
        "**XGBClassifier**"
      ]
    },
    {
      "cell_type": "code",
      "execution_count": 102,
      "metadata": {
        "id": "WitDE3EKanNS"
      },
      "outputs": [],
      "source": [
        "# Devinisi model\n",
        "xgb = make_pipeline(preprocessing_pipeline, XGBClassifier())"
      ]
    },
    {
      "cell_type": "markdown",
      "metadata": {
        "id": "w_gJ_YwB4-Ya"
      },
      "source": [
        "XGBoost (Extreme Gradient Boosting) adalah algoritma ensemble learning yang sering digunakan untuk tugas klasifikasi dan regresi. XGBoost dikenal karena kinerja yang sangat baik dalam kompetisi data science dan memiliki sejumlah kelebihan serta kekurangan:\n",
        "1. Akurasi Tinggi: XGBoost sering memberikan akurasi yang sangat baik dalam tugas klasifikasi dan regresi. Ini adalah salah satu algoritma yang sangat cocok untuk masalah yang membutuhkan prediksi yang tepat.\n",
        "2. Penanganan Outlier: XGBoost dapat mengatasi outlier dengan baik karena secara alami menggunakan pohon keputusan sebagai komponen utamanya. Pohon keputusan cenderung tidak peka terhadap outlier.\n",
        "\n",
        "Kekurangan XGBoost (XGBClassifier):\n",
        "1. Kompleksitas Parameter: XGBoost memiliki banyak parameter yang perlu diatur, termasuk kedalaman pohon, laju pembelajaran, dan lainnya. Memilih parameter yang optimal dapat memerlukan eksperimen yang cermat.\n",
        "2. Menggunakan Sumber Daya Komputasi yang Signifikan: Pelatihan model XGBoost dapat memerlukan sumber daya komputasi yang signifikan, terutama jika digunakan pada dataset besar."
      ]
    },
    {
      "cell_type": "markdown",
      "metadata": {
        "id": "xvNBT1mn-_4d"
      },
      "source": [
        "# Model Training\n",
        "\n",
        "Pelatihan model adalah proses untuk menjalankan sebuah algoritma machine learning untuk dapat mengolah dataset di dalamnya yang sudah terbagi menjadi data training dan mengoptimalkan algoritma untuk menemukan pola maupun output tertentu."
      ]
    },
    {
      "cell_type": "markdown",
      "metadata": {
        "id": "560_cdn21Tp0"
      },
      "source": [
        "**K-Nearest Neighbor**"
      ]
    },
    {
      "cell_type": "code",
      "execution_count": 103,
      "metadata": {
        "colab": {
          "base_uri": "https://localhost:8080/",
          "height": 190
        },
        "id": "9Fz8GBqT1TYG",
        "outputId": "4115baac-f083-47f9-cacc-efd08cc95dbd"
      },
      "outputs": [
        {
          "data": {
            "text/html": [
              "<style>#sk-container-id-7 {color: black;background-color: white;}#sk-container-id-7 pre{padding: 0;}#sk-container-id-7 div.sk-toggleable {background-color: white;}#sk-container-id-7 label.sk-toggleable__label {cursor: pointer;display: block;width: 100%;margin-bottom: 0;padding: 0.3em;box-sizing: border-box;text-align: center;}#sk-container-id-7 label.sk-toggleable__label-arrow:before {content: \"▸\";float: left;margin-right: 0.25em;color: #696969;}#sk-container-id-7 label.sk-toggleable__label-arrow:hover:before {color: black;}#sk-container-id-7 div.sk-estimator:hover label.sk-toggleable__label-arrow:before {color: black;}#sk-container-id-7 div.sk-toggleable__content {max-height: 0;max-width: 0;overflow: hidden;text-align: left;background-color: #f0f8ff;}#sk-container-id-7 div.sk-toggleable__content pre {margin: 0.2em;color: black;border-radius: 0.25em;background-color: #f0f8ff;}#sk-container-id-7 input.sk-toggleable__control:checked~div.sk-toggleable__content {max-height: 200px;max-width: 100%;overflow: auto;}#sk-container-id-7 input.sk-toggleable__control:checked~label.sk-toggleable__label-arrow:before {content: \"▾\";}#sk-container-id-7 div.sk-estimator input.sk-toggleable__control:checked~label.sk-toggleable__label {background-color: #d4ebff;}#sk-container-id-7 div.sk-label input.sk-toggleable__control:checked~label.sk-toggleable__label {background-color: #d4ebff;}#sk-container-id-7 input.sk-hidden--visually {border: 0;clip: rect(1px 1px 1px 1px);clip: rect(1px, 1px, 1px, 1px);height: 1px;margin: -1px;overflow: hidden;padding: 0;position: absolute;width: 1px;}#sk-container-id-7 div.sk-estimator {font-family: monospace;background-color: #f0f8ff;border: 1px dotted black;border-radius: 0.25em;box-sizing: border-box;margin-bottom: 0.5em;}#sk-container-id-7 div.sk-estimator:hover {background-color: #d4ebff;}#sk-container-id-7 div.sk-parallel-item::after {content: \"\";width: 100%;border-bottom: 1px solid gray;flex-grow: 1;}#sk-container-id-7 div.sk-label:hover label.sk-toggleable__label {background-color: #d4ebff;}#sk-container-id-7 div.sk-serial::before {content: \"\";position: absolute;border-left: 1px solid gray;box-sizing: border-box;top: 0;bottom: 0;left: 50%;z-index: 0;}#sk-container-id-7 div.sk-serial {display: flex;flex-direction: column;align-items: center;background-color: white;padding-right: 0.2em;padding-left: 0.2em;position: relative;}#sk-container-id-7 div.sk-item {position: relative;z-index: 1;}#sk-container-id-7 div.sk-parallel {display: flex;align-items: stretch;justify-content: center;background-color: white;position: relative;}#sk-container-id-7 div.sk-item::before, #sk-container-id-7 div.sk-parallel-item::before {content: \"\";position: absolute;border-left: 1px solid gray;box-sizing: border-box;top: 0;bottom: 0;left: 50%;z-index: -1;}#sk-container-id-7 div.sk-parallel-item {display: flex;flex-direction: column;z-index: 1;position: relative;background-color: white;}#sk-container-id-7 div.sk-parallel-item:first-child::after {align-self: flex-end;width: 50%;}#sk-container-id-7 div.sk-parallel-item:last-child::after {align-self: flex-start;width: 50%;}#sk-container-id-7 div.sk-parallel-item:only-child::after {width: 0;}#sk-container-id-7 div.sk-dashed-wrapped {border: 1px dashed gray;margin: 0 0.4em 0.5em 0.4em;box-sizing: border-box;padding-bottom: 0.4em;background-color: white;}#sk-container-id-7 div.sk-label label {font-family: monospace;font-weight: bold;display: inline-block;line-height: 1.2em;}#sk-container-id-7 div.sk-label-container {text-align: center;}#sk-container-id-7 div.sk-container {/* jupyter's `normalize.less` sets `[hidden] { display: none; }` but bootstrap.min.css set `[hidden] { display: none !important; }` so we also need the `!important` here to be able to override the default hidden behavior on the sphinx rendered scikit-learn.org. See: https://github.com/scikit-learn/scikit-learn/issues/21755 */display: inline-block !important;position: relative;}#sk-container-id-7 div.sk-text-repr-fallback {display: none;}</style><div id=\"sk-container-id-7\" class=\"sk-top-container\"><div class=\"sk-text-repr-fallback\"><pre>Pipeline(steps=[(&#x27;columntransformer&#x27;,\n",
              "                 ColumnTransformer(transformers=[(&#x27;pipe_num&#x27;,\n",
              "                                                  Pipeline(steps=[(&#x27;minmaxscaler&#x27;,\n",
              "                                                                   MinMaxScaler())]),\n",
              "                                                  [&#x27;Customer_care_calls&#x27;,\n",
              "                                                   &#x27;Customer_rating&#x27;,\n",
              "                                                   &#x27;Cost_of_the_Product&#x27;,\n",
              "                                                   &#x27;Prior_purchases&#x27;,\n",
              "                                                   &#x27;Discount_offered&#x27;,\n",
              "                                                   &#x27;Weight_in_gms&#x27;]),\n",
              "                                                 (&#x27;pipe_cat_ohe&#x27;,\n",
              "                                                  Pipeline(steps=[(&#x27;onehotencoder&#x27;,\n",
              "                                                                   OneHotEncoder(handle_unknown=&#x27;ignore&#x27;))]),\n",
              "                                                  [&#x27;Mode_of_Shipment&#x27;,\n",
              "                                                   &#x27;Warehouse_block&#x27;]),\n",
              "                                                 (&#x27;pipe_cat_odl&#x27;,\n",
              "                                                  Pipeline(steps=[(&#x27;ordinalencoder&#x27;,\n",
              "                                                                   OrdinalEncoder(categories=[[&#x27;low&#x27;,\n",
              "                                                                                               &#x27;medium&#x27;,\n",
              "                                                                                               &#x27;high&#x27;]]))]),\n",
              "                                                  [&#x27;Product_importance&#x27;])])),\n",
              "                (&#x27;kneighborsclassifier&#x27;, KNeighborsClassifier())])</pre><b>In a Jupyter environment, please rerun this cell to show the HTML representation or trust the notebook. <br />On GitHub, the HTML representation is unable to render, please try loading this page with nbviewer.org.</b></div><div class=\"sk-container\" hidden><div class=\"sk-item sk-dashed-wrapped\"><div class=\"sk-label-container\"><div class=\"sk-label sk-toggleable\"><input class=\"sk-toggleable__control sk-hidden--visually\" id=\"sk-estimator-id-56\" type=\"checkbox\" ><label for=\"sk-estimator-id-56\" class=\"sk-toggleable__label sk-toggleable__label-arrow\">Pipeline</label><div class=\"sk-toggleable__content\"><pre>Pipeline(steps=[(&#x27;columntransformer&#x27;,\n",
              "                 ColumnTransformer(transformers=[(&#x27;pipe_num&#x27;,\n",
              "                                                  Pipeline(steps=[(&#x27;minmaxscaler&#x27;,\n",
              "                                                                   MinMaxScaler())]),\n",
              "                                                  [&#x27;Customer_care_calls&#x27;,\n",
              "                                                   &#x27;Customer_rating&#x27;,\n",
              "                                                   &#x27;Cost_of_the_Product&#x27;,\n",
              "                                                   &#x27;Prior_purchases&#x27;,\n",
              "                                                   &#x27;Discount_offered&#x27;,\n",
              "                                                   &#x27;Weight_in_gms&#x27;]),\n",
              "                                                 (&#x27;pipe_cat_ohe&#x27;,\n",
              "                                                  Pipeline(steps=[(&#x27;onehotencoder&#x27;,\n",
              "                                                                   OneHotEncoder(handle_unknown=&#x27;ignore&#x27;))]),\n",
              "                                                  [&#x27;Mode_of_Shipment&#x27;,\n",
              "                                                   &#x27;Warehouse_block&#x27;]),\n",
              "                                                 (&#x27;pipe_cat_odl&#x27;,\n",
              "                                                  Pipeline(steps=[(&#x27;ordinalencoder&#x27;,\n",
              "                                                                   OrdinalEncoder(categories=[[&#x27;low&#x27;,\n",
              "                                                                                               &#x27;medium&#x27;,\n",
              "                                                                                               &#x27;high&#x27;]]))]),\n",
              "                                                  [&#x27;Product_importance&#x27;])])),\n",
              "                (&#x27;kneighborsclassifier&#x27;, KNeighborsClassifier())])</pre></div></div></div><div class=\"sk-serial\"><div class=\"sk-item sk-dashed-wrapped\"><div class=\"sk-label-container\"><div class=\"sk-label sk-toggleable\"><input class=\"sk-toggleable__control sk-hidden--visually\" id=\"sk-estimator-id-57\" type=\"checkbox\" ><label for=\"sk-estimator-id-57\" class=\"sk-toggleable__label sk-toggleable__label-arrow\">columntransformer: ColumnTransformer</label><div class=\"sk-toggleable__content\"><pre>ColumnTransformer(transformers=[(&#x27;pipe_num&#x27;,\n",
              "                                 Pipeline(steps=[(&#x27;minmaxscaler&#x27;,\n",
              "                                                  MinMaxScaler())]),\n",
              "                                 [&#x27;Customer_care_calls&#x27;, &#x27;Customer_rating&#x27;,\n",
              "                                  &#x27;Cost_of_the_Product&#x27;, &#x27;Prior_purchases&#x27;,\n",
              "                                  &#x27;Discount_offered&#x27;, &#x27;Weight_in_gms&#x27;]),\n",
              "                                (&#x27;pipe_cat_ohe&#x27;,\n",
              "                                 Pipeline(steps=[(&#x27;onehotencoder&#x27;,\n",
              "                                                  OneHotEncoder(handle_unknown=&#x27;ignore&#x27;))]),\n",
              "                                 [&#x27;Mode_of_Shipment&#x27;, &#x27;Warehouse_block&#x27;]),\n",
              "                                (&#x27;pipe_cat_odl&#x27;,\n",
              "                                 Pipeline(steps=[(&#x27;ordinalencoder&#x27;,\n",
              "                                                  OrdinalEncoder(categories=[[&#x27;low&#x27;,\n",
              "                                                                              &#x27;medium&#x27;,\n",
              "                                                                              &#x27;high&#x27;]]))]),\n",
              "                                 [&#x27;Product_importance&#x27;])])</pre></div></div></div><div class=\"sk-parallel\"><div class=\"sk-parallel-item\"><div class=\"sk-item\"><div class=\"sk-label-container\"><div class=\"sk-label sk-toggleable\"><input class=\"sk-toggleable__control sk-hidden--visually\" id=\"sk-estimator-id-58\" type=\"checkbox\" ><label for=\"sk-estimator-id-58\" class=\"sk-toggleable__label sk-toggleable__label-arrow\">pipe_num</label><div class=\"sk-toggleable__content\"><pre>[&#x27;Customer_care_calls&#x27;, &#x27;Customer_rating&#x27;, &#x27;Cost_of_the_Product&#x27;, &#x27;Prior_purchases&#x27;, &#x27;Discount_offered&#x27;, &#x27;Weight_in_gms&#x27;]</pre></div></div></div><div class=\"sk-serial\"><div class=\"sk-item\"><div class=\"sk-serial\"><div class=\"sk-item\"><div class=\"sk-estimator sk-toggleable\"><input class=\"sk-toggleable__control sk-hidden--visually\" id=\"sk-estimator-id-59\" type=\"checkbox\" ><label for=\"sk-estimator-id-59\" class=\"sk-toggleable__label sk-toggleable__label-arrow\">MinMaxScaler</label><div class=\"sk-toggleable__content\"><pre>MinMaxScaler()</pre></div></div></div></div></div></div></div></div><div class=\"sk-parallel-item\"><div class=\"sk-item\"><div class=\"sk-label-container\"><div class=\"sk-label sk-toggleable\"><input class=\"sk-toggleable__control sk-hidden--visually\" id=\"sk-estimator-id-60\" type=\"checkbox\" ><label for=\"sk-estimator-id-60\" class=\"sk-toggleable__label sk-toggleable__label-arrow\">pipe_cat_ohe</label><div class=\"sk-toggleable__content\"><pre>[&#x27;Mode_of_Shipment&#x27;, &#x27;Warehouse_block&#x27;]</pre></div></div></div><div class=\"sk-serial\"><div class=\"sk-item\"><div class=\"sk-serial\"><div class=\"sk-item\"><div class=\"sk-estimator sk-toggleable\"><input class=\"sk-toggleable__control sk-hidden--visually\" id=\"sk-estimator-id-61\" type=\"checkbox\" ><label for=\"sk-estimator-id-61\" class=\"sk-toggleable__label sk-toggleable__label-arrow\">OneHotEncoder</label><div class=\"sk-toggleable__content\"><pre>OneHotEncoder(handle_unknown=&#x27;ignore&#x27;)</pre></div></div></div></div></div></div></div></div><div class=\"sk-parallel-item\"><div class=\"sk-item\"><div class=\"sk-label-container\"><div class=\"sk-label sk-toggleable\"><input class=\"sk-toggleable__control sk-hidden--visually\" id=\"sk-estimator-id-62\" type=\"checkbox\" ><label for=\"sk-estimator-id-62\" class=\"sk-toggleable__label sk-toggleable__label-arrow\">pipe_cat_odl</label><div class=\"sk-toggleable__content\"><pre>[&#x27;Product_importance&#x27;]</pre></div></div></div><div class=\"sk-serial\"><div class=\"sk-item\"><div class=\"sk-serial\"><div class=\"sk-item\"><div class=\"sk-estimator sk-toggleable\"><input class=\"sk-toggleable__control sk-hidden--visually\" id=\"sk-estimator-id-63\" type=\"checkbox\" ><label for=\"sk-estimator-id-63\" class=\"sk-toggleable__label sk-toggleable__label-arrow\">OrdinalEncoder</label><div class=\"sk-toggleable__content\"><pre>OrdinalEncoder(categories=[[&#x27;low&#x27;, &#x27;medium&#x27;, &#x27;high&#x27;]])</pre></div></div></div></div></div></div></div></div></div></div><div class=\"sk-item\"><div class=\"sk-estimator sk-toggleable\"><input class=\"sk-toggleable__control sk-hidden--visually\" id=\"sk-estimator-id-64\" type=\"checkbox\" ><label for=\"sk-estimator-id-64\" class=\"sk-toggleable__label sk-toggleable__label-arrow\">KNeighborsClassifier</label><div class=\"sk-toggleable__content\"><pre>KNeighborsClassifier()</pre></div></div></div></div></div></div></div>"
            ],
            "text/plain": [
              "Pipeline(steps=[('columntransformer',\n",
              "                 ColumnTransformer(transformers=[('pipe_num',\n",
              "                                                  Pipeline(steps=[('minmaxscaler',\n",
              "                                                                   MinMaxScaler())]),\n",
              "                                                  ['Customer_care_calls',\n",
              "                                                   'Customer_rating',\n",
              "                                                   'Cost_of_the_Product',\n",
              "                                                   'Prior_purchases',\n",
              "                                                   'Discount_offered',\n",
              "                                                   'Weight_in_gms']),\n",
              "                                                 ('pipe_cat_ohe',\n",
              "                                                  Pipeline(steps=[('onehotencoder',\n",
              "                                                                   OneHotEncoder(handle_unknown='ignore'))]),\n",
              "                                                  ['Mode_of_Shipment',\n",
              "                                                   'Warehouse_block']),\n",
              "                                                 ('pipe_cat_odl',\n",
              "                                                  Pipeline(steps=[('ordinalencoder',\n",
              "                                                                   OrdinalEncoder(categories=[['low',\n",
              "                                                                                               'medium',\n",
              "                                                                                               'high']]))]),\n",
              "                                                  ['Product_importance'])])),\n",
              "                ('kneighborsclassifier', KNeighborsClassifier())])"
            ]
          },
          "execution_count": 103,
          "metadata": {},
          "output_type": "execute_result"
        }
      ],
      "source": [
        "# Fit Train\n",
        "knn.fit(X_train, y_train)"
      ]
    },
    {
      "cell_type": "markdown",
      "metadata": {
        "id": "uN776tp61ajy"
      },
      "source": [
        "**Support Vector Machine**"
      ]
    },
    {
      "cell_type": "code",
      "execution_count": 104,
      "metadata": {
        "colab": {
          "base_uri": "https://localhost:8080/",
          "height": 190
        },
        "id": "t-ljPWtz1aN6",
        "outputId": "ada50f7c-1033-4c1d-b7f3-975c9d600b28"
      },
      "outputs": [
        {
          "data": {
            "text/html": [
              "<style>#sk-container-id-8 {color: black;background-color: white;}#sk-container-id-8 pre{padding: 0;}#sk-container-id-8 div.sk-toggleable {background-color: white;}#sk-container-id-8 label.sk-toggleable__label {cursor: pointer;display: block;width: 100%;margin-bottom: 0;padding: 0.3em;box-sizing: border-box;text-align: center;}#sk-container-id-8 label.sk-toggleable__label-arrow:before {content: \"▸\";float: left;margin-right: 0.25em;color: #696969;}#sk-container-id-8 label.sk-toggleable__label-arrow:hover:before {color: black;}#sk-container-id-8 div.sk-estimator:hover label.sk-toggleable__label-arrow:before {color: black;}#sk-container-id-8 div.sk-toggleable__content {max-height: 0;max-width: 0;overflow: hidden;text-align: left;background-color: #f0f8ff;}#sk-container-id-8 div.sk-toggleable__content pre {margin: 0.2em;color: black;border-radius: 0.25em;background-color: #f0f8ff;}#sk-container-id-8 input.sk-toggleable__control:checked~div.sk-toggleable__content {max-height: 200px;max-width: 100%;overflow: auto;}#sk-container-id-8 input.sk-toggleable__control:checked~label.sk-toggleable__label-arrow:before {content: \"▾\";}#sk-container-id-8 div.sk-estimator input.sk-toggleable__control:checked~label.sk-toggleable__label {background-color: #d4ebff;}#sk-container-id-8 div.sk-label input.sk-toggleable__control:checked~label.sk-toggleable__label {background-color: #d4ebff;}#sk-container-id-8 input.sk-hidden--visually {border: 0;clip: rect(1px 1px 1px 1px);clip: rect(1px, 1px, 1px, 1px);height: 1px;margin: -1px;overflow: hidden;padding: 0;position: absolute;width: 1px;}#sk-container-id-8 div.sk-estimator {font-family: monospace;background-color: #f0f8ff;border: 1px dotted black;border-radius: 0.25em;box-sizing: border-box;margin-bottom: 0.5em;}#sk-container-id-8 div.sk-estimator:hover {background-color: #d4ebff;}#sk-container-id-8 div.sk-parallel-item::after {content: \"\";width: 100%;border-bottom: 1px solid gray;flex-grow: 1;}#sk-container-id-8 div.sk-label:hover label.sk-toggleable__label {background-color: #d4ebff;}#sk-container-id-8 div.sk-serial::before {content: \"\";position: absolute;border-left: 1px solid gray;box-sizing: border-box;top: 0;bottom: 0;left: 50%;z-index: 0;}#sk-container-id-8 div.sk-serial {display: flex;flex-direction: column;align-items: center;background-color: white;padding-right: 0.2em;padding-left: 0.2em;position: relative;}#sk-container-id-8 div.sk-item {position: relative;z-index: 1;}#sk-container-id-8 div.sk-parallel {display: flex;align-items: stretch;justify-content: center;background-color: white;position: relative;}#sk-container-id-8 div.sk-item::before, #sk-container-id-8 div.sk-parallel-item::before {content: \"\";position: absolute;border-left: 1px solid gray;box-sizing: border-box;top: 0;bottom: 0;left: 50%;z-index: -1;}#sk-container-id-8 div.sk-parallel-item {display: flex;flex-direction: column;z-index: 1;position: relative;background-color: white;}#sk-container-id-8 div.sk-parallel-item:first-child::after {align-self: flex-end;width: 50%;}#sk-container-id-8 div.sk-parallel-item:last-child::after {align-self: flex-start;width: 50%;}#sk-container-id-8 div.sk-parallel-item:only-child::after {width: 0;}#sk-container-id-8 div.sk-dashed-wrapped {border: 1px dashed gray;margin: 0 0.4em 0.5em 0.4em;box-sizing: border-box;padding-bottom: 0.4em;background-color: white;}#sk-container-id-8 div.sk-label label {font-family: monospace;font-weight: bold;display: inline-block;line-height: 1.2em;}#sk-container-id-8 div.sk-label-container {text-align: center;}#sk-container-id-8 div.sk-container {/* jupyter's `normalize.less` sets `[hidden] { display: none; }` but bootstrap.min.css set `[hidden] { display: none !important; }` so we also need the `!important` here to be able to override the default hidden behavior on the sphinx rendered scikit-learn.org. See: https://github.com/scikit-learn/scikit-learn/issues/21755 */display: inline-block !important;position: relative;}#sk-container-id-8 div.sk-text-repr-fallback {display: none;}</style><div id=\"sk-container-id-8\" class=\"sk-top-container\"><div class=\"sk-text-repr-fallback\"><pre>Pipeline(steps=[(&#x27;columntransformer&#x27;,\n",
              "                 ColumnTransformer(transformers=[(&#x27;pipe_num&#x27;,\n",
              "                                                  Pipeline(steps=[(&#x27;minmaxscaler&#x27;,\n",
              "                                                                   MinMaxScaler())]),\n",
              "                                                  [&#x27;Customer_care_calls&#x27;,\n",
              "                                                   &#x27;Customer_rating&#x27;,\n",
              "                                                   &#x27;Cost_of_the_Product&#x27;,\n",
              "                                                   &#x27;Prior_purchases&#x27;,\n",
              "                                                   &#x27;Discount_offered&#x27;,\n",
              "                                                   &#x27;Weight_in_gms&#x27;]),\n",
              "                                                 (&#x27;pipe_cat_ohe&#x27;,\n",
              "                                                  Pipeline(steps=[(&#x27;onehotencoder&#x27;,\n",
              "                                                                   OneHotEncoder(handle_unknown=&#x27;ignore&#x27;))]),\n",
              "                                                  [&#x27;Mode_of_Shipment&#x27;,\n",
              "                                                   &#x27;Warehouse_block&#x27;]),\n",
              "                                                 (&#x27;pipe_cat_odl&#x27;,\n",
              "                                                  Pipeline(steps=[(&#x27;ordinalencoder&#x27;,\n",
              "                                                                   OrdinalEncoder(categories=[[&#x27;low&#x27;,\n",
              "                                                                                               &#x27;medium&#x27;,\n",
              "                                                                                               &#x27;high&#x27;]]))]),\n",
              "                                                  [&#x27;Product_importance&#x27;])])),\n",
              "                (&#x27;svc&#x27;, SVC())])</pre><b>In a Jupyter environment, please rerun this cell to show the HTML representation or trust the notebook. <br />On GitHub, the HTML representation is unable to render, please try loading this page with nbviewer.org.</b></div><div class=\"sk-container\" hidden><div class=\"sk-item sk-dashed-wrapped\"><div class=\"sk-label-container\"><div class=\"sk-label sk-toggleable\"><input class=\"sk-toggleable__control sk-hidden--visually\" id=\"sk-estimator-id-65\" type=\"checkbox\" ><label for=\"sk-estimator-id-65\" class=\"sk-toggleable__label sk-toggleable__label-arrow\">Pipeline</label><div class=\"sk-toggleable__content\"><pre>Pipeline(steps=[(&#x27;columntransformer&#x27;,\n",
              "                 ColumnTransformer(transformers=[(&#x27;pipe_num&#x27;,\n",
              "                                                  Pipeline(steps=[(&#x27;minmaxscaler&#x27;,\n",
              "                                                                   MinMaxScaler())]),\n",
              "                                                  [&#x27;Customer_care_calls&#x27;,\n",
              "                                                   &#x27;Customer_rating&#x27;,\n",
              "                                                   &#x27;Cost_of_the_Product&#x27;,\n",
              "                                                   &#x27;Prior_purchases&#x27;,\n",
              "                                                   &#x27;Discount_offered&#x27;,\n",
              "                                                   &#x27;Weight_in_gms&#x27;]),\n",
              "                                                 (&#x27;pipe_cat_ohe&#x27;,\n",
              "                                                  Pipeline(steps=[(&#x27;onehotencoder&#x27;,\n",
              "                                                                   OneHotEncoder(handle_unknown=&#x27;ignore&#x27;))]),\n",
              "                                                  [&#x27;Mode_of_Shipment&#x27;,\n",
              "                                                   &#x27;Warehouse_block&#x27;]),\n",
              "                                                 (&#x27;pipe_cat_odl&#x27;,\n",
              "                                                  Pipeline(steps=[(&#x27;ordinalencoder&#x27;,\n",
              "                                                                   OrdinalEncoder(categories=[[&#x27;low&#x27;,\n",
              "                                                                                               &#x27;medium&#x27;,\n",
              "                                                                                               &#x27;high&#x27;]]))]),\n",
              "                                                  [&#x27;Product_importance&#x27;])])),\n",
              "                (&#x27;svc&#x27;, SVC())])</pre></div></div></div><div class=\"sk-serial\"><div class=\"sk-item sk-dashed-wrapped\"><div class=\"sk-label-container\"><div class=\"sk-label sk-toggleable\"><input class=\"sk-toggleable__control sk-hidden--visually\" id=\"sk-estimator-id-66\" type=\"checkbox\" ><label for=\"sk-estimator-id-66\" class=\"sk-toggleable__label sk-toggleable__label-arrow\">columntransformer: ColumnTransformer</label><div class=\"sk-toggleable__content\"><pre>ColumnTransformer(transformers=[(&#x27;pipe_num&#x27;,\n",
              "                                 Pipeline(steps=[(&#x27;minmaxscaler&#x27;,\n",
              "                                                  MinMaxScaler())]),\n",
              "                                 [&#x27;Customer_care_calls&#x27;, &#x27;Customer_rating&#x27;,\n",
              "                                  &#x27;Cost_of_the_Product&#x27;, &#x27;Prior_purchases&#x27;,\n",
              "                                  &#x27;Discount_offered&#x27;, &#x27;Weight_in_gms&#x27;]),\n",
              "                                (&#x27;pipe_cat_ohe&#x27;,\n",
              "                                 Pipeline(steps=[(&#x27;onehotencoder&#x27;,\n",
              "                                                  OneHotEncoder(handle_unknown=&#x27;ignore&#x27;))]),\n",
              "                                 [&#x27;Mode_of_Shipment&#x27;, &#x27;Warehouse_block&#x27;]),\n",
              "                                (&#x27;pipe_cat_odl&#x27;,\n",
              "                                 Pipeline(steps=[(&#x27;ordinalencoder&#x27;,\n",
              "                                                  OrdinalEncoder(categories=[[&#x27;low&#x27;,\n",
              "                                                                              &#x27;medium&#x27;,\n",
              "                                                                              &#x27;high&#x27;]]))]),\n",
              "                                 [&#x27;Product_importance&#x27;])])</pre></div></div></div><div class=\"sk-parallel\"><div class=\"sk-parallel-item\"><div class=\"sk-item\"><div class=\"sk-label-container\"><div class=\"sk-label sk-toggleable\"><input class=\"sk-toggleable__control sk-hidden--visually\" id=\"sk-estimator-id-67\" type=\"checkbox\" ><label for=\"sk-estimator-id-67\" class=\"sk-toggleable__label sk-toggleable__label-arrow\">pipe_num</label><div class=\"sk-toggleable__content\"><pre>[&#x27;Customer_care_calls&#x27;, &#x27;Customer_rating&#x27;, &#x27;Cost_of_the_Product&#x27;, &#x27;Prior_purchases&#x27;, &#x27;Discount_offered&#x27;, &#x27;Weight_in_gms&#x27;]</pre></div></div></div><div class=\"sk-serial\"><div class=\"sk-item\"><div class=\"sk-serial\"><div class=\"sk-item\"><div class=\"sk-estimator sk-toggleable\"><input class=\"sk-toggleable__control sk-hidden--visually\" id=\"sk-estimator-id-68\" type=\"checkbox\" ><label for=\"sk-estimator-id-68\" class=\"sk-toggleable__label sk-toggleable__label-arrow\">MinMaxScaler</label><div class=\"sk-toggleable__content\"><pre>MinMaxScaler()</pre></div></div></div></div></div></div></div></div><div class=\"sk-parallel-item\"><div class=\"sk-item\"><div class=\"sk-label-container\"><div class=\"sk-label sk-toggleable\"><input class=\"sk-toggleable__control sk-hidden--visually\" id=\"sk-estimator-id-69\" type=\"checkbox\" ><label for=\"sk-estimator-id-69\" class=\"sk-toggleable__label sk-toggleable__label-arrow\">pipe_cat_ohe</label><div class=\"sk-toggleable__content\"><pre>[&#x27;Mode_of_Shipment&#x27;, &#x27;Warehouse_block&#x27;]</pre></div></div></div><div class=\"sk-serial\"><div class=\"sk-item\"><div class=\"sk-serial\"><div class=\"sk-item\"><div class=\"sk-estimator sk-toggleable\"><input class=\"sk-toggleable__control sk-hidden--visually\" id=\"sk-estimator-id-70\" type=\"checkbox\" ><label for=\"sk-estimator-id-70\" class=\"sk-toggleable__label sk-toggleable__label-arrow\">OneHotEncoder</label><div class=\"sk-toggleable__content\"><pre>OneHotEncoder(handle_unknown=&#x27;ignore&#x27;)</pre></div></div></div></div></div></div></div></div><div class=\"sk-parallel-item\"><div class=\"sk-item\"><div class=\"sk-label-container\"><div class=\"sk-label sk-toggleable\"><input class=\"sk-toggleable__control sk-hidden--visually\" id=\"sk-estimator-id-71\" type=\"checkbox\" ><label for=\"sk-estimator-id-71\" class=\"sk-toggleable__label sk-toggleable__label-arrow\">pipe_cat_odl</label><div class=\"sk-toggleable__content\"><pre>[&#x27;Product_importance&#x27;]</pre></div></div></div><div class=\"sk-serial\"><div class=\"sk-item\"><div class=\"sk-serial\"><div class=\"sk-item\"><div class=\"sk-estimator sk-toggleable\"><input class=\"sk-toggleable__control sk-hidden--visually\" id=\"sk-estimator-id-72\" type=\"checkbox\" ><label for=\"sk-estimator-id-72\" class=\"sk-toggleable__label sk-toggleable__label-arrow\">OrdinalEncoder</label><div class=\"sk-toggleable__content\"><pre>OrdinalEncoder(categories=[[&#x27;low&#x27;, &#x27;medium&#x27;, &#x27;high&#x27;]])</pre></div></div></div></div></div></div></div></div></div></div><div class=\"sk-item\"><div class=\"sk-estimator sk-toggleable\"><input class=\"sk-toggleable__control sk-hidden--visually\" id=\"sk-estimator-id-73\" type=\"checkbox\" ><label for=\"sk-estimator-id-73\" class=\"sk-toggleable__label sk-toggleable__label-arrow\">SVC</label><div class=\"sk-toggleable__content\"><pre>SVC()</pre></div></div></div></div></div></div></div>"
            ],
            "text/plain": [
              "Pipeline(steps=[('columntransformer',\n",
              "                 ColumnTransformer(transformers=[('pipe_num',\n",
              "                                                  Pipeline(steps=[('minmaxscaler',\n",
              "                                                                   MinMaxScaler())]),\n",
              "                                                  ['Customer_care_calls',\n",
              "                                                   'Customer_rating',\n",
              "                                                   'Cost_of_the_Product',\n",
              "                                                   'Prior_purchases',\n",
              "                                                   'Discount_offered',\n",
              "                                                   'Weight_in_gms']),\n",
              "                                                 ('pipe_cat_ohe',\n",
              "                                                  Pipeline(steps=[('onehotencoder',\n",
              "                                                                   OneHotEncoder(handle_unknown='ignore'))]),\n",
              "                                                  ['Mode_of_Shipment',\n",
              "                                                   'Warehouse_block']),\n",
              "                                                 ('pipe_cat_odl',\n",
              "                                                  Pipeline(steps=[('ordinalencoder',\n",
              "                                                                   OrdinalEncoder(categories=[['low',\n",
              "                                                                                               'medium',\n",
              "                                                                                               'high']]))]),\n",
              "                                                  ['Product_importance'])])),\n",
              "                ('svc', SVC())])"
            ]
          },
          "execution_count": 104,
          "metadata": {},
          "output_type": "execute_result"
        }
      ],
      "source": [
        "# Fit Train\n",
        "svm.fit(X_train, y_train)"
      ]
    },
    {
      "cell_type": "markdown",
      "metadata": {
        "id": "h5Yu1L3wnUK9"
      },
      "source": [
        "**Decision Tree Classifier**"
      ]
    },
    {
      "cell_type": "code",
      "execution_count": 105,
      "metadata": {
        "colab": {
          "base_uri": "https://localhost:8080/",
          "height": 190
        },
        "id": "zWlyuHH1erLH",
        "outputId": "a544628a-ad89-4894-92e7-26468a617d2e"
      },
      "outputs": [
        {
          "data": {
            "text/html": [
              "<style>#sk-container-id-9 {color: black;background-color: white;}#sk-container-id-9 pre{padding: 0;}#sk-container-id-9 div.sk-toggleable {background-color: white;}#sk-container-id-9 label.sk-toggleable__label {cursor: pointer;display: block;width: 100%;margin-bottom: 0;padding: 0.3em;box-sizing: border-box;text-align: center;}#sk-container-id-9 label.sk-toggleable__label-arrow:before {content: \"▸\";float: left;margin-right: 0.25em;color: #696969;}#sk-container-id-9 label.sk-toggleable__label-arrow:hover:before {color: black;}#sk-container-id-9 div.sk-estimator:hover label.sk-toggleable__label-arrow:before {color: black;}#sk-container-id-9 div.sk-toggleable__content {max-height: 0;max-width: 0;overflow: hidden;text-align: left;background-color: #f0f8ff;}#sk-container-id-9 div.sk-toggleable__content pre {margin: 0.2em;color: black;border-radius: 0.25em;background-color: #f0f8ff;}#sk-container-id-9 input.sk-toggleable__control:checked~div.sk-toggleable__content {max-height: 200px;max-width: 100%;overflow: auto;}#sk-container-id-9 input.sk-toggleable__control:checked~label.sk-toggleable__label-arrow:before {content: \"▾\";}#sk-container-id-9 div.sk-estimator input.sk-toggleable__control:checked~label.sk-toggleable__label {background-color: #d4ebff;}#sk-container-id-9 div.sk-label input.sk-toggleable__control:checked~label.sk-toggleable__label {background-color: #d4ebff;}#sk-container-id-9 input.sk-hidden--visually {border: 0;clip: rect(1px 1px 1px 1px);clip: rect(1px, 1px, 1px, 1px);height: 1px;margin: -1px;overflow: hidden;padding: 0;position: absolute;width: 1px;}#sk-container-id-9 div.sk-estimator {font-family: monospace;background-color: #f0f8ff;border: 1px dotted black;border-radius: 0.25em;box-sizing: border-box;margin-bottom: 0.5em;}#sk-container-id-9 div.sk-estimator:hover {background-color: #d4ebff;}#sk-container-id-9 div.sk-parallel-item::after {content: \"\";width: 100%;border-bottom: 1px solid gray;flex-grow: 1;}#sk-container-id-9 div.sk-label:hover label.sk-toggleable__label {background-color: #d4ebff;}#sk-container-id-9 div.sk-serial::before {content: \"\";position: absolute;border-left: 1px solid gray;box-sizing: border-box;top: 0;bottom: 0;left: 50%;z-index: 0;}#sk-container-id-9 div.sk-serial {display: flex;flex-direction: column;align-items: center;background-color: white;padding-right: 0.2em;padding-left: 0.2em;position: relative;}#sk-container-id-9 div.sk-item {position: relative;z-index: 1;}#sk-container-id-9 div.sk-parallel {display: flex;align-items: stretch;justify-content: center;background-color: white;position: relative;}#sk-container-id-9 div.sk-item::before, #sk-container-id-9 div.sk-parallel-item::before {content: \"\";position: absolute;border-left: 1px solid gray;box-sizing: border-box;top: 0;bottom: 0;left: 50%;z-index: -1;}#sk-container-id-9 div.sk-parallel-item {display: flex;flex-direction: column;z-index: 1;position: relative;background-color: white;}#sk-container-id-9 div.sk-parallel-item:first-child::after {align-self: flex-end;width: 50%;}#sk-container-id-9 div.sk-parallel-item:last-child::after {align-self: flex-start;width: 50%;}#sk-container-id-9 div.sk-parallel-item:only-child::after {width: 0;}#sk-container-id-9 div.sk-dashed-wrapped {border: 1px dashed gray;margin: 0 0.4em 0.5em 0.4em;box-sizing: border-box;padding-bottom: 0.4em;background-color: white;}#sk-container-id-9 div.sk-label label {font-family: monospace;font-weight: bold;display: inline-block;line-height: 1.2em;}#sk-container-id-9 div.sk-label-container {text-align: center;}#sk-container-id-9 div.sk-container {/* jupyter's `normalize.less` sets `[hidden] { display: none; }` but bootstrap.min.css set `[hidden] { display: none !important; }` so we also need the `!important` here to be able to override the default hidden behavior on the sphinx rendered scikit-learn.org. See: https://github.com/scikit-learn/scikit-learn/issues/21755 */display: inline-block !important;position: relative;}#sk-container-id-9 div.sk-text-repr-fallback {display: none;}</style><div id=\"sk-container-id-9\" class=\"sk-top-container\"><div class=\"sk-text-repr-fallback\"><pre>Pipeline(steps=[(&#x27;columntransformer&#x27;,\n",
              "                 ColumnTransformer(transformers=[(&#x27;pipe_num&#x27;,\n",
              "                                                  Pipeline(steps=[(&#x27;minmaxscaler&#x27;,\n",
              "                                                                   MinMaxScaler())]),\n",
              "                                                  [&#x27;Customer_care_calls&#x27;,\n",
              "                                                   &#x27;Customer_rating&#x27;,\n",
              "                                                   &#x27;Cost_of_the_Product&#x27;,\n",
              "                                                   &#x27;Prior_purchases&#x27;,\n",
              "                                                   &#x27;Discount_offered&#x27;,\n",
              "                                                   &#x27;Weight_in_gms&#x27;]),\n",
              "                                                 (&#x27;pipe_cat_ohe&#x27;,\n",
              "                                                  Pipeline(steps=[(&#x27;onehotencoder&#x27;,\n",
              "                                                                   OneHotEncoder(handle_unknown=&#x27;ignore&#x27;))]),\n",
              "                                                  [&#x27;Mode_of_Shipment&#x27;,\n",
              "                                                   &#x27;Warehouse_block&#x27;]),\n",
              "                                                 (&#x27;pipe_cat_odl&#x27;,\n",
              "                                                  Pipeline(steps=[(&#x27;ordinalencoder&#x27;,\n",
              "                                                                   OrdinalEncoder(categories=[[&#x27;low&#x27;,\n",
              "                                                                                               &#x27;medium&#x27;,\n",
              "                                                                                               &#x27;high&#x27;]]))]),\n",
              "                                                  [&#x27;Product_importance&#x27;])])),\n",
              "                (&#x27;decisiontreeclassifier&#x27;, DecisionTreeClassifier())])</pre><b>In a Jupyter environment, please rerun this cell to show the HTML representation or trust the notebook. <br />On GitHub, the HTML representation is unable to render, please try loading this page with nbviewer.org.</b></div><div class=\"sk-container\" hidden><div class=\"sk-item sk-dashed-wrapped\"><div class=\"sk-label-container\"><div class=\"sk-label sk-toggleable\"><input class=\"sk-toggleable__control sk-hidden--visually\" id=\"sk-estimator-id-74\" type=\"checkbox\" ><label for=\"sk-estimator-id-74\" class=\"sk-toggleable__label sk-toggleable__label-arrow\">Pipeline</label><div class=\"sk-toggleable__content\"><pre>Pipeline(steps=[(&#x27;columntransformer&#x27;,\n",
              "                 ColumnTransformer(transformers=[(&#x27;pipe_num&#x27;,\n",
              "                                                  Pipeline(steps=[(&#x27;minmaxscaler&#x27;,\n",
              "                                                                   MinMaxScaler())]),\n",
              "                                                  [&#x27;Customer_care_calls&#x27;,\n",
              "                                                   &#x27;Customer_rating&#x27;,\n",
              "                                                   &#x27;Cost_of_the_Product&#x27;,\n",
              "                                                   &#x27;Prior_purchases&#x27;,\n",
              "                                                   &#x27;Discount_offered&#x27;,\n",
              "                                                   &#x27;Weight_in_gms&#x27;]),\n",
              "                                                 (&#x27;pipe_cat_ohe&#x27;,\n",
              "                                                  Pipeline(steps=[(&#x27;onehotencoder&#x27;,\n",
              "                                                                   OneHotEncoder(handle_unknown=&#x27;ignore&#x27;))]),\n",
              "                                                  [&#x27;Mode_of_Shipment&#x27;,\n",
              "                                                   &#x27;Warehouse_block&#x27;]),\n",
              "                                                 (&#x27;pipe_cat_odl&#x27;,\n",
              "                                                  Pipeline(steps=[(&#x27;ordinalencoder&#x27;,\n",
              "                                                                   OrdinalEncoder(categories=[[&#x27;low&#x27;,\n",
              "                                                                                               &#x27;medium&#x27;,\n",
              "                                                                                               &#x27;high&#x27;]]))]),\n",
              "                                                  [&#x27;Product_importance&#x27;])])),\n",
              "                (&#x27;decisiontreeclassifier&#x27;, DecisionTreeClassifier())])</pre></div></div></div><div class=\"sk-serial\"><div class=\"sk-item sk-dashed-wrapped\"><div class=\"sk-label-container\"><div class=\"sk-label sk-toggleable\"><input class=\"sk-toggleable__control sk-hidden--visually\" id=\"sk-estimator-id-75\" type=\"checkbox\" ><label for=\"sk-estimator-id-75\" class=\"sk-toggleable__label sk-toggleable__label-arrow\">columntransformer: ColumnTransformer</label><div class=\"sk-toggleable__content\"><pre>ColumnTransformer(transformers=[(&#x27;pipe_num&#x27;,\n",
              "                                 Pipeline(steps=[(&#x27;minmaxscaler&#x27;,\n",
              "                                                  MinMaxScaler())]),\n",
              "                                 [&#x27;Customer_care_calls&#x27;, &#x27;Customer_rating&#x27;,\n",
              "                                  &#x27;Cost_of_the_Product&#x27;, &#x27;Prior_purchases&#x27;,\n",
              "                                  &#x27;Discount_offered&#x27;, &#x27;Weight_in_gms&#x27;]),\n",
              "                                (&#x27;pipe_cat_ohe&#x27;,\n",
              "                                 Pipeline(steps=[(&#x27;onehotencoder&#x27;,\n",
              "                                                  OneHotEncoder(handle_unknown=&#x27;ignore&#x27;))]),\n",
              "                                 [&#x27;Mode_of_Shipment&#x27;, &#x27;Warehouse_block&#x27;]),\n",
              "                                (&#x27;pipe_cat_odl&#x27;,\n",
              "                                 Pipeline(steps=[(&#x27;ordinalencoder&#x27;,\n",
              "                                                  OrdinalEncoder(categories=[[&#x27;low&#x27;,\n",
              "                                                                              &#x27;medium&#x27;,\n",
              "                                                                              &#x27;high&#x27;]]))]),\n",
              "                                 [&#x27;Product_importance&#x27;])])</pre></div></div></div><div class=\"sk-parallel\"><div class=\"sk-parallel-item\"><div class=\"sk-item\"><div class=\"sk-label-container\"><div class=\"sk-label sk-toggleable\"><input class=\"sk-toggleable__control sk-hidden--visually\" id=\"sk-estimator-id-76\" type=\"checkbox\" ><label for=\"sk-estimator-id-76\" class=\"sk-toggleable__label sk-toggleable__label-arrow\">pipe_num</label><div class=\"sk-toggleable__content\"><pre>[&#x27;Customer_care_calls&#x27;, &#x27;Customer_rating&#x27;, &#x27;Cost_of_the_Product&#x27;, &#x27;Prior_purchases&#x27;, &#x27;Discount_offered&#x27;, &#x27;Weight_in_gms&#x27;]</pre></div></div></div><div class=\"sk-serial\"><div class=\"sk-item\"><div class=\"sk-serial\"><div class=\"sk-item\"><div class=\"sk-estimator sk-toggleable\"><input class=\"sk-toggleable__control sk-hidden--visually\" id=\"sk-estimator-id-77\" type=\"checkbox\" ><label for=\"sk-estimator-id-77\" class=\"sk-toggleable__label sk-toggleable__label-arrow\">MinMaxScaler</label><div class=\"sk-toggleable__content\"><pre>MinMaxScaler()</pre></div></div></div></div></div></div></div></div><div class=\"sk-parallel-item\"><div class=\"sk-item\"><div class=\"sk-label-container\"><div class=\"sk-label sk-toggleable\"><input class=\"sk-toggleable__control sk-hidden--visually\" id=\"sk-estimator-id-78\" type=\"checkbox\" ><label for=\"sk-estimator-id-78\" class=\"sk-toggleable__label sk-toggleable__label-arrow\">pipe_cat_ohe</label><div class=\"sk-toggleable__content\"><pre>[&#x27;Mode_of_Shipment&#x27;, &#x27;Warehouse_block&#x27;]</pre></div></div></div><div class=\"sk-serial\"><div class=\"sk-item\"><div class=\"sk-serial\"><div class=\"sk-item\"><div class=\"sk-estimator sk-toggleable\"><input class=\"sk-toggleable__control sk-hidden--visually\" id=\"sk-estimator-id-79\" type=\"checkbox\" ><label for=\"sk-estimator-id-79\" class=\"sk-toggleable__label sk-toggleable__label-arrow\">OneHotEncoder</label><div class=\"sk-toggleable__content\"><pre>OneHotEncoder(handle_unknown=&#x27;ignore&#x27;)</pre></div></div></div></div></div></div></div></div><div class=\"sk-parallel-item\"><div class=\"sk-item\"><div class=\"sk-label-container\"><div class=\"sk-label sk-toggleable\"><input class=\"sk-toggleable__control sk-hidden--visually\" id=\"sk-estimator-id-80\" type=\"checkbox\" ><label for=\"sk-estimator-id-80\" class=\"sk-toggleable__label sk-toggleable__label-arrow\">pipe_cat_odl</label><div class=\"sk-toggleable__content\"><pre>[&#x27;Product_importance&#x27;]</pre></div></div></div><div class=\"sk-serial\"><div class=\"sk-item\"><div class=\"sk-serial\"><div class=\"sk-item\"><div class=\"sk-estimator sk-toggleable\"><input class=\"sk-toggleable__control sk-hidden--visually\" id=\"sk-estimator-id-81\" type=\"checkbox\" ><label for=\"sk-estimator-id-81\" class=\"sk-toggleable__label sk-toggleable__label-arrow\">OrdinalEncoder</label><div class=\"sk-toggleable__content\"><pre>OrdinalEncoder(categories=[[&#x27;low&#x27;, &#x27;medium&#x27;, &#x27;high&#x27;]])</pre></div></div></div></div></div></div></div></div></div></div><div class=\"sk-item\"><div class=\"sk-estimator sk-toggleable\"><input class=\"sk-toggleable__control sk-hidden--visually\" id=\"sk-estimator-id-82\" type=\"checkbox\" ><label for=\"sk-estimator-id-82\" class=\"sk-toggleable__label sk-toggleable__label-arrow\">DecisionTreeClassifier</label><div class=\"sk-toggleable__content\"><pre>DecisionTreeClassifier()</pre></div></div></div></div></div></div></div>"
            ],
            "text/plain": [
              "Pipeline(steps=[('columntransformer',\n",
              "                 ColumnTransformer(transformers=[('pipe_num',\n",
              "                                                  Pipeline(steps=[('minmaxscaler',\n",
              "                                                                   MinMaxScaler())]),\n",
              "                                                  ['Customer_care_calls',\n",
              "                                                   'Customer_rating',\n",
              "                                                   'Cost_of_the_Product',\n",
              "                                                   'Prior_purchases',\n",
              "                                                   'Discount_offered',\n",
              "                                                   'Weight_in_gms']),\n",
              "                                                 ('pipe_cat_ohe',\n",
              "                                                  Pipeline(steps=[('onehotencoder',\n",
              "                                                                   OneHotEncoder(handle_unknown='ignore'))]),\n",
              "                                                  ['Mode_of_Shipment',\n",
              "                                                   'Warehouse_block']),\n",
              "                                                 ('pipe_cat_odl',\n",
              "                                                  Pipeline(steps=[('ordinalencoder',\n",
              "                                                                   OrdinalEncoder(categories=[['low',\n",
              "                                                                                               'medium',\n",
              "                                                                                               'high']]))]),\n",
              "                                                  ['Product_importance'])])),\n",
              "                ('decisiontreeclassifier', DecisionTreeClassifier())])"
            ]
          },
          "execution_count": 105,
          "metadata": {},
          "output_type": "execute_result"
        }
      ],
      "source": [
        "# Fit Train\n",
        "tree.fit(X_train, y_train)"
      ]
    },
    {
      "cell_type": "markdown",
      "metadata": {
        "id": "s7PNiL0V1jm3"
      },
      "source": [
        "**Random Forest**"
      ]
    },
    {
      "cell_type": "code",
      "execution_count": 106,
      "metadata": {
        "colab": {
          "base_uri": "https://localhost:8080/",
          "height": 190
        },
        "id": "v38h4pR01jRr",
        "outputId": "d1ea3bdc-9f9e-4b9a-8e0f-968c69e9309d"
      },
      "outputs": [
        {
          "data": {
            "text/html": [
              "<style>#sk-container-id-10 {color: black;background-color: white;}#sk-container-id-10 pre{padding: 0;}#sk-container-id-10 div.sk-toggleable {background-color: white;}#sk-container-id-10 label.sk-toggleable__label {cursor: pointer;display: block;width: 100%;margin-bottom: 0;padding: 0.3em;box-sizing: border-box;text-align: center;}#sk-container-id-10 label.sk-toggleable__label-arrow:before {content: \"▸\";float: left;margin-right: 0.25em;color: #696969;}#sk-container-id-10 label.sk-toggleable__label-arrow:hover:before {color: black;}#sk-container-id-10 div.sk-estimator:hover label.sk-toggleable__label-arrow:before {color: black;}#sk-container-id-10 div.sk-toggleable__content {max-height: 0;max-width: 0;overflow: hidden;text-align: left;background-color: #f0f8ff;}#sk-container-id-10 div.sk-toggleable__content pre {margin: 0.2em;color: black;border-radius: 0.25em;background-color: #f0f8ff;}#sk-container-id-10 input.sk-toggleable__control:checked~div.sk-toggleable__content {max-height: 200px;max-width: 100%;overflow: auto;}#sk-container-id-10 input.sk-toggleable__control:checked~label.sk-toggleable__label-arrow:before {content: \"▾\";}#sk-container-id-10 div.sk-estimator input.sk-toggleable__control:checked~label.sk-toggleable__label {background-color: #d4ebff;}#sk-container-id-10 div.sk-label input.sk-toggleable__control:checked~label.sk-toggleable__label {background-color: #d4ebff;}#sk-container-id-10 input.sk-hidden--visually {border: 0;clip: rect(1px 1px 1px 1px);clip: rect(1px, 1px, 1px, 1px);height: 1px;margin: -1px;overflow: hidden;padding: 0;position: absolute;width: 1px;}#sk-container-id-10 div.sk-estimator {font-family: monospace;background-color: #f0f8ff;border: 1px dotted black;border-radius: 0.25em;box-sizing: border-box;margin-bottom: 0.5em;}#sk-container-id-10 div.sk-estimator:hover {background-color: #d4ebff;}#sk-container-id-10 div.sk-parallel-item::after {content: \"\";width: 100%;border-bottom: 1px solid gray;flex-grow: 1;}#sk-container-id-10 div.sk-label:hover label.sk-toggleable__label {background-color: #d4ebff;}#sk-container-id-10 div.sk-serial::before {content: \"\";position: absolute;border-left: 1px solid gray;box-sizing: border-box;top: 0;bottom: 0;left: 50%;z-index: 0;}#sk-container-id-10 div.sk-serial {display: flex;flex-direction: column;align-items: center;background-color: white;padding-right: 0.2em;padding-left: 0.2em;position: relative;}#sk-container-id-10 div.sk-item {position: relative;z-index: 1;}#sk-container-id-10 div.sk-parallel {display: flex;align-items: stretch;justify-content: center;background-color: white;position: relative;}#sk-container-id-10 div.sk-item::before, #sk-container-id-10 div.sk-parallel-item::before {content: \"\";position: absolute;border-left: 1px solid gray;box-sizing: border-box;top: 0;bottom: 0;left: 50%;z-index: -1;}#sk-container-id-10 div.sk-parallel-item {display: flex;flex-direction: column;z-index: 1;position: relative;background-color: white;}#sk-container-id-10 div.sk-parallel-item:first-child::after {align-self: flex-end;width: 50%;}#sk-container-id-10 div.sk-parallel-item:last-child::after {align-self: flex-start;width: 50%;}#sk-container-id-10 div.sk-parallel-item:only-child::after {width: 0;}#sk-container-id-10 div.sk-dashed-wrapped {border: 1px dashed gray;margin: 0 0.4em 0.5em 0.4em;box-sizing: border-box;padding-bottom: 0.4em;background-color: white;}#sk-container-id-10 div.sk-label label {font-family: monospace;font-weight: bold;display: inline-block;line-height: 1.2em;}#sk-container-id-10 div.sk-label-container {text-align: center;}#sk-container-id-10 div.sk-container {/* jupyter's `normalize.less` sets `[hidden] { display: none; }` but bootstrap.min.css set `[hidden] { display: none !important; }` so we also need the `!important` here to be able to override the default hidden behavior on the sphinx rendered scikit-learn.org. See: https://github.com/scikit-learn/scikit-learn/issues/21755 */display: inline-block !important;position: relative;}#sk-container-id-10 div.sk-text-repr-fallback {display: none;}</style><div id=\"sk-container-id-10\" class=\"sk-top-container\"><div class=\"sk-text-repr-fallback\"><pre>Pipeline(steps=[(&#x27;columntransformer&#x27;,\n",
              "                 ColumnTransformer(transformers=[(&#x27;pipe_num&#x27;,\n",
              "                                                  Pipeline(steps=[(&#x27;minmaxscaler&#x27;,\n",
              "                                                                   MinMaxScaler())]),\n",
              "                                                  [&#x27;Customer_care_calls&#x27;,\n",
              "                                                   &#x27;Customer_rating&#x27;,\n",
              "                                                   &#x27;Cost_of_the_Product&#x27;,\n",
              "                                                   &#x27;Prior_purchases&#x27;,\n",
              "                                                   &#x27;Discount_offered&#x27;,\n",
              "                                                   &#x27;Weight_in_gms&#x27;]),\n",
              "                                                 (&#x27;pipe_cat_ohe&#x27;,\n",
              "                                                  Pipeline(steps=[(&#x27;onehotencoder&#x27;,\n",
              "                                                                   OneHotEncoder(handle_unknown=&#x27;ignore&#x27;))]),\n",
              "                                                  [&#x27;Mode_of_Shipment&#x27;,\n",
              "                                                   &#x27;Warehouse_block&#x27;]),\n",
              "                                                 (&#x27;pipe_cat_odl&#x27;,\n",
              "                                                  Pipeline(steps=[(&#x27;ordinalencoder&#x27;,\n",
              "                                                                   OrdinalEncoder(categories=[[&#x27;low&#x27;,\n",
              "                                                                                               &#x27;medium&#x27;,\n",
              "                                                                                               &#x27;high&#x27;]]))]),\n",
              "                                                  [&#x27;Product_importance&#x27;])])),\n",
              "                (&#x27;randomforestclassifier&#x27;, RandomForestClassifier())])</pre><b>In a Jupyter environment, please rerun this cell to show the HTML representation or trust the notebook. <br />On GitHub, the HTML representation is unable to render, please try loading this page with nbviewer.org.</b></div><div class=\"sk-container\" hidden><div class=\"sk-item sk-dashed-wrapped\"><div class=\"sk-label-container\"><div class=\"sk-label sk-toggleable\"><input class=\"sk-toggleable__control sk-hidden--visually\" id=\"sk-estimator-id-83\" type=\"checkbox\" ><label for=\"sk-estimator-id-83\" class=\"sk-toggleable__label sk-toggleable__label-arrow\">Pipeline</label><div class=\"sk-toggleable__content\"><pre>Pipeline(steps=[(&#x27;columntransformer&#x27;,\n",
              "                 ColumnTransformer(transformers=[(&#x27;pipe_num&#x27;,\n",
              "                                                  Pipeline(steps=[(&#x27;minmaxscaler&#x27;,\n",
              "                                                                   MinMaxScaler())]),\n",
              "                                                  [&#x27;Customer_care_calls&#x27;,\n",
              "                                                   &#x27;Customer_rating&#x27;,\n",
              "                                                   &#x27;Cost_of_the_Product&#x27;,\n",
              "                                                   &#x27;Prior_purchases&#x27;,\n",
              "                                                   &#x27;Discount_offered&#x27;,\n",
              "                                                   &#x27;Weight_in_gms&#x27;]),\n",
              "                                                 (&#x27;pipe_cat_ohe&#x27;,\n",
              "                                                  Pipeline(steps=[(&#x27;onehotencoder&#x27;,\n",
              "                                                                   OneHotEncoder(handle_unknown=&#x27;ignore&#x27;))]),\n",
              "                                                  [&#x27;Mode_of_Shipment&#x27;,\n",
              "                                                   &#x27;Warehouse_block&#x27;]),\n",
              "                                                 (&#x27;pipe_cat_odl&#x27;,\n",
              "                                                  Pipeline(steps=[(&#x27;ordinalencoder&#x27;,\n",
              "                                                                   OrdinalEncoder(categories=[[&#x27;low&#x27;,\n",
              "                                                                                               &#x27;medium&#x27;,\n",
              "                                                                                               &#x27;high&#x27;]]))]),\n",
              "                                                  [&#x27;Product_importance&#x27;])])),\n",
              "                (&#x27;randomforestclassifier&#x27;, RandomForestClassifier())])</pre></div></div></div><div class=\"sk-serial\"><div class=\"sk-item sk-dashed-wrapped\"><div class=\"sk-label-container\"><div class=\"sk-label sk-toggleable\"><input class=\"sk-toggleable__control sk-hidden--visually\" id=\"sk-estimator-id-84\" type=\"checkbox\" ><label for=\"sk-estimator-id-84\" class=\"sk-toggleable__label sk-toggleable__label-arrow\">columntransformer: ColumnTransformer</label><div class=\"sk-toggleable__content\"><pre>ColumnTransformer(transformers=[(&#x27;pipe_num&#x27;,\n",
              "                                 Pipeline(steps=[(&#x27;minmaxscaler&#x27;,\n",
              "                                                  MinMaxScaler())]),\n",
              "                                 [&#x27;Customer_care_calls&#x27;, &#x27;Customer_rating&#x27;,\n",
              "                                  &#x27;Cost_of_the_Product&#x27;, &#x27;Prior_purchases&#x27;,\n",
              "                                  &#x27;Discount_offered&#x27;, &#x27;Weight_in_gms&#x27;]),\n",
              "                                (&#x27;pipe_cat_ohe&#x27;,\n",
              "                                 Pipeline(steps=[(&#x27;onehotencoder&#x27;,\n",
              "                                                  OneHotEncoder(handle_unknown=&#x27;ignore&#x27;))]),\n",
              "                                 [&#x27;Mode_of_Shipment&#x27;, &#x27;Warehouse_block&#x27;]),\n",
              "                                (&#x27;pipe_cat_odl&#x27;,\n",
              "                                 Pipeline(steps=[(&#x27;ordinalencoder&#x27;,\n",
              "                                                  OrdinalEncoder(categories=[[&#x27;low&#x27;,\n",
              "                                                                              &#x27;medium&#x27;,\n",
              "                                                                              &#x27;high&#x27;]]))]),\n",
              "                                 [&#x27;Product_importance&#x27;])])</pre></div></div></div><div class=\"sk-parallel\"><div class=\"sk-parallel-item\"><div class=\"sk-item\"><div class=\"sk-label-container\"><div class=\"sk-label sk-toggleable\"><input class=\"sk-toggleable__control sk-hidden--visually\" id=\"sk-estimator-id-85\" type=\"checkbox\" ><label for=\"sk-estimator-id-85\" class=\"sk-toggleable__label sk-toggleable__label-arrow\">pipe_num</label><div class=\"sk-toggleable__content\"><pre>[&#x27;Customer_care_calls&#x27;, &#x27;Customer_rating&#x27;, &#x27;Cost_of_the_Product&#x27;, &#x27;Prior_purchases&#x27;, &#x27;Discount_offered&#x27;, &#x27;Weight_in_gms&#x27;]</pre></div></div></div><div class=\"sk-serial\"><div class=\"sk-item\"><div class=\"sk-serial\"><div class=\"sk-item\"><div class=\"sk-estimator sk-toggleable\"><input class=\"sk-toggleable__control sk-hidden--visually\" id=\"sk-estimator-id-86\" type=\"checkbox\" ><label for=\"sk-estimator-id-86\" class=\"sk-toggleable__label sk-toggleable__label-arrow\">MinMaxScaler</label><div class=\"sk-toggleable__content\"><pre>MinMaxScaler()</pre></div></div></div></div></div></div></div></div><div class=\"sk-parallel-item\"><div class=\"sk-item\"><div class=\"sk-label-container\"><div class=\"sk-label sk-toggleable\"><input class=\"sk-toggleable__control sk-hidden--visually\" id=\"sk-estimator-id-87\" type=\"checkbox\" ><label for=\"sk-estimator-id-87\" class=\"sk-toggleable__label sk-toggleable__label-arrow\">pipe_cat_ohe</label><div class=\"sk-toggleable__content\"><pre>[&#x27;Mode_of_Shipment&#x27;, &#x27;Warehouse_block&#x27;]</pre></div></div></div><div class=\"sk-serial\"><div class=\"sk-item\"><div class=\"sk-serial\"><div class=\"sk-item\"><div class=\"sk-estimator sk-toggleable\"><input class=\"sk-toggleable__control sk-hidden--visually\" id=\"sk-estimator-id-88\" type=\"checkbox\" ><label for=\"sk-estimator-id-88\" class=\"sk-toggleable__label sk-toggleable__label-arrow\">OneHotEncoder</label><div class=\"sk-toggleable__content\"><pre>OneHotEncoder(handle_unknown=&#x27;ignore&#x27;)</pre></div></div></div></div></div></div></div></div><div class=\"sk-parallel-item\"><div class=\"sk-item\"><div class=\"sk-label-container\"><div class=\"sk-label sk-toggleable\"><input class=\"sk-toggleable__control sk-hidden--visually\" id=\"sk-estimator-id-89\" type=\"checkbox\" ><label for=\"sk-estimator-id-89\" class=\"sk-toggleable__label sk-toggleable__label-arrow\">pipe_cat_odl</label><div class=\"sk-toggleable__content\"><pre>[&#x27;Product_importance&#x27;]</pre></div></div></div><div class=\"sk-serial\"><div class=\"sk-item\"><div class=\"sk-serial\"><div class=\"sk-item\"><div class=\"sk-estimator sk-toggleable\"><input class=\"sk-toggleable__control sk-hidden--visually\" id=\"sk-estimator-id-90\" type=\"checkbox\" ><label for=\"sk-estimator-id-90\" class=\"sk-toggleable__label sk-toggleable__label-arrow\">OrdinalEncoder</label><div class=\"sk-toggleable__content\"><pre>OrdinalEncoder(categories=[[&#x27;low&#x27;, &#x27;medium&#x27;, &#x27;high&#x27;]])</pre></div></div></div></div></div></div></div></div></div></div><div class=\"sk-item\"><div class=\"sk-estimator sk-toggleable\"><input class=\"sk-toggleable__control sk-hidden--visually\" id=\"sk-estimator-id-91\" type=\"checkbox\" ><label for=\"sk-estimator-id-91\" class=\"sk-toggleable__label sk-toggleable__label-arrow\">RandomForestClassifier</label><div class=\"sk-toggleable__content\"><pre>RandomForestClassifier()</pre></div></div></div></div></div></div></div>"
            ],
            "text/plain": [
              "Pipeline(steps=[('columntransformer',\n",
              "                 ColumnTransformer(transformers=[('pipe_num',\n",
              "                                                  Pipeline(steps=[('minmaxscaler',\n",
              "                                                                   MinMaxScaler())]),\n",
              "                                                  ['Customer_care_calls',\n",
              "                                                   'Customer_rating',\n",
              "                                                   'Cost_of_the_Product',\n",
              "                                                   'Prior_purchases',\n",
              "                                                   'Discount_offered',\n",
              "                                                   'Weight_in_gms']),\n",
              "                                                 ('pipe_cat_ohe',\n",
              "                                                  Pipeline(steps=[('onehotencoder',\n",
              "                                                                   OneHotEncoder(handle_unknown='ignore'))]),\n",
              "                                                  ['Mode_of_Shipment',\n",
              "                                                   'Warehouse_block']),\n",
              "                                                 ('pipe_cat_odl',\n",
              "                                                  Pipeline(steps=[('ordinalencoder',\n",
              "                                                                   OrdinalEncoder(categories=[['low',\n",
              "                                                                                               'medium',\n",
              "                                                                                               'high']]))]),\n",
              "                                                  ['Product_importance'])])),\n",
              "                ('randomforestclassifier', RandomForestClassifier())])"
            ]
          },
          "execution_count": 106,
          "metadata": {},
          "output_type": "execute_result"
        }
      ],
      "source": [
        "# Fit Train\n",
        "rdf.fit(X_train, y_train)"
      ]
    },
    {
      "cell_type": "markdown",
      "metadata": {
        "id": "EbR03xPj12US"
      },
      "source": [
        "**XGBClassifier**"
      ]
    },
    {
      "cell_type": "code",
      "execution_count": 107,
      "metadata": {
        "colab": {
          "base_uri": "https://localhost:8080/",
          "height": 190
        },
        "id": "tO8JgIFH119i",
        "outputId": "001eedc6-425f-446c-fdb7-81417199e173"
      },
      "outputs": [
        {
          "data": {
            "text/html": [
              "<style>#sk-container-id-11 {color: black;background-color: white;}#sk-container-id-11 pre{padding: 0;}#sk-container-id-11 div.sk-toggleable {background-color: white;}#sk-container-id-11 label.sk-toggleable__label {cursor: pointer;display: block;width: 100%;margin-bottom: 0;padding: 0.3em;box-sizing: border-box;text-align: center;}#sk-container-id-11 label.sk-toggleable__label-arrow:before {content: \"▸\";float: left;margin-right: 0.25em;color: #696969;}#sk-container-id-11 label.sk-toggleable__label-arrow:hover:before {color: black;}#sk-container-id-11 div.sk-estimator:hover label.sk-toggleable__label-arrow:before {color: black;}#sk-container-id-11 div.sk-toggleable__content {max-height: 0;max-width: 0;overflow: hidden;text-align: left;background-color: #f0f8ff;}#sk-container-id-11 div.sk-toggleable__content pre {margin: 0.2em;color: black;border-radius: 0.25em;background-color: #f0f8ff;}#sk-container-id-11 input.sk-toggleable__control:checked~div.sk-toggleable__content {max-height: 200px;max-width: 100%;overflow: auto;}#sk-container-id-11 input.sk-toggleable__control:checked~label.sk-toggleable__label-arrow:before {content: \"▾\";}#sk-container-id-11 div.sk-estimator input.sk-toggleable__control:checked~label.sk-toggleable__label {background-color: #d4ebff;}#sk-container-id-11 div.sk-label input.sk-toggleable__control:checked~label.sk-toggleable__label {background-color: #d4ebff;}#sk-container-id-11 input.sk-hidden--visually {border: 0;clip: rect(1px 1px 1px 1px);clip: rect(1px, 1px, 1px, 1px);height: 1px;margin: -1px;overflow: hidden;padding: 0;position: absolute;width: 1px;}#sk-container-id-11 div.sk-estimator {font-family: monospace;background-color: #f0f8ff;border: 1px dotted black;border-radius: 0.25em;box-sizing: border-box;margin-bottom: 0.5em;}#sk-container-id-11 div.sk-estimator:hover {background-color: #d4ebff;}#sk-container-id-11 div.sk-parallel-item::after {content: \"\";width: 100%;border-bottom: 1px solid gray;flex-grow: 1;}#sk-container-id-11 div.sk-label:hover label.sk-toggleable__label {background-color: #d4ebff;}#sk-container-id-11 div.sk-serial::before {content: \"\";position: absolute;border-left: 1px solid gray;box-sizing: border-box;top: 0;bottom: 0;left: 50%;z-index: 0;}#sk-container-id-11 div.sk-serial {display: flex;flex-direction: column;align-items: center;background-color: white;padding-right: 0.2em;padding-left: 0.2em;position: relative;}#sk-container-id-11 div.sk-item {position: relative;z-index: 1;}#sk-container-id-11 div.sk-parallel {display: flex;align-items: stretch;justify-content: center;background-color: white;position: relative;}#sk-container-id-11 div.sk-item::before, #sk-container-id-11 div.sk-parallel-item::before {content: \"\";position: absolute;border-left: 1px solid gray;box-sizing: border-box;top: 0;bottom: 0;left: 50%;z-index: -1;}#sk-container-id-11 div.sk-parallel-item {display: flex;flex-direction: column;z-index: 1;position: relative;background-color: white;}#sk-container-id-11 div.sk-parallel-item:first-child::after {align-self: flex-end;width: 50%;}#sk-container-id-11 div.sk-parallel-item:last-child::after {align-self: flex-start;width: 50%;}#sk-container-id-11 div.sk-parallel-item:only-child::after {width: 0;}#sk-container-id-11 div.sk-dashed-wrapped {border: 1px dashed gray;margin: 0 0.4em 0.5em 0.4em;box-sizing: border-box;padding-bottom: 0.4em;background-color: white;}#sk-container-id-11 div.sk-label label {font-family: monospace;font-weight: bold;display: inline-block;line-height: 1.2em;}#sk-container-id-11 div.sk-label-container {text-align: center;}#sk-container-id-11 div.sk-container {/* jupyter's `normalize.less` sets `[hidden] { display: none; }` but bootstrap.min.css set `[hidden] { display: none !important; }` so we also need the `!important` here to be able to override the default hidden behavior on the sphinx rendered scikit-learn.org. See: https://github.com/scikit-learn/scikit-learn/issues/21755 */display: inline-block !important;position: relative;}#sk-container-id-11 div.sk-text-repr-fallback {display: none;}</style><div id=\"sk-container-id-11\" class=\"sk-top-container\"><div class=\"sk-text-repr-fallback\"><pre>Pipeline(steps=[(&#x27;columntransformer&#x27;,\n",
              "                 ColumnTransformer(transformers=[(&#x27;pipe_num&#x27;,\n",
              "                                                  Pipeline(steps=[(&#x27;minmaxscaler&#x27;,\n",
              "                                                                   MinMaxScaler())]),\n",
              "                                                  [&#x27;Customer_care_calls&#x27;,\n",
              "                                                   &#x27;Customer_rating&#x27;,\n",
              "                                                   &#x27;Cost_of_the_Product&#x27;,\n",
              "                                                   &#x27;Prior_purchases&#x27;,\n",
              "                                                   &#x27;Discount_offered&#x27;,\n",
              "                                                   &#x27;Weight_in_gms&#x27;]),\n",
              "                                                 (&#x27;pipe_cat_ohe&#x27;,\n",
              "                                                  Pipeline(steps=[(&#x27;onehotencoder&#x27;,\n",
              "                                                                   OneHotEncoder(handle_unknown=&#x27;ignore&#x27;))]),\n",
              "                                                  [&#x27;Mode_of_...\n",
              "                               feature_types=None, gamma=None, gpu_id=None,\n",
              "                               grow_policy=None, importance_type=None,\n",
              "                               interaction_constraints=None, learning_rate=None,\n",
              "                               max_bin=None, max_cat_threshold=None,\n",
              "                               max_cat_to_onehot=None, max_delta_step=None,\n",
              "                               max_depth=None, max_leaves=None,\n",
              "                               min_child_weight=None, missing=nan,\n",
              "                               monotone_constraints=None, n_estimators=100,\n",
              "                               n_jobs=None, num_parallel_tree=None,\n",
              "                               predictor=None, random_state=None, ...))])</pre><b>In a Jupyter environment, please rerun this cell to show the HTML representation or trust the notebook. <br />On GitHub, the HTML representation is unable to render, please try loading this page with nbviewer.org.</b></div><div class=\"sk-container\" hidden><div class=\"sk-item sk-dashed-wrapped\"><div class=\"sk-label-container\"><div class=\"sk-label sk-toggleable\"><input class=\"sk-toggleable__control sk-hidden--visually\" id=\"sk-estimator-id-92\" type=\"checkbox\" ><label for=\"sk-estimator-id-92\" class=\"sk-toggleable__label sk-toggleable__label-arrow\">Pipeline</label><div class=\"sk-toggleable__content\"><pre>Pipeline(steps=[(&#x27;columntransformer&#x27;,\n",
              "                 ColumnTransformer(transformers=[(&#x27;pipe_num&#x27;,\n",
              "                                                  Pipeline(steps=[(&#x27;minmaxscaler&#x27;,\n",
              "                                                                   MinMaxScaler())]),\n",
              "                                                  [&#x27;Customer_care_calls&#x27;,\n",
              "                                                   &#x27;Customer_rating&#x27;,\n",
              "                                                   &#x27;Cost_of_the_Product&#x27;,\n",
              "                                                   &#x27;Prior_purchases&#x27;,\n",
              "                                                   &#x27;Discount_offered&#x27;,\n",
              "                                                   &#x27;Weight_in_gms&#x27;]),\n",
              "                                                 (&#x27;pipe_cat_ohe&#x27;,\n",
              "                                                  Pipeline(steps=[(&#x27;onehotencoder&#x27;,\n",
              "                                                                   OneHotEncoder(handle_unknown=&#x27;ignore&#x27;))]),\n",
              "                                                  [&#x27;Mode_of_...\n",
              "                               feature_types=None, gamma=None, gpu_id=None,\n",
              "                               grow_policy=None, importance_type=None,\n",
              "                               interaction_constraints=None, learning_rate=None,\n",
              "                               max_bin=None, max_cat_threshold=None,\n",
              "                               max_cat_to_onehot=None, max_delta_step=None,\n",
              "                               max_depth=None, max_leaves=None,\n",
              "                               min_child_weight=None, missing=nan,\n",
              "                               monotone_constraints=None, n_estimators=100,\n",
              "                               n_jobs=None, num_parallel_tree=None,\n",
              "                               predictor=None, random_state=None, ...))])</pre></div></div></div><div class=\"sk-serial\"><div class=\"sk-item sk-dashed-wrapped\"><div class=\"sk-label-container\"><div class=\"sk-label sk-toggleable\"><input class=\"sk-toggleable__control sk-hidden--visually\" id=\"sk-estimator-id-93\" type=\"checkbox\" ><label for=\"sk-estimator-id-93\" class=\"sk-toggleable__label sk-toggleable__label-arrow\">columntransformer: ColumnTransformer</label><div class=\"sk-toggleable__content\"><pre>ColumnTransformer(transformers=[(&#x27;pipe_num&#x27;,\n",
              "                                 Pipeline(steps=[(&#x27;minmaxscaler&#x27;,\n",
              "                                                  MinMaxScaler())]),\n",
              "                                 [&#x27;Customer_care_calls&#x27;, &#x27;Customer_rating&#x27;,\n",
              "                                  &#x27;Cost_of_the_Product&#x27;, &#x27;Prior_purchases&#x27;,\n",
              "                                  &#x27;Discount_offered&#x27;, &#x27;Weight_in_gms&#x27;]),\n",
              "                                (&#x27;pipe_cat_ohe&#x27;,\n",
              "                                 Pipeline(steps=[(&#x27;onehotencoder&#x27;,\n",
              "                                                  OneHotEncoder(handle_unknown=&#x27;ignore&#x27;))]),\n",
              "                                 [&#x27;Mode_of_Shipment&#x27;, &#x27;Warehouse_block&#x27;]),\n",
              "                                (&#x27;pipe_cat_odl&#x27;,\n",
              "                                 Pipeline(steps=[(&#x27;ordinalencoder&#x27;,\n",
              "                                                  OrdinalEncoder(categories=[[&#x27;low&#x27;,\n",
              "                                                                              &#x27;medium&#x27;,\n",
              "                                                                              &#x27;high&#x27;]]))]),\n",
              "                                 [&#x27;Product_importance&#x27;])])</pre></div></div></div><div class=\"sk-parallel\"><div class=\"sk-parallel-item\"><div class=\"sk-item\"><div class=\"sk-label-container\"><div class=\"sk-label sk-toggleable\"><input class=\"sk-toggleable__control sk-hidden--visually\" id=\"sk-estimator-id-94\" type=\"checkbox\" ><label for=\"sk-estimator-id-94\" class=\"sk-toggleable__label sk-toggleable__label-arrow\">pipe_num</label><div class=\"sk-toggleable__content\"><pre>[&#x27;Customer_care_calls&#x27;, &#x27;Customer_rating&#x27;, &#x27;Cost_of_the_Product&#x27;, &#x27;Prior_purchases&#x27;, &#x27;Discount_offered&#x27;, &#x27;Weight_in_gms&#x27;]</pre></div></div></div><div class=\"sk-serial\"><div class=\"sk-item\"><div class=\"sk-serial\"><div class=\"sk-item\"><div class=\"sk-estimator sk-toggleable\"><input class=\"sk-toggleable__control sk-hidden--visually\" id=\"sk-estimator-id-95\" type=\"checkbox\" ><label for=\"sk-estimator-id-95\" class=\"sk-toggleable__label sk-toggleable__label-arrow\">MinMaxScaler</label><div class=\"sk-toggleable__content\"><pre>MinMaxScaler()</pre></div></div></div></div></div></div></div></div><div class=\"sk-parallel-item\"><div class=\"sk-item\"><div class=\"sk-label-container\"><div class=\"sk-label sk-toggleable\"><input class=\"sk-toggleable__control sk-hidden--visually\" id=\"sk-estimator-id-96\" type=\"checkbox\" ><label for=\"sk-estimator-id-96\" class=\"sk-toggleable__label sk-toggleable__label-arrow\">pipe_cat_ohe</label><div class=\"sk-toggleable__content\"><pre>[&#x27;Mode_of_Shipment&#x27;, &#x27;Warehouse_block&#x27;]</pre></div></div></div><div class=\"sk-serial\"><div class=\"sk-item\"><div class=\"sk-serial\"><div class=\"sk-item\"><div class=\"sk-estimator sk-toggleable\"><input class=\"sk-toggleable__control sk-hidden--visually\" id=\"sk-estimator-id-97\" type=\"checkbox\" ><label for=\"sk-estimator-id-97\" class=\"sk-toggleable__label sk-toggleable__label-arrow\">OneHotEncoder</label><div class=\"sk-toggleable__content\"><pre>OneHotEncoder(handle_unknown=&#x27;ignore&#x27;)</pre></div></div></div></div></div></div></div></div><div class=\"sk-parallel-item\"><div class=\"sk-item\"><div class=\"sk-label-container\"><div class=\"sk-label sk-toggleable\"><input class=\"sk-toggleable__control sk-hidden--visually\" id=\"sk-estimator-id-98\" type=\"checkbox\" ><label for=\"sk-estimator-id-98\" class=\"sk-toggleable__label sk-toggleable__label-arrow\">pipe_cat_odl</label><div class=\"sk-toggleable__content\"><pre>[&#x27;Product_importance&#x27;]</pre></div></div></div><div class=\"sk-serial\"><div class=\"sk-item\"><div class=\"sk-serial\"><div class=\"sk-item\"><div class=\"sk-estimator sk-toggleable\"><input class=\"sk-toggleable__control sk-hidden--visually\" id=\"sk-estimator-id-99\" type=\"checkbox\" ><label for=\"sk-estimator-id-99\" class=\"sk-toggleable__label sk-toggleable__label-arrow\">OrdinalEncoder</label><div class=\"sk-toggleable__content\"><pre>OrdinalEncoder(categories=[[&#x27;low&#x27;, &#x27;medium&#x27;, &#x27;high&#x27;]])</pre></div></div></div></div></div></div></div></div></div></div><div class=\"sk-item\"><div class=\"sk-estimator sk-toggleable\"><input class=\"sk-toggleable__control sk-hidden--visually\" id=\"sk-estimator-id-100\" type=\"checkbox\" ><label for=\"sk-estimator-id-100\" class=\"sk-toggleable__label sk-toggleable__label-arrow\">XGBClassifier</label><div class=\"sk-toggleable__content\"><pre>XGBClassifier(base_score=None, booster=None, callbacks=None,\n",
              "              colsample_bylevel=None, colsample_bynode=None,\n",
              "              colsample_bytree=None, early_stopping_rounds=None,\n",
              "              enable_categorical=False, eval_metric=None, feature_types=None,\n",
              "              gamma=None, gpu_id=None, grow_policy=None, importance_type=None,\n",
              "              interaction_constraints=None, learning_rate=None, max_bin=None,\n",
              "              max_cat_threshold=None, max_cat_to_onehot=None,\n",
              "              max_delta_step=None, max_depth=None, max_leaves=None,\n",
              "              min_child_weight=None, missing=nan, monotone_constraints=None,\n",
              "              n_estimators=100, n_jobs=None, num_parallel_tree=None,\n",
              "              predictor=None, random_state=None, ...)</pre></div></div></div></div></div></div></div>"
            ],
            "text/plain": [
              "Pipeline(steps=[('columntransformer',\n",
              "                 ColumnTransformer(transformers=[('pipe_num',\n",
              "                                                  Pipeline(steps=[('minmaxscaler',\n",
              "                                                                   MinMaxScaler())]),\n",
              "                                                  ['Customer_care_calls',\n",
              "                                                   'Customer_rating',\n",
              "                                                   'Cost_of_the_Product',\n",
              "                                                   'Prior_purchases',\n",
              "                                                   'Discount_offered',\n",
              "                                                   'Weight_in_gms']),\n",
              "                                                 ('pipe_cat_ohe',\n",
              "                                                  Pipeline(steps=[('onehotencoder',\n",
              "                                                                   OneHotEncoder(handle_unknown='ignore'))]),\n",
              "                                                  ['Mode_of_...\n",
              "                               feature_types=None, gamma=None, gpu_id=None,\n",
              "                               grow_policy=None, importance_type=None,\n",
              "                               interaction_constraints=None, learning_rate=None,\n",
              "                               max_bin=None, max_cat_threshold=None,\n",
              "                               max_cat_to_onehot=None, max_delta_step=None,\n",
              "                               max_depth=None, max_leaves=None,\n",
              "                               min_child_weight=None, missing=nan,\n",
              "                               monotone_constraints=None, n_estimators=100,\n",
              "                               n_jobs=None, num_parallel_tree=None,\n",
              "                               predictor=None, random_state=None, ...))])"
            ]
          },
          "execution_count": 107,
          "metadata": {},
          "output_type": "execute_result"
        }
      ],
      "source": [
        "# Fit Train\n",
        "xgb.fit(X_train, y_train)"
      ]
    },
    {
      "cell_type": "markdown",
      "metadata": {
        "id": "WERGjoai8CbD"
      },
      "source": [
        "-------------------------------------------------------------------------------------------------"
      ]
    },
    {
      "cell_type": "markdown",
      "metadata": {
        "id": "PimgUdjRDXQs"
      },
      "source": [
        "# **Model Evaluation**\n",
        "\n",
        "Evaluasi model adalah menguji akurasi data testing menggunakan evaluasi model setelah Pelatihan Model. Dalam Model evaluasi kita akan mencari nilai recall yang paling tinggi dan konsisten dalam memprediksi."
      ]
    },
    {
      "cell_type": "markdown",
      "metadata": {
        "id": "Sl__uFj3iNee"
      },
      "source": [
        "**Cross Validation**"
      ]
    },
    {
      "cell_type": "code",
      "execution_count": 108,
      "metadata": {
        "colab": {
          "base_uri": "https://localhost:8080/"
        },
        "id": "Ap1Cf_DPiNMf",
        "outputId": "f99ed4ba-bfe6-4b04-e33d-67a819fc0b62"
      },
      "outputs": [
        {
          "name": "stdout",
          "output_type": "stream",
          "text": [
            "knn_model\n",
            "recall - All - Cross Validation  :  [0.66603235 0.66317793 0.64985728 0.65556613 0.61750714]\n",
            "recall - Mean - Cross Validation :  0.6504281636536632\n",
            "recall - Std - Cross Validation  :  0.017415887632574782\n",
            "recall - Range of Test-Set       :  0.6330122760210884 - 0.6678440512862379\n",
            "--------------------------------------------------\n",
            "svm_model\n",
            "recall - All - Cross Validation  :  [0.59276879 0.59276879 0.56327307 0.61655566 0.58896289]\n",
            "recall - Mean - Cross Validation :  0.5908658420551856\n",
            "recall - Std - Cross Validation  :  0.01692448730303267\n",
            "recall - Range of Test-Set       :  0.5739413547521529 - 0.6077903293582182\n",
            "--------------------------------------------------\n",
            "tree_model\n",
            "recall - All - Cross Validation  :  [0.70504282 0.679353   0.72502379 0.69743102 0.68601332]\n",
            "recall - Mean - Cross Validation :  0.6985727878211228\n",
            "recall - Std - Cross Validation  :  0.015937131658390204\n",
            "recall - Range of Test-Set       :  0.6826356561627326 - 0.7145099194795129\n",
            "--------------------------------------------------\n",
            "rdf_model\n",
            "recall - All - Cross Validation  :  [0.65461465 0.64985728 0.63939106 0.63177926 0.61941009]\n",
            "recall - Mean - Cross Validation :  0.639010466222645\n",
            "recall - Std - Cross Validation  :  0.01263134293075252\n",
            "recall - Range of Test-Set       :  0.6263791232918925 - 0.6516418091533975\n",
            "--------------------------------------------------\n",
            "xgb_model\n",
            "recall - All - Cross Validation  :  [0.63748811 0.66127498 0.66222645 0.65366318 0.64414843]\n",
            "recall - Mean - Cross Validation :  0.6517602283539486\n",
            "recall - Std - Cross Validation  :  0.009647034714090622\n",
            "recall - Range of Test-Set       :  0.642113193639858 - 0.6614072630680393\n",
            "--------------------------------------------------\n",
            "best model: tree_model\n",
            "cross-val mean: 0.6985727878211228\n"
          ]
        }
      ],
      "source": [
        "# set skfold\n",
        "skfold=StratifiedKFold(n_splits=5)\n",
        "# checking cross validation score\n",
        "cv_knn_model = cross_val_score(knn, X_train, y_train, cv=skfold, scoring=\"recall\")\n",
        "cv_svm_model = cross_val_score(svm, X_train, y_train, cv=skfold, scoring=\"recall\")\n",
        "cv_tree_model = cross_val_score(tree, X_train, y_train, cv=skfold, scoring=\"recall\")\n",
        "cv_rdf_model = cross_val_score(rdf, X_train, y_train, cv=skfold, scoring=\"recall\")\n",
        "cv_xgb_model = cross_val_score(xgb, X_train, y_train, cv=skfold, scoring=\"recall\")\n",
        "name_model = []\n",
        "cv_scores=0\n",
        "for cv,name in zip([cv_knn_model,cv_svm_model,cv_tree_model,cv_rdf_model,cv_xgb_model],['knn_model','svm_model','tree_model','rdf_model','xgb_model']):\n",
        "    print(name)\n",
        "    print('recall - All - Cross Validation  : ', cv)\n",
        "    print('recall - Mean - Cross Validation : ', cv.mean())\n",
        "    print('recall - Std - Cross Validation  : ', cv.std())\n",
        "    print('recall - Range of Test-Set       : ', (cv.mean()-cv.std()) , '-', (cv.mean()+cv.std()))\n",
        "    print('-'*50)\n",
        "    if cv.mean()>cv_scores:\n",
        "        cv_scores = cv.mean()\n",
        "        name_model = name\n",
        "    else:\n",
        "        pass\n",
        "print('best model:', name_model)\n",
        "print('cross-val mean:', cv_scores)"
      ]
    },
    {
      "cell_type": "markdown",
      "metadata": {
        "id": "y8n4LMvg3JWE"
      },
      "source": [
        "**Cross-validation**\n",
        "\n",
        "Cross-validationadalah teknik yang digunakan untuk mengukur kinerja model dengan lebih baik daripada hanya membagi dataset menjadi satu set pelatihan dan satu set pengujian. Dalam cross-validation, dataset dibagi menjadi beberapa lipatan (folds) sehingga model dapat diuji pada beberapa sub-kumpulan data yang berbeda.\n",
        "\n",
        "Dengan n_splits=5, dataset akan dibagi menjadi 5 lipatan atau bagian yang setara. Proses cross-validation kemudian akan dilakukan dalam 5 iterasi, di mana pada setiap iterasi, salah satu lipatan akan digunakan sebagai set pengujian, sementara yang lainnya digunakan sebagai set pelatihan. Ini berarti model Anda akan diuji pada setiap lipatan yang berbeda, dan hasil pengujian akan diambil rata-ratanya untuk memberikan perkiraan kinerja model secara keseluruhan. Dari hasil Cross-validation dengan lipatan 5 kita mendapat kan bestmodel yaitu model Decision Tree, maka berdasarkan hasil yang kita dapatkan model yang akan kita gunakan adalah model Decision Tree.\n",
        "\n",
        "Hasil nya dari Recall mean cukup baik, apa itu Recall mean merupakan nilai rata-rata dari recall yang dihasilkan dalam Cross-Validation. Ini memberikan perkiraan kinerja rata-rata model Anda pada data yang belum pernah dilihat sebelumnya. Semakin tinggi nilai \"recall mean,\" semakin baik model dalam mengenali kelas positif dalam kasus tertentu dan jika Semakin rendah standar deviasi, semakin konsisten kinerja model dalam berbagai iterasi cross-validation.\n",
        "\n"
      ]
    },
    {
      "cell_type": "markdown",
      "metadata": {
        "id": "OCjfnop971Rm"
      },
      "source": [
        "--------------------------------------------------------------"
      ]
    },
    {
      "cell_type": "markdown",
      "metadata": {
        "id": "NHdBZDgG73Ns"
      },
      "source": [
        "## **Decision Tree Classifier**"
      ]
    },
    {
      "cell_type": "code",
      "execution_count": 109,
      "metadata": {
        "id": "D9LROx3275Ro"
      },
      "outputs": [],
      "source": [
        "# membuat variable predict\n",
        "y_pred_train_tree = tree.predict(X_train)\n",
        "y_pred_test_tree = tree.predict(X_test)"
      ]
    },
    {
      "cell_type": "code",
      "execution_count": 110,
      "metadata": {
        "colab": {
          "base_uri": "https://localhost:8080/",
          "height": 814
        },
        "id": "y61G7ial75kc",
        "outputId": "035ed12d-ddd1-4e11-839f-567dcf792307"
      },
      "outputs": [
        {
          "name": "stdout",
          "output_type": "stream",
          "text": [
            "recall Score - Test Set   :  0.7283856159143076 \n",
            "\n",
            "              precision    recall  f1-score   support\n",
            "\n",
            "           0       1.00      1.00      1.00      3542\n",
            "           1       1.00      1.00      1.00      5255\n",
            "\n",
            "    accuracy                           1.00      8797\n",
            "   macro avg       1.00      1.00      1.00      8797\n",
            "weighted avg       1.00      1.00      1.00      8797\n",
            "\n",
            "              precision    recall  f1-score   support\n",
            "\n",
            "           0       0.59      0.58      0.59       893\n",
            "           1       0.72      0.73      0.72      1307\n",
            "\n",
            "    accuracy                           0.67      2200\n",
            "   macro avg       0.66      0.65      0.65      2200\n",
            "weighted avg       0.67      0.67      0.67      2200\n",
            "\n"
          ]
        },
        {
          "data": {
            "text/plain": [
              "<sklearn.metrics._plot.confusion_matrix.ConfusionMatrixDisplay at 0x78d6646949a0>"
            ]
          },
          "execution_count": 110,
          "metadata": {},
          "output_type": "execute_result"
        },
        {
          "data": {
            "image/png": "[encoded data removed]",
            "text/plain": [
              "<Figure size 640x480 with 2 Axes>"
            ]
          },
          "metadata": {},
          "output_type": "display_data"
        }
      ],
      "source": [
        "# Model Evaluation - Train Set\n",
        "\n",
        "print('recall Score - Test Set   : ', recall_score(y_test, y_pred_test_tree), '\\n')\n",
        "print(classification_report(y_train, y_pred_train_tree))\n",
        "\n",
        "# Model Evaluation - Test Set\n",
        "\n",
        "print(classification_report(y_test, y_pred_test_tree))\n",
        "\n",
        "# Confusion Matrix - test Set\n",
        "cm_test_tree = confusion_matrix(y_test, y_pred_test_tree)\n",
        "ConfusionMatrixDisplay(cm_test_tree).plot()"
      ]
    },
    {
      "cell_type": "markdown",
      "metadata": {
        "id": "mzvaaJtP40A5"
      },
      "source": [
        "Setalah mendapatkan best model kita buat prediksi dengan dataset test kita ternyata dalam hasil uji terhadap test di dapatkan nilai yang tidak begitu baik sepertinya data kita belajar hanya memahami angka positif yaitu 1 ini dibuktikan pada score dan tabel confusion, mesin mampu memprediksi banyak true positif sebanyak 952 di bandingkan true negatif 518 serta false negatif 355 dan false postif 375. Maka kita lakukan tuning dengan hyperparameter tuning dengan mencari tuningan terbaik menggunakan Grid Search untuk mendapatkan score yang lebih baik. Nilai sewaktu - waktu akan berubah"
      ]
    },
    {
      "cell_type": "markdown",
      "metadata": {
        "id": "rHOPItvX82Nt"
      },
      "source": [
        "--------------------------------------------------------------"
      ]
    },
    {
      "cell_type": "markdown",
      "metadata": {
        "id": "iEfJ3DcoxAPv"
      },
      "source": [
        "## **Grid Search**"
      ]
    },
    {
      "cell_type": "code",
      "execution_count": 111,
      "metadata": {
        "colab": {
          "base_uri": "https://localhost:8080/"
        },
        "id": "vTZ-kfPzxJKT",
        "outputId": "a9e23d44-432b-4362-ba18-d39deeb8ce1e"
      },
      "outputs": [
        {
          "data": {
            "text/plain": [
              "{'decisiontreeclassifier__criterion': ['gini', 'entropy'],\n",
              " 'decisiontreeclassifier__max_depth': [None, 10, 20, 30, 40],\n",
              " 'decisiontreeclassifier__min_samples_split': [2, 5, 10],\n",
              " 'decisiontreeclassifier__min_samples_leaf': [1, 2, 4]}"
            ]
          },
          "execution_count": 111,
          "metadata": {},
          "output_type": "execute_result"
        }
      ],
      "source": [
        "# set hyperparameter tuning\n",
        "param_grid_tree = {\n",
        "    'decisiontreeclassifier__criterion': ['gini', 'entropy'],\n",
        "    'decisiontreeclassifier__max_depth': [None, 10, 20, 30, 40],\n",
        "    'decisiontreeclassifier__min_samples_split': [2, 5, 10],\n",
        "    'decisiontreeclassifier__min_samples_leaf': [1, 2, 4],\n",
        "}\n",
        "param_grid_tree"
      ]
    },
    {
      "cell_type": "markdown",
      "metadata": {
        "id": "qNvcDTqr8q0n"
      },
      "source": [
        "Kita beri beberapa Hyperparameter tuning yang kita dapat pada sklearn DecisionTreeClassifier bisa di dapakan disini https://scikit-learn.org/stable/modules/generated/sklearn.tree.DecisionTreeClassifier.html parameter yang kita masukan adalah :\n",
        "- criterion': ['gini', 'entropy','log_loss']\n",
        "- max_depth': [None, 10, 20, 30, 40]\n",
        "- min_samples_split': [2, 5, 10]\n",
        "- min_samples_leaf': [1, 2, 4]\n"
      ]
    },
    {
      "cell_type": "code",
      "execution_count": 112,
      "metadata": {
        "colab": {
          "base_uri": "https://localhost:8080/",
          "height": 233
        },
        "id": "9uyGIRgXywHs",
        "outputId": "b979897c-96a9-4bdd-e130-803cf1cc148b"
      },
      "outputs": [
        {
          "name": "stdout",
          "output_type": "stream",
          "text": [
            "Fitting 5 folds for each of 90 candidates, totalling 450 fits\n"
          ]
        },
        {
          "data": {
            "text/html": [
              "<style>#sk-container-id-12 {color: black;background-color: white;}#sk-container-id-12 pre{padding: 0;}#sk-container-id-12 div.sk-toggleable {background-color: white;}#sk-container-id-12 label.sk-toggleable__label {cursor: pointer;display: block;width: 100%;margin-bottom: 0;padding: 0.3em;box-sizing: border-box;text-align: center;}#sk-container-id-12 label.sk-toggleable__label-arrow:before {content: \"▸\";float: left;margin-right: 0.25em;color: #696969;}#sk-container-id-12 label.sk-toggleable__label-arrow:hover:before {color: black;}#sk-container-id-12 div.sk-estimator:hover label.sk-toggleable__label-arrow:before {color: black;}#sk-container-id-12 div.sk-toggleable__content {max-height: 0;max-width: 0;overflow: hidden;text-align: left;background-color: #f0f8ff;}#sk-container-id-12 div.sk-toggleable__content pre {margin: 0.2em;color: black;border-radius: 0.25em;background-color: #f0f8ff;}#sk-container-id-12 input.sk-toggleable__control:checked~div.sk-toggleable__content {max-height: 200px;max-width: 100%;overflow: auto;}#sk-container-id-12 input.sk-toggleable__control:checked~label.sk-toggleable__label-arrow:before {content: \"▾\";}#sk-container-id-12 div.sk-estimator input.sk-toggleable__control:checked~label.sk-toggleable__label {background-color: #d4ebff;}#sk-container-id-12 div.sk-label input.sk-toggleable__control:checked~label.sk-toggleable__label {background-color: #d4ebff;}#sk-container-id-12 input.sk-hidden--visually {border: 0;clip: rect(1px 1px 1px 1px);clip: rect(1px, 1px, 1px, 1px);height: 1px;margin: -1px;overflow: hidden;padding: 0;position: absolute;width: 1px;}#sk-container-id-12 div.sk-estimator {font-family: monospace;background-color: #f0f8ff;border: 1px dotted black;border-radius: 0.25em;box-sizing: border-box;margin-bottom: 0.5em;}#sk-container-id-12 div.sk-estimator:hover {background-color: #d4ebff;}#sk-container-id-12 div.sk-parallel-item::after {content: \"\";width: 100%;border-bottom: 1px solid gray;flex-grow: 1;}#sk-container-id-12 div.sk-label:hover label.sk-toggleable__label {background-color: #d4ebff;}#sk-container-id-12 div.sk-serial::before {content: \"\";position: absolute;border-left: 1px solid gray;box-sizing: border-box;top: 0;bottom: 0;left: 50%;z-index: 0;}#sk-container-id-12 div.sk-serial {display: flex;flex-direction: column;align-items: center;background-color: white;padding-right: 0.2em;padding-left: 0.2em;position: relative;}#sk-container-id-12 div.sk-item {position: relative;z-index: 1;}#sk-container-id-12 div.sk-parallel {display: flex;align-items: stretch;justify-content: center;background-color: white;position: relative;}#sk-container-id-12 div.sk-item::before, #sk-container-id-12 div.sk-parallel-item::before {content: \"\";position: absolute;border-left: 1px solid gray;box-sizing: border-box;top: 0;bottom: 0;left: 50%;z-index: -1;}#sk-container-id-12 div.sk-parallel-item {display: flex;flex-direction: column;z-index: 1;position: relative;background-color: white;}#sk-container-id-12 div.sk-parallel-item:first-child::after {align-self: flex-end;width: 50%;}#sk-container-id-12 div.sk-parallel-item:last-child::after {align-self: flex-start;width: 50%;}#sk-container-id-12 div.sk-parallel-item:only-child::after {width: 0;}#sk-container-id-12 div.sk-dashed-wrapped {border: 1px dashed gray;margin: 0 0.4em 0.5em 0.4em;box-sizing: border-box;padding-bottom: 0.4em;background-color: white;}#sk-container-id-12 div.sk-label label {font-family: monospace;font-weight: bold;display: inline-block;line-height: 1.2em;}#sk-container-id-12 div.sk-label-container {text-align: center;}#sk-container-id-12 div.sk-container {/* jupyter's `normalize.less` sets `[hidden] { display: none; }` but bootstrap.min.css set `[hidden] { display: none !important; }` so we also need the `!important` here to be able to override the default hidden behavior on the sphinx rendered scikit-learn.org. See: https://github.com/scikit-learn/scikit-learn/issues/21755 */display: inline-block !important;position: relative;}#sk-container-id-12 div.sk-text-repr-fallback {display: none;}</style><div id=\"sk-container-id-12\" class=\"sk-top-container\"><div class=\"sk-text-repr-fallback\"><pre>GridSearchCV(cv=5,\n",
              "             estimator=Pipeline(steps=[(&#x27;columntransformer&#x27;,\n",
              "                                        ColumnTransformer(transformers=[(&#x27;pipe_num&#x27;,\n",
              "                                                                         Pipeline(steps=[(&#x27;minmaxscaler&#x27;,\n",
              "                                                                                          MinMaxScaler())]),\n",
              "                                                                         [&#x27;Customer_care_calls&#x27;,\n",
              "                                                                          &#x27;Customer_rating&#x27;,\n",
              "                                                                          &#x27;Cost_of_the_Product&#x27;,\n",
              "                                                                          &#x27;Prior_purchases&#x27;,\n",
              "                                                                          &#x27;Discount_offered&#x27;,\n",
              "                                                                          &#x27;Weight_in_gms&#x27;]),\n",
              "                                                                        (&#x27;pipe_cat_ohe&#x27;,\n",
              "                                                                         Pipeline(steps=[(&#x27;onehotencoder&#x27;,\n",
              "                                                                                          OneHotEncoder(handle_unk...\n",
              "                                                                         [&#x27;Product_importance&#x27;])])),\n",
              "                                       (&#x27;decisiontreeclassifier&#x27;,\n",
              "                                        DecisionTreeClassifier())]),\n",
              "             n_jobs=-1,\n",
              "             param_grid={&#x27;decisiontreeclassifier__criterion&#x27;: [&#x27;gini&#x27;,\n",
              "                                                               &#x27;entropy&#x27;],\n",
              "                         &#x27;decisiontreeclassifier__max_depth&#x27;: [None, 10, 20, 30,\n",
              "                                                               40],\n",
              "                         &#x27;decisiontreeclassifier__min_samples_leaf&#x27;: [1, 2, 4],\n",
              "                         &#x27;decisiontreeclassifier__min_samples_split&#x27;: [2, 5,\n",
              "                                                                       10]},\n",
              "             return_train_score=True, scoring=&#x27;recall&#x27;, verbose=3)</pre><b>In a Jupyter environment, please rerun this cell to show the HTML representation or trust the notebook. <br />On GitHub, the HTML representation is unable to render, please try loading this page with nbviewer.org.</b></div><div class=\"sk-container\" hidden><div class=\"sk-item sk-dashed-wrapped\"><div class=\"sk-label-container\"><div class=\"sk-label sk-toggleable\"><input class=\"sk-toggleable__control sk-hidden--visually\" id=\"sk-estimator-id-101\" type=\"checkbox\" ><label for=\"sk-estimator-id-101\" class=\"sk-toggleable__label sk-toggleable__label-arrow\">GridSearchCV</label><div class=\"sk-toggleable__content\"><pre>GridSearchCV(cv=5,\n",
              "             estimator=Pipeline(steps=[(&#x27;columntransformer&#x27;,\n",
              "                                        ColumnTransformer(transformers=[(&#x27;pipe_num&#x27;,\n",
              "                                                                         Pipeline(steps=[(&#x27;minmaxscaler&#x27;,\n",
              "                                                                                          MinMaxScaler())]),\n",
              "                                                                         [&#x27;Customer_care_calls&#x27;,\n",
              "                                                                          &#x27;Customer_rating&#x27;,\n",
              "                                                                          &#x27;Cost_of_the_Product&#x27;,\n",
              "                                                                          &#x27;Prior_purchases&#x27;,\n",
              "                                                                          &#x27;Discount_offered&#x27;,\n",
              "                                                                          &#x27;Weight_in_gms&#x27;]),\n",
              "                                                                        (&#x27;pipe_cat_ohe&#x27;,\n",
              "                                                                         Pipeline(steps=[(&#x27;onehotencoder&#x27;,\n",
              "                                                                                          OneHotEncoder(handle_unk...\n",
              "                                                                         [&#x27;Product_importance&#x27;])])),\n",
              "                                       (&#x27;decisiontreeclassifier&#x27;,\n",
              "                                        DecisionTreeClassifier())]),\n",
              "             n_jobs=-1,\n",
              "             param_grid={&#x27;decisiontreeclassifier__criterion&#x27;: [&#x27;gini&#x27;,\n",
              "                                                               &#x27;entropy&#x27;],\n",
              "                         &#x27;decisiontreeclassifier__max_depth&#x27;: [None, 10, 20, 30,\n",
              "                                                               40],\n",
              "                         &#x27;decisiontreeclassifier__min_samples_leaf&#x27;: [1, 2, 4],\n",
              "                         &#x27;decisiontreeclassifier__min_samples_split&#x27;: [2, 5,\n",
              "                                                                       10]},\n",
              "             return_train_score=True, scoring=&#x27;recall&#x27;, verbose=3)</pre></div></div></div><div class=\"sk-parallel\"><div class=\"sk-parallel-item\"><div class=\"sk-item\"><div class=\"sk-label-container\"><div class=\"sk-label sk-toggleable\"><input class=\"sk-toggleable__control sk-hidden--visually\" id=\"sk-estimator-id-102\" type=\"checkbox\" ><label for=\"sk-estimator-id-102\" class=\"sk-toggleable__label sk-toggleable__label-arrow\">estimator: Pipeline</label><div class=\"sk-toggleable__content\"><pre>Pipeline(steps=[(&#x27;columntransformer&#x27;,\n",
              "                 ColumnTransformer(transformers=[(&#x27;pipe_num&#x27;,\n",
              "                                                  Pipeline(steps=[(&#x27;minmaxscaler&#x27;,\n",
              "                                                                   MinMaxScaler())]),\n",
              "                                                  [&#x27;Customer_care_calls&#x27;,\n",
              "                                                   &#x27;Customer_rating&#x27;,\n",
              "                                                   &#x27;Cost_of_the_Product&#x27;,\n",
              "                                                   &#x27;Prior_purchases&#x27;,\n",
              "                                                   &#x27;Discount_offered&#x27;,\n",
              "                                                   &#x27;Weight_in_gms&#x27;]),\n",
              "                                                 (&#x27;pipe_cat_ohe&#x27;,\n",
              "                                                  Pipeline(steps=[(&#x27;onehotencoder&#x27;,\n",
              "                                                                   OneHotEncoder(handle_unknown=&#x27;ignore&#x27;))]),\n",
              "                                                  [&#x27;Mode_of_Shipment&#x27;,\n",
              "                                                   &#x27;Warehouse_block&#x27;]),\n",
              "                                                 (&#x27;pipe_cat_odl&#x27;,\n",
              "                                                  Pipeline(steps=[(&#x27;ordinalencoder&#x27;,\n",
              "                                                                   OrdinalEncoder(categories=[[&#x27;low&#x27;,\n",
              "                                                                                               &#x27;medium&#x27;,\n",
              "                                                                                               &#x27;high&#x27;]]))]),\n",
              "                                                  [&#x27;Product_importance&#x27;])])),\n",
              "                (&#x27;decisiontreeclassifier&#x27;, DecisionTreeClassifier())])</pre></div></div></div><div class=\"sk-serial\"><div class=\"sk-item\"><div class=\"sk-serial\"><div class=\"sk-item sk-dashed-wrapped\"><div class=\"sk-label-container\"><div class=\"sk-label sk-toggleable\"><input class=\"sk-toggleable__control sk-hidden--visually\" id=\"sk-estimator-id-103\" type=\"checkbox\" ><label for=\"sk-estimator-id-103\" class=\"sk-toggleable__label sk-toggleable__label-arrow\">columntransformer: ColumnTransformer</label><div class=\"sk-toggleable__content\"><pre>ColumnTransformer(transformers=[(&#x27;pipe_num&#x27;,\n",
              "                                 Pipeline(steps=[(&#x27;minmaxscaler&#x27;,\n",
              "                                                  MinMaxScaler())]),\n",
              "                                 [&#x27;Customer_care_calls&#x27;, &#x27;Customer_rating&#x27;,\n",
              "                                  &#x27;Cost_of_the_Product&#x27;, &#x27;Prior_purchases&#x27;,\n",
              "                                  &#x27;Discount_offered&#x27;, &#x27;Weight_in_gms&#x27;]),\n",
              "                                (&#x27;pipe_cat_ohe&#x27;,\n",
              "                                 Pipeline(steps=[(&#x27;onehotencoder&#x27;,\n",
              "                                                  OneHotEncoder(handle_unknown=&#x27;ignore&#x27;))]),\n",
              "                                 [&#x27;Mode_of_Shipment&#x27;, &#x27;Warehouse_block&#x27;]),\n",
              "                                (&#x27;pipe_cat_odl&#x27;,\n",
              "                                 Pipeline(steps=[(&#x27;ordinalencoder&#x27;,\n",
              "                                                  OrdinalEncoder(categories=[[&#x27;low&#x27;,\n",
              "                                                                              &#x27;medium&#x27;,\n",
              "                                                                              &#x27;high&#x27;]]))]),\n",
              "                                 [&#x27;Product_importance&#x27;])])</pre></div></div></div><div class=\"sk-parallel\"><div class=\"sk-parallel-item\"><div class=\"sk-item\"><div class=\"sk-label-container\"><div class=\"sk-label sk-toggleable\"><input class=\"sk-toggleable__control sk-hidden--visually\" id=\"sk-estimator-id-104\" type=\"checkbox\" ><label for=\"sk-estimator-id-104\" class=\"sk-toggleable__label sk-toggleable__label-arrow\">pipe_num</label><div class=\"sk-toggleable__content\"><pre>[&#x27;Customer_care_calls&#x27;, &#x27;Customer_rating&#x27;, &#x27;Cost_of_the_Product&#x27;, &#x27;Prior_purchases&#x27;, &#x27;Discount_offered&#x27;, &#x27;Weight_in_gms&#x27;]</pre></div></div></div><div class=\"sk-serial\"><div class=\"sk-item\"><div class=\"sk-serial\"><div class=\"sk-item\"><div class=\"sk-estimator sk-toggleable\"><input class=\"sk-toggleable__control sk-hidden--visually\" id=\"sk-estimator-id-105\" type=\"checkbox\" ><label for=\"sk-estimator-id-105\" class=\"sk-toggleable__label sk-toggleable__label-arrow\">MinMaxScaler</label><div class=\"sk-toggleable__content\"><pre>MinMaxScaler()</pre></div></div></div></div></div></div></div></div><div class=\"sk-parallel-item\"><div class=\"sk-item\"><div class=\"sk-label-container\"><div class=\"sk-label sk-toggleable\"><input class=\"sk-toggleable__control sk-hidden--visually\" id=\"sk-estimator-id-106\" type=\"checkbox\" ><label for=\"sk-estimator-id-106\" class=\"sk-toggleable__label sk-toggleable__label-arrow\">pipe_cat_ohe</label><div class=\"sk-toggleable__content\"><pre>[&#x27;Mode_of_Shipment&#x27;, &#x27;Warehouse_block&#x27;]</pre></div></div></div><div class=\"sk-serial\"><div class=\"sk-item\"><div class=\"sk-serial\"><div class=\"sk-item\"><div class=\"sk-estimator sk-toggleable\"><input class=\"sk-toggleable__control sk-hidden--visually\" id=\"sk-estimator-id-107\" type=\"checkbox\" ><label for=\"sk-estimator-id-107\" class=\"sk-toggleable__label sk-toggleable__label-arrow\">OneHotEncoder</label><div class=\"sk-toggleable__content\"><pre>OneHotEncoder(handle_unknown=&#x27;ignore&#x27;)</pre></div></div></div></div></div></div></div></div><div class=\"sk-parallel-item\"><div class=\"sk-item\"><div class=\"sk-label-container\"><div class=\"sk-label sk-toggleable\"><input class=\"sk-toggleable__control sk-hidden--visually\" id=\"sk-estimator-id-108\" type=\"checkbox\" ><label for=\"sk-estimator-id-108\" class=\"sk-toggleable__label sk-toggleable__label-arrow\">pipe_cat_odl</label><div class=\"sk-toggleable__content\"><pre>[&#x27;Product_importance&#x27;]</pre></div></div></div><div class=\"sk-serial\"><div class=\"sk-item\"><div class=\"sk-serial\"><div class=\"sk-item\"><div class=\"sk-estimator sk-toggleable\"><input class=\"sk-toggleable__control sk-hidden--visually\" id=\"sk-estimator-id-109\" type=\"checkbox\" ><label for=\"sk-estimator-id-109\" class=\"sk-toggleable__label sk-toggleable__label-arrow\">OrdinalEncoder</label><div class=\"sk-toggleable__content\"><pre>OrdinalEncoder(categories=[[&#x27;low&#x27;, &#x27;medium&#x27;, &#x27;high&#x27;]])</pre></div></div></div></div></div></div></div></div></div></div><div class=\"sk-item\"><div class=\"sk-estimator sk-toggleable\"><input class=\"sk-toggleable__control sk-hidden--visually\" id=\"sk-estimator-id-110\" type=\"checkbox\" ><label for=\"sk-estimator-id-110\" class=\"sk-toggleable__label sk-toggleable__label-arrow\">DecisionTreeClassifier</label><div class=\"sk-toggleable__content\"><pre>DecisionTreeClassifier()</pre></div></div></div></div></div></div></div></div></div></div></div></div>"
            ],
            "text/plain": [
              "GridSearchCV(cv=5,\n",
              "             estimator=Pipeline(steps=[('columntransformer',\n",
              "                                        ColumnTransformer(transformers=[('pipe_num',\n",
              "                                                                         Pipeline(steps=[('minmaxscaler',\n",
              "                                                                                          MinMaxScaler())]),\n",
              "                                                                         ['Customer_care_calls',\n",
              "                                                                          'Customer_rating',\n",
              "                                                                          'Cost_of_the_Product',\n",
              "                                                                          'Prior_purchases',\n",
              "                                                                          'Discount_offered',\n",
              "                                                                          'Weight_in_gms']),\n",
              "                                                                        ('pipe_cat_ohe',\n",
              "                                                                         Pipeline(steps=[('onehotencoder',\n",
              "                                                                                          OneHotEncoder(handle_unk...\n",
              "                                                                         ['Product_importance'])])),\n",
              "                                       ('decisiontreeclassifier',\n",
              "                                        DecisionTreeClassifier())]),\n",
              "             n_jobs=-1,\n",
              "             param_grid={'decisiontreeclassifier__criterion': ['gini',\n",
              "                                                               'entropy'],\n",
              "                         'decisiontreeclassifier__max_depth': [None, 10, 20, 30,\n",
              "                                                               40],\n",
              "                         'decisiontreeclassifier__min_samples_leaf': [1, 2, 4],\n",
              "                         'decisiontreeclassifier__min_samples_split': [2, 5,\n",
              "                                                                       10]},\n",
              "             return_train_score=True, scoring='recall', verbose=3)"
            ]
          },
          "execution_count": 112,
          "metadata": {},
          "output_type": "execute_result"
        }
      ],
      "source": [
        "# Train with Grid Search\n",
        "tree_gridcv = GridSearchCV(estimator=tree,\n",
        "                         param_grid=param_grid_tree,\n",
        "                         refit=True,\n",
        "                         return_train_score=True,\n",
        "                         cv=5,\n",
        "                         n_jobs=-1,\n",
        "                         verbose=3,\n",
        "                         scoring='recall')\n",
        "tree_gridcv.fit(X_train, y_train)"
      ]
    },
    {
      "cell_type": "code",
      "execution_count": 113,
      "metadata": {
        "colab": {
          "base_uri": "https://localhost:8080/"
        },
        "id": "BeX9kdU4cDCg",
        "outputId": "67cf30b3-cc0d-492c-b004-77bf03b71ac4"
      },
      "outputs": [
        {
          "data": {
            "text/plain": [
              "{'decisiontreeclassifier__criterion': 'gini',\n",
              " 'decisiontreeclassifier__max_depth': 40,\n",
              " 'decisiontreeclassifier__min_samples_leaf': 1,\n",
              " 'decisiontreeclassifier__min_samples_split': 2}"
            ]
          },
          "execution_count": 113,
          "metadata": {},
          "output_type": "execute_result"
        }
      ],
      "source": [
        "# Display Best Hyperparamters from Random Search\n",
        "tree_gridcv.best_params_"
      ]
    },
    {
      "cell_type": "markdown",
      "metadata": {
        "id": "R8fKhHGR-07R"
      },
      "source": [
        "Setalah kita lakukan grid search dan dilakukan fit pada X_train dan y_train kita mendapatkan hasil best parameter terbaik yaitu :\n",
        "- criterion': 'gini'\n",
        "- max_depth': 40\n",
        "- min_samples_leaf': 1\n",
        "- min_samples_split': 2"
      ]
    },
    {
      "cell_type": "code",
      "execution_count": 114,
      "metadata": {
        "colab": {
          "base_uri": "https://localhost:8080/",
          "height": 692
        },
        "id": "RBeuXJipxxtI",
        "outputId": "f0e79e0c-209d-4523-ede9-9d30f6d8ddbb"
      },
      "outputs": [
        {
          "name": "stdout",
          "output_type": "stream",
          "text": [
            "recall Score - Test Set   :  0.7337413925019127 \n",
            "\n",
            "Classification Report : \n",
            "               precision    recall  f1-score   support\n",
            "\n",
            "           0       0.60      0.57      0.58       893\n",
            "           1       0.72      0.73      0.72      1307\n",
            "\n",
            "    accuracy                           0.67      2200\n",
            "   macro avg       0.66      0.65      0.65      2200\n",
            "weighted avg       0.67      0.67      0.67      2200\n",
            " \n",
            "\n"
          ]
        },
        {
          "data": {
            "text/plain": [
              "<sklearn.metrics._plot.confusion_matrix.ConfusionMatrixDisplay at 0x78d664206b00>"
            ]
          },
          "execution_count": 114,
          "metadata": {},
          "output_type": "execute_result"
        },
        {
          "data": {
            "image/png": "[encoded data removed]",
            "text/plain": [
              "<Figure size 640x480 with 2 Axes>"
            ]
          },
          "metadata": {},
          "output_type": "display_data"
        }
      ],
      "source": [
        "# Get Best Estimator\n",
        "tree_gridcv_best = tree_gridcv.best_estimator_\n",
        "\n",
        "y_pred_treegv = tree_gridcv_best.predict(X_test)\n",
        "print('recall Score - Test Set   : ', recall_score(y_test, y_pred_treegv), '\\n')\n",
        "print('Classification Report : \\n', classification_report(y_test, y_pred_treegv), '\\n')\n",
        "cm_tree_gv = confusion_matrix(y_test, y_pred_treegv)\n",
        "ConfusionMatrixDisplay(cm_tree_gv).plot()"
      ]
    },
    {
      "cell_type": "markdown",
      "metadata": {
        "id": "Adhi2mlD1jiA"
      },
      "source": [
        "Dari hasil best parameter kita mendapatkan recall score 0,71 ini lebih baik dari hasil ssebelum dilakuka hyperparameter tuning meningkat beberapa persen namun kita ketahui bersama bahwa nilai ini bisa berubah sewaktu-waktu jika kita ulangi keseluruhan proses. Sedangkan hasil dari confusion metrik kita menunjukan yang selaras Nilai False Negatif kita menurun dari 377 menjadi 368 dan hasil ini akan berubah sewaktu jika kami run ulang."
      ]
    },
    {
      "cell_type": "code",
      "execution_count": 115,
      "metadata": {
        "colab": {
          "base_uri": "https://localhost:8080/"
        },
        "id": "G0zxmiZlHo-T",
        "outputId": "06d869b5-ee99-4e8d-b1cc-ad9c1dbd777e"
      },
      "outputs": [
        {
          "name": "stdout",
          "output_type": "stream",
          "text": [
            "Score Recall :\n",
            "Classification Report Baseline: \n",
            " 0.7283856159143076 \n",
            "\n",
            "Classification Report Hyperparameter dan Grid Search : \n",
            " 0.7337413925019127 \n",
            "\n"
          ]
        }
      ],
      "source": [
        "print('Score Recall :')\n",
        "print('Classification Report Baseline: \\n', recall_score(y_test, y_pred_test_tree), '\\n')\n",
        "print('Classification Report Hyperparameter dan Grid Search : \\n', recall_score(y_test, y_pred_treegv), '\\n')"
      ]
    },
    {
      "cell_type": "markdown",
      "metadata": {
        "id": "UOEirqVNIoJM"
      },
      "source": [
        "Dalam baseline Decision Tree Classifier kita mendapatkan score 0.72 setalah kita melakukan grid search dan hyperparameters tuning meningkat menjadi 0.73.\n",
        "\n",
        "**Kelebihan Model**\n",
        "\n",
        "- Penanganan Data Campuran: Decision Tree dapat menangani dataset dengan campuran fitur kategoris dan numerik dengan baik. Ini tidak memerlukan normalisasi atau pemrosesan khusus pada data.\n",
        "- Kemampuan Menangani Missing Values: Decision Tree dapat menangani data yang memiliki nilai yang hilang (missing values) tanpa memerlukan imputasi (pengisian nilai yang hilang) terlebih dahulu.\n",
        "\n",
        "\n",
        "**Kelemahan model**\n",
        "\n",
        "Kami Sadar ada beberapa kami yaitu model ketika memprediksi data train memiliki hasil yang sangat baik mungkin mesin hanya mengfal dan ketika di beri data baru atau data set mesin mulai kebingungan dan tidak dapat memprediksi dengan tepat. Ini akan menjadi masalah ketika model di pergunakan secara real maka akan meningkatnya komplain dari pelanggan yang menimbulkan berkurangnya kepercayaan dalam bisnis Shipping ini.\n",
        "Maka dari itu kami di akan meningkatkan kinerja model kami\n",
        "di masa depan dengan beberapa opsi model lainya serta menggabungkan model dengan stacking dan bagging bisa menjadi opsi yang lebih baik."
      ]
    },
    {
      "cell_type": "markdown",
      "metadata": {
        "id": "KjEiww5jKryP"
      },
      "source": [
        "**Check Karakteristik**"
      ]
    },
    {
      "cell_type": "code",
      "execution_count": 116,
      "metadata": {
        "colab": {
          "base_uri": "https://localhost:8080/",
          "height": 226
        },
        "id": "sEn52cKt1koq",
        "outputId": "ee319086-86e0-4aec-dd58-0305086109bd"
      },
      "outputs": [
        {
          "data": {
            "text/html": [
              "\n",
              "  <div id=\"df-2c277dc0-943c-4a9c-9256-5adac31a3e29\" class=\"colab-df-container\">\n",
              "    <div>\n",
              "<style scoped>\n",
              "    .dataframe tbody tr th:only-of-type {\n",
              "        vertical-align: middle;\n",
              "    }\n",
              "\n",
              "    .dataframe tbody tr th {\n",
              "        vertical-align: top;\n",
              "    }\n",
              "\n",
              "    .dataframe thead th {\n",
              "        text-align: right;\n",
              "    }\n",
              "</style>\n",
              "<table border=\"1\" class=\"dataframe\">\n",
              "  <thead>\n",
              "    <tr style=\"text-align: right;\">\n",
              "      <th></th>\n",
              "      <th>Warehouse_block</th>\n",
              "      <th>Mode_of_Shipment</th>\n",
              "      <th>Customer_care_calls</th>\n",
              "      <th>Customer_rating</th>\n",
              "      <th>Cost_of_the_Product</th>\n",
              "      <th>Prior_purchases</th>\n",
              "      <th>Product_importance</th>\n",
              "      <th>Discount_offered</th>\n",
              "      <th>Weight_in_gms</th>\n",
              "      <th>Rot</th>\n",
              "      <th>Prediction</th>\n",
              "    </tr>\n",
              "  </thead>\n",
              "  <tbody>\n",
              "    <tr>\n",
              "      <th>6560</th>\n",
              "      <td>C</td>\n",
              "      <td>Road</td>\n",
              "      <td>4</td>\n",
              "      <td>3</td>\n",
              "      <td>256</td>\n",
              "      <td>5</td>\n",
              "      <td>low</td>\n",
              "      <td>5</td>\n",
              "      <td>1533</td>\n",
              "      <td>1</td>\n",
              "      <td>1</td>\n",
              "    </tr>\n",
              "    <tr>\n",
              "      <th>1112</th>\n",
              "      <td>A</td>\n",
              "      <td>Flight</td>\n",
              "      <td>5</td>\n",
              "      <td>1</td>\n",
              "      <td>222</td>\n",
              "      <td>3</td>\n",
              "      <td>high</td>\n",
              "      <td>21</td>\n",
              "      <td>2351</td>\n",
              "      <td>1</td>\n",
              "      <td>1</td>\n",
              "    </tr>\n",
              "    <tr>\n",
              "      <th>3181</th>\n",
              "      <td>A</td>\n",
              "      <td>Ship</td>\n",
              "      <td>3</td>\n",
              "      <td>3</td>\n",
              "      <td>132</td>\n",
              "      <td>3</td>\n",
              "      <td>low</td>\n",
              "      <td>6</td>\n",
              "      <td>5721</td>\n",
              "      <td>1</td>\n",
              "      <td>1</td>\n",
              "    </tr>\n",
              "    <tr>\n",
              "      <th>4057</th>\n",
              "      <td>A</td>\n",
              "      <td>Ship</td>\n",
              "      <td>4</td>\n",
              "      <td>2</td>\n",
              "      <td>249</td>\n",
              "      <td>2</td>\n",
              "      <td>medium</td>\n",
              "      <td>7</td>\n",
              "      <td>5876</td>\n",
              "      <td>1</td>\n",
              "      <td>1</td>\n",
              "    </tr>\n",
              "    <tr>\n",
              "      <th>6152</th>\n",
              "      <td>B</td>\n",
              "      <td>Road</td>\n",
              "      <td>5</td>\n",
              "      <td>4</td>\n",
              "      <td>269</td>\n",
              "      <td>2</td>\n",
              "      <td>medium</td>\n",
              "      <td>2</td>\n",
              "      <td>5962</td>\n",
              "      <td>0</td>\n",
              "      <td>1</td>\n",
              "    </tr>\n",
              "  </tbody>\n",
              "</table>\n",
              "</div>\n",
              "    <div class=\"colab-df-buttons\">\n",
              "\n",
              "  <div class=\"colab-df-container\">\n",
              "    <button class=\"colab-df-convert\" onclick=\"convertToInteractive('df-2c277dc0-943c-4a9c-9256-5adac31a3e29')\"\n",
              "            title=\"Convert this dataframe to an interactive table.\"\n",
              "            style=\"display:none;\">\n",
              "\n",
              "  <svg xmlns=\"http://www.w3.org/2000/svg\" height=\"24px\" viewBox=\"0 -960 960 960\">\n",
              "    <path d=\"M120-120v-720h720v720H120Zm60-500h600v-160H180v160Zm220 220h160v-160H400v160Zm0 220h160v-160H400v160ZM180-400h160v-160H180v160Zm440 0h160v-160H620v160ZM180-180h160v-160H180v160Zm440 0h160v-160H620v160Z\"/>\n",
              "  </svg>\n",
              "    </button>\n",
              "\n",
              "  <style>\n",
              "    .colab-df-container {\n",
              "      display:flex;\n",
              "      gap: 12px;\n",
              "    }\n",
              "\n",
              "    .colab-df-convert {\n",
              "      background-color: #E8F0FE;\n",
              "      border: none;\n",
              "      border-radius: 50%;\n",
              "      cursor: pointer;\n",
              "      display: none;\n",
              "      fill: #1967D2;\n",
              "      height: 32px;\n",
              "      padding: 0 0 0 0;\n",
              "      width: 32px;\n",
              "    }\n",
              "\n",
              "    .colab-df-convert:hover {\n",
              "      background-color: #E2EBFA;\n",
              "      box-shadow: 0px 1px 2px rgba(60, 64, 67, 0.3), 0px 1px 3px 1px rgba(60, 64, 67, 0.15);\n",
              "      fill: #174EA6;\n",
              "    }\n",
              "\n",
              "    .colab-df-buttons div {\n",
              "      margin-bottom: 4px;\n",
              "    }\n",
              "\n",
              "    [theme=dark] .colab-df-convert {\n",
              "      background-color: #3B4455;\n",
              "      fill: #D2E3FC;\n",
              "    }\n",
              "\n",
              "    [theme=dark] .colab-df-convert:hover {\n",
              "      background-color: #434B5C;\n",
              "      box-shadow: 0px 1px 3px 1px rgba(0, 0, 0, 0.15);\n",
              "      filter: drop-shadow(0px 1px 2px rgba(0, 0, 0, 0.3));\n",
              "      fill: #FFFFFF;\n",
              "    }\n",
              "  </style>\n",
              "\n",
              "    <script>\n",
              "      const buttonEl =\n",
              "        document.querySelector('#df-2c277dc0-943c-4a9c-9256-5adac31a3e29 button.colab-df-convert');\n",
              "      buttonEl.style.display =\n",
              "        google.colab.kernel.accessAllowed ? 'block' : 'none';\n",
              "\n",
              "      async function convertToInteractive(key) {\n",
              "        const element = document.querySelector('#df-2c277dc0-943c-4a9c-9256-5adac31a3e29');\n",
              "        const dataTable =\n",
              "          await google.colab.kernel.invokeFunction('convertToInteractive',\n",
              "                                                    [key], {});\n",
              "        if (!dataTable) return;\n",
              "\n",
              "        const docLinkHtml = 'Like what you see? Visit the ' +\n",
              "          '<a target=\"_blank\" href=https://colab.research.google.com/notebooks/data_table.ipynb>data table notebook</a>'\n",
              "          + ' to learn more about interactive tables.';\n",
              "        element.innerHTML = '';\n",
              "        dataTable['output_type'] = 'display_data';\n",
              "        await google.colab.output.renderOutput(dataTable, element);\n",
              "        const docLink = document.createElement('div');\n",
              "        docLink.innerHTML = docLinkHtml;\n",
              "        element.appendChild(docLink);\n",
              "      }\n",
              "    </script>\n",
              "  </div>\n",
              "\n",
              "\n",
              "<div id=\"df-0467d0a8-d1b6-4022-8f7b-40842ee9b749\">\n",
              "  <button class=\"colab-df-quickchart\" onclick=\"quickchart('df-0467d0a8-d1b6-4022-8f7b-40842ee9b749')\"\n",
              "            title=\"Suggest charts.\"\n",
              "            style=\"display:none;\">\n",
              "\n",
              "<svg xmlns=\"http://www.w3.org/2000/svg\" height=\"24px\"viewBox=\"0 0 24 24\"\n",
              "     width=\"24px\">\n",
              "    <g>\n",
              "        <path d=\"M19 3H5c-1.1 0-2 .9-2 2v14c0 1.1.9 2 2 2h14c1.1 0 2-.9 2-2V5c0-1.1-.9-2-2-2zM9 17H7v-7h2v7zm4 0h-2V7h2v10zm4 0h-2v-4h2v4z\"/>\n",
              "    </g>\n",
              "</svg>\n",
              "  </button>\n",
              "\n",
              "<style>\n",
              "  .colab-df-quickchart {\n",
              "      --bg-color: #E8F0FE;\n",
              "      --fill-color: #1967D2;\n",
              "      --hover-bg-color: #E2EBFA;\n",
              "      --hover-fill-color: #174EA6;\n",
              "      --disabled-fill-color: #AAA;\n",
              "      --disabled-bg-color: #DDD;\n",
              "  }\n",
              "\n",
              "  [theme=dark] .colab-df-quickchart {\n",
              "      --bg-color: #3B4455;\n",
              "      --fill-color: #D2E3FC;\n",
              "      --hover-bg-color: #434B5C;\n",
              "      --hover-fill-color: #FFFFFF;\n",
              "      --disabled-bg-color: #3B4455;\n",
              "      --disabled-fill-color: #666;\n",
              "  }\n",
              "\n",
              "  .colab-df-quickchart {\n",
              "    background-color: var(--bg-color);\n",
              "    border: none;\n",
              "    border-radius: 50%;\n",
              "    cursor: pointer;\n",
              "    display: none;\n",
              "    fill: var(--fill-color);\n",
              "    height: 32px;\n",
              "    padding: 0;\n",
              "    width: 32px;\n",
              "  }\n",
              "\n",
              "  .colab-df-quickchart:hover {\n",
              "    background-color: var(--hover-bg-color);\n",
              "    box-shadow: 0 1px 2px rgba(60, 64, 67, 0.3), 0 1px 3px 1px rgba(60, 64, 67, 0.15);\n",
              "    fill: var(--button-hover-fill-color);\n",
              "  }\n",
              "\n",
              "  .colab-df-quickchart-complete:disabled,\n",
              "  .colab-df-quickchart-complete:disabled:hover {\n",
              "    background-color: var(--disabled-bg-color);\n",
              "    fill: var(--disabled-fill-color);\n",
              "    box-shadow: none;\n",
              "  }\n",
              "\n",
              "  .colab-df-spinner {\n",
              "    border: 2px solid var(--fill-color);\n",
              "    border-color: transparent;\n",
              "    border-bottom-color: var(--fill-color);\n",
              "    animation:\n",
              "      spin 1s steps(1) infinite;\n",
              "  }\n",
              "\n",
              "  @keyframes spin {\n",
              "    0% {\n",
              "      border-color: transparent;\n",
              "      border-bottom-color: var(--fill-color);\n",
              "      border-left-color: var(--fill-color);\n",
              "    }\n",
              "    20% {\n",
              "      border-color: transparent;\n",
              "      border-left-color: var(--fill-color);\n",
              "      border-top-color: var(--fill-color);\n",
              "    }\n",
              "    30% {\n",
              "      border-color: transparent;\n",
              "      border-left-color: var(--fill-color);\n",
              "      border-top-color: var(--fill-color);\n",
              "      border-right-color: var(--fill-color);\n",
              "    }\n",
              "    40% {\n",
              "      border-color: transparent;\n",
              "      border-right-color: var(--fill-color);\n",
              "      border-top-color: var(--fill-color);\n",
              "    }\n",
              "    60% {\n",
              "      border-color: transparent;\n",
              "      border-right-color: var(--fill-color);\n",
              "    }\n",
              "    80% {\n",
              "      border-color: transparent;\n",
              "      border-right-color: var(--fill-color);\n",
              "      border-bottom-color: var(--fill-color);\n",
              "    }\n",
              "    90% {\n",
              "      border-color: transparent;\n",
              "      border-bottom-color: var(--fill-color);\n",
              "    }\n",
              "  }\n",
              "</style>\n",
              "\n",
              "  <script>\n",
              "    async function quickchart(key) {\n",
              "      const quickchartButtonEl =\n",
              "        document.querySelector('#' + key + ' button');\n",
              "      quickchartButtonEl.disabled = true;  // To prevent multiple clicks.\n",
              "      quickchartButtonEl.classList.add('colab-df-spinner');\n",
              "      try {\n",
              "        const charts = await google.colab.kernel.invokeFunction(\n",
              "            'suggestCharts', [key], {});\n",
              "      } catch (error) {\n",
              "        console.error('Error during call to suggestCharts:', error);\n",
              "      }\n",
              "      quickchartButtonEl.classList.remove('colab-df-spinner');\n",
              "      quickchartButtonEl.classList.add('colab-df-quickchart-complete');\n",
              "    }\n",
              "    (() => {\n",
              "      let quickchartButtonEl =\n",
              "        document.querySelector('#df-0467d0a8-d1b6-4022-8f7b-40842ee9b749 button');\n",
              "      quickchartButtonEl.style.display =\n",
              "        google.colab.kernel.accessAllowed ? 'block' : 'none';\n",
              "    })();\n",
              "  </script>\n",
              "</div>\n",
              "    </div>\n",
              "  </div>\n"
            ],
            "text/plain": [
              "     Warehouse_block Mode_of_Shipment  Customer_care_calls  Customer_rating  \\\n",
              "6560               C             Road                    4                3   \n",
              "1112               A           Flight                    5                1   \n",
              "3181               A             Ship                    3                3   \n",
              "4057               A             Ship                    4                2   \n",
              "6152               B             Road                    5                4   \n",
              "\n",
              "      Cost_of_the_Product  Prior_purchases Product_importance  \\\n",
              "6560                  256                5                low   \n",
              "1112                  222                3               high   \n",
              "3181                  132                3                low   \n",
              "4057                  249                2             medium   \n",
              "6152                  269                2             medium   \n",
              "\n",
              "      Discount_offered  Weight_in_gms  Rot  Prediction  \n",
              "6560                 5           1533    1           1  \n",
              "1112                21           2351    1           1  \n",
              "3181                 6           5721    1           1  \n",
              "4057                 7           5876    1           1  \n",
              "6152                 2           5962    0           1  "
            ]
          },
          "execution_count": 116,
          "metadata": {},
          "output_type": "execute_result"
        }
      ],
      "source": [
        "# Membuat variable baru\n",
        "X_test_1 = X_test.copy()\n",
        "X_test_1['Rot'] = y_test\n",
        "\n",
        "# Menambahkan kolom baru\n",
        "X_test_1['Prediction'] = y_pred_treegv\n",
        "X_test_1.head()"
      ]
    },
    {
      "cell_type": "code",
      "execution_count": 117,
      "metadata": {
        "colab": {
          "base_uri": "https://localhost:8080/"
        },
        "id": "KtZ_G4Oe2cfc",
        "outputId": "49597dba-d543-4af5-88e3-f1a4ce23fb9f"
      },
      "outputs": [
        {
          "data": {
            "text/plain": [
              "Customer_care_calls       4.114943\n",
              "Customer_rating           3.028736\n",
              "Cost_of_the_Product     218.204023\n",
              "Prior_purchases           3.646552\n",
              "Discount_offered          5.465517\n",
              "Weight_in_gms          4125.764368\n",
              "Rot                       1.000000\n",
              "Prediction                0.000000\n",
              "dtype: float64"
            ]
          },
          "execution_count": 117,
          "metadata": {},
          "output_type": "execute_result"
        }
      ],
      "source": [
        "# Hitung rata-rata dari kolom-kolom numerik pada dataframe False_negative\n",
        "False_negatif = X_test_1[(X_test_1['Rot'] == 1 ) &(X_test_1['Prediction'] == 0)]\n",
        "False_negatif.select_dtypes(exclude='object').mean()"
      ]
    },
    {
      "cell_type": "markdown",
      "metadata": {
        "id": "IrJT3dVoLWqq"
      },
      "source": [
        "Karakterisitik False Negatif yaitu :\n",
        "- Customer_care_calls (Panggilan Ke Layanan Pelanggan): Rata-rata panggilan ke layanan pelanggan adalah sekitar 4.16. Ini mungkin menunjukkan bahwa sebagian besar pelanggan melakukan beberapa panggilan ke layanan pelanggan untuk menyelesaikan masalah atau mendapatkan bantuan terkait produk atau layanan.\n",
        "\n",
        "- Customer_rating (Rating Pelanggan): Rata-rata rating pelanggan adalah sekitar 2.96. Ini bisa menjadi indikasi bahwa sebagian besar pelanggan memberikan rating yang rendah atau sedang terhadap produk atau layanan.\n",
        "\n",
        "- Cost_of_the_Product (Harga Produk): Rata-rata harga produk adalah sekitar 216.74. Ini menunjukkan bahwa produk dalam dataset memiliki variasi harga, dengan rata-rata di sekitar angka tersebut."
      ]
    },
    {
      "cell_type": "code",
      "execution_count": 118,
      "metadata": {
        "colab": {
          "base_uri": "https://localhost:8080/"
        },
        "id": "dH_sa4DL3jDl",
        "outputId": "2f4463d1-2345-4308-cfa3-066f9b0ce2f7"
      },
      "outputs": [
        {
          "data": {
            "text/plain": [
              "Customer_care_calls       4.107212\n",
              "Customer_rating           2.927875\n",
              "Cost_of_the_Product     208.345029\n",
              "Prior_purchases           3.643275\n",
              "Discount_offered          5.654971\n",
              "Weight_in_gms          4275.091618\n",
              "Rot                       0.000000\n",
              "Prediction                0.000000\n",
              "dtype: float64"
            ]
          },
          "execution_count": 118,
          "metadata": {},
          "output_type": "execute_result"
        }
      ],
      "source": [
        "# Hitung rata-rata dari kolom-kolom numerik pada dataframe True_negative\n",
        "true_negatif = X_test_1[(X_test_1['Rot'] == 0 ) &(X_test_1['Prediction'] == 0)]\n",
        "true_negatif.select_dtypes(exclude='object').mean()"
      ]
    },
    {
      "cell_type": "markdown",
      "metadata": {
        "id": "P32Ic7cXMuZX"
      },
      "source": [
        "Karakteristik true negatif :\n",
        "- Customer_care_calls (Panggilan Ke Layanan Pelanggan): Rata-rata panggilan ke layanan pelanggan adalah sekitar 4.12. Meskipun nilainya sedikit lebih rendah dibandingkan dengan yang sebelumnya, ini masih menunjukkan bahwa sebagian besar pelanggan melakukan beberapa panggilan ke layanan pelanggan.\n",
        "\n",
        "- Customer_rating (Rating Pelanggan): Rata-rata rating pelanggan adalah sekitar 2.90. Ini juga lebih rendah daripada sebelumnya, menunjukkan bahwa pelanggan dalam data ini cenderung memberikan rating yang lebih rendah atau sedang terhadap produk atau layanan.\n",
        "\n",
        "- Cost_of_the_Product (Harga Produk): Rata-rata harga produk adalah sekitar 211.81. Nilai ini lebih rendah daripada sebelumnya, menunjukkan variasi dalam harga produk yang lebih rendah."
      ]
    },
    {
      "cell_type": "code",
      "execution_count": 119,
      "metadata": {
        "colab": {
          "base_uri": "https://localhost:8080/",
          "height": 143
        },
        "id": "ExmGtoZINUoL",
        "outputId": "a2fa2e15-e8ca-49b2-c620-d8750bd02b88"
      },
      "outputs": [
        {
          "data": {
            "text/html": [
              "\n",
              "  <div id=\"df-14eb3d53-18c5-4969-904d-2aea4b7782db\" class=\"colab-df-container\">\n",
              "    <div>\n",
              "<style scoped>\n",
              "    .dataframe tbody tr th:only-of-type {\n",
              "        vertical-align: middle;\n",
              "    }\n",
              "\n",
              "    .dataframe tbody tr th {\n",
              "        vertical-align: top;\n",
              "    }\n",
              "\n",
              "    .dataframe thead th {\n",
              "        text-align: right;\n",
              "    }\n",
              "</style>\n",
              "<table border=\"1\" class=\"dataframe\">\n",
              "  <thead>\n",
              "    <tr style=\"text-align: right;\">\n",
              "      <th></th>\n",
              "      <th>Customer_care_calls</th>\n",
              "      <th>Customer_rating</th>\n",
              "      <th>Cost_of_the_Product</th>\n",
              "      <th>Prior_purchases</th>\n",
              "      <th>Discount_offered</th>\n",
              "      <th>Weight_in_gms</th>\n",
              "    </tr>\n",
              "    <tr>\n",
              "      <th>Rot</th>\n",
              "      <th></th>\n",
              "      <th></th>\n",
              "      <th></th>\n",
              "      <th></th>\n",
              "      <th></th>\n",
              "      <th></th>\n",
              "    </tr>\n",
              "  </thead>\n",
              "  <tbody>\n",
              "    <tr>\n",
              "      <th>0</th>\n",
              "      <td>4.155655</td>\n",
              "      <td>2.954087</td>\n",
              "      <td>211.426652</td>\n",
              "      <td>3.650616</td>\n",
              "      <td>5.634938</td>\n",
              "      <td>4219.950728</td>\n",
              "    </tr>\n",
              "    <tr>\n",
              "      <th>1</th>\n",
              "      <td>4.007651</td>\n",
              "      <td>2.976282</td>\n",
              "      <td>207.285386</td>\n",
              "      <td>3.501148</td>\n",
              "      <td>18.997705</td>\n",
              "      <td>3273.298393</td>\n",
              "    </tr>\n",
              "  </tbody>\n",
              "</table>\n",
              "</div>\n",
              "    <div class=\"colab-df-buttons\">\n",
              "\n",
              "  <div class=\"colab-df-container\">\n",
              "    <button class=\"colab-df-convert\" onclick=\"convertToInteractive('df-14eb3d53-18c5-4969-904d-2aea4b7782db')\"\n",
              "            title=\"Convert this dataframe to an interactive table.\"\n",
              "            style=\"display:none;\">\n",
              "\n",
              "  <svg xmlns=\"http://www.w3.org/2000/svg\" height=\"24px\" viewBox=\"0 -960 960 960\">\n",
              "    <path d=\"M120-120v-720h720v720H120Zm60-500h600v-160H180v160Zm220 220h160v-160H400v160Zm0 220h160v-160H400v160ZM180-400h160v-160H180v160Zm440 0h160v-160H620v160ZM180-180h160v-160H180v160Zm440 0h160v-160H620v160Z\"/>\n",
              "  </svg>\n",
              "    </button>\n",
              "\n",
              "  <style>\n",
              "    .colab-df-container {\n",
              "      display:flex;\n",
              "      gap: 12px;\n",
              "    }\n",
              "\n",
              "    .colab-df-convert {\n",
              "      background-color: #E8F0FE;\n",
              "      border: none;\n",
              "      border-radius: 50%;\n",
              "      cursor: pointer;\n",
              "      display: none;\n",
              "      fill: #1967D2;\n",
              "      height: 32px;\n",
              "      padding: 0 0 0 0;\n",
              "      width: 32px;\n",
              "    }\n",
              "\n",
              "    .colab-df-convert:hover {\n",
              "      background-color: #E2EBFA;\n",
              "      box-shadow: 0px 1px 2px rgba(60, 64, 67, 0.3), 0px 1px 3px 1px rgba(60, 64, 67, 0.15);\n",
              "      fill: #174EA6;\n",
              "    }\n",
              "\n",
              "    .colab-df-buttons div {\n",
              "      margin-bottom: 4px;\n",
              "    }\n",
              "\n",
              "    [theme=dark] .colab-df-convert {\n",
              "      background-color: #3B4455;\n",
              "      fill: #D2E3FC;\n",
              "    }\n",
              "\n",
              "    [theme=dark] .colab-df-convert:hover {\n",
              "      background-color: #434B5C;\n",
              "      box-shadow: 0px 1px 3px 1px rgba(0, 0, 0, 0.15);\n",
              "      filter: drop-shadow(0px 1px 2px rgba(0, 0, 0, 0.3));\n",
              "      fill: #FFFFFF;\n",
              "    }\n",
              "  </style>\n",
              "\n",
              "    <script>\n",
              "      const buttonEl =\n",
              "        document.querySelector('#df-14eb3d53-18c5-4969-904d-2aea4b7782db button.colab-df-convert');\n",
              "      buttonEl.style.display =\n",
              "        google.colab.kernel.accessAllowed ? 'block' : 'none';\n",
              "\n",
              "      async function convertToInteractive(key) {\n",
              "        const element = document.querySelector('#df-14eb3d53-18c5-4969-904d-2aea4b7782db');\n",
              "        const dataTable =\n",
              "          await google.colab.kernel.invokeFunction('convertToInteractive',\n",
              "                                                    [key], {});\n",
              "        if (!dataTable) return;\n",
              "\n",
              "        const docLinkHtml = 'Like what you see? Visit the ' +\n",
              "          '<a target=\"_blank\" href=https://colab.research.google.com/notebooks/data_table.ipynb>data table notebook</a>'\n",
              "          + ' to learn more about interactive tables.';\n",
              "        element.innerHTML = '';\n",
              "        dataTable['output_type'] = 'display_data';\n",
              "        await google.colab.output.renderOutput(dataTable, element);\n",
              "        const docLink = document.createElement('div');\n",
              "        docLink.innerHTML = docLinkHtml;\n",
              "        element.appendChild(docLink);\n",
              "      }\n",
              "    </script>\n",
              "  </div>\n",
              "\n",
              "\n",
              "<div id=\"df-908e1a86-139d-4a0a-8aa2-d4309297a15d\">\n",
              "  <button class=\"colab-df-quickchart\" onclick=\"quickchart('df-908e1a86-139d-4a0a-8aa2-d4309297a15d')\"\n",
              "            title=\"Suggest charts.\"\n",
              "            style=\"display:none;\">\n",
              "\n",
              "<svg xmlns=\"http://www.w3.org/2000/svg\" height=\"24px\"viewBox=\"0 0 24 24\"\n",
              "     width=\"24px\">\n",
              "    <g>\n",
              "        <path d=\"M19 3H5c-1.1 0-2 .9-2 2v14c0 1.1.9 2 2 2h14c1.1 0 2-.9 2-2V5c0-1.1-.9-2-2-2zM9 17H7v-7h2v7zm4 0h-2V7h2v10zm4 0h-2v-4h2v4z\"/>\n",
              "    </g>\n",
              "</svg>\n",
              "  </button>\n",
              "\n",
              "<style>\n",
              "  .colab-df-quickchart {\n",
              "      --bg-color: #E8F0FE;\n",
              "      --fill-color: #1967D2;\n",
              "      --hover-bg-color: #E2EBFA;\n",
              "      --hover-fill-color: #174EA6;\n",
              "      --disabled-fill-color: #AAA;\n",
              "      --disabled-bg-color: #DDD;\n",
              "  }\n",
              "\n",
              "  [theme=dark] .colab-df-quickchart {\n",
              "      --bg-color: #3B4455;\n",
              "      --fill-color: #D2E3FC;\n",
              "      --hover-bg-color: #434B5C;\n",
              "      --hover-fill-color: #FFFFFF;\n",
              "      --disabled-bg-color: #3B4455;\n",
              "      --disabled-fill-color: #666;\n",
              "  }\n",
              "\n",
              "  .colab-df-quickchart {\n",
              "    background-color: var(--bg-color);\n",
              "    border: none;\n",
              "    border-radius: 50%;\n",
              "    cursor: pointer;\n",
              "    display: none;\n",
              "    fill: var(--fill-color);\n",
              "    height: 32px;\n",
              "    padding: 0;\n",
              "    width: 32px;\n",
              "  }\n",
              "\n",
              "  .colab-df-quickchart:hover {\n",
              "    background-color: var(--hover-bg-color);\n",
              "    box-shadow: 0 1px 2px rgba(60, 64, 67, 0.3), 0 1px 3px 1px rgba(60, 64, 67, 0.15);\n",
              "    fill: var(--button-hover-fill-color);\n",
              "  }\n",
              "\n",
              "  .colab-df-quickchart-complete:disabled,\n",
              "  .colab-df-quickchart-complete:disabled:hover {\n",
              "    background-color: var(--disabled-bg-color);\n",
              "    fill: var(--disabled-fill-color);\n",
              "    box-shadow: none;\n",
              "  }\n",
              "\n",
              "  .colab-df-spinner {\n",
              "    border: 2px solid var(--fill-color);\n",
              "    border-color: transparent;\n",
              "    border-bottom-color: var(--fill-color);\n",
              "    animation:\n",
              "      spin 1s steps(1) infinite;\n",
              "  }\n",
              "\n",
              "  @keyframes spin {\n",
              "    0% {\n",
              "      border-color: transparent;\n",
              "      border-bottom-color: var(--fill-color);\n",
              "      border-left-color: var(--fill-color);\n",
              "    }\n",
              "    20% {\n",
              "      border-color: transparent;\n",
              "      border-left-color: var(--fill-color);\n",
              "      border-top-color: var(--fill-color);\n",
              "    }\n",
              "    30% {\n",
              "      border-color: transparent;\n",
              "      border-left-color: var(--fill-color);\n",
              "      border-top-color: var(--fill-color);\n",
              "      border-right-color: var(--fill-color);\n",
              "    }\n",
              "    40% {\n",
              "      border-color: transparent;\n",
              "      border-right-color: var(--fill-color);\n",
              "      border-top-color: var(--fill-color);\n",
              "    }\n",
              "    60% {\n",
              "      border-color: transparent;\n",
              "      border-right-color: var(--fill-color);\n",
              "    }\n",
              "    80% {\n",
              "      border-color: transparent;\n",
              "      border-right-color: var(--fill-color);\n",
              "      border-bottom-color: var(--fill-color);\n",
              "    }\n",
              "    90% {\n",
              "      border-color: transparent;\n",
              "      border-bottom-color: var(--fill-color);\n",
              "    }\n",
              "  }\n",
              "</style>\n",
              "\n",
              "  <script>\n",
              "    async function quickchart(key) {\n",
              "      const quickchartButtonEl =\n",
              "        document.querySelector('#' + key + ' button');\n",
              "      quickchartButtonEl.disabled = true;  // To prevent multiple clicks.\n",
              "      quickchartButtonEl.classList.add('colab-df-spinner');\n",
              "      try {\n",
              "        const charts = await google.colab.kernel.invokeFunction(\n",
              "            'suggestCharts', [key], {});\n",
              "      } catch (error) {\n",
              "        console.error('Error during call to suggestCharts:', error);\n",
              "      }\n",
              "      quickchartButtonEl.classList.remove('colab-df-spinner');\n",
              "      quickchartButtonEl.classList.add('colab-df-quickchart-complete');\n",
              "    }\n",
              "    (() => {\n",
              "      let quickchartButtonEl =\n",
              "        document.querySelector('#df-908e1a86-139d-4a0a-8aa2-d4309297a15d button');\n",
              "      quickchartButtonEl.style.display =\n",
              "        google.colab.kernel.accessAllowed ? 'block' : 'none';\n",
              "    })();\n",
              "  </script>\n",
              "</div>\n",
              "    </div>\n",
              "  </div>\n"
            ],
            "text/plain": [
              "     Customer_care_calls  Customer_rating  Cost_of_the_Product  \\\n",
              "Rot                                                              \n",
              "0               4.155655         2.954087           211.426652   \n",
              "1               4.007651         2.976282           207.285386   \n",
              "\n",
              "     Prior_purchases  Discount_offered  Weight_in_gms  \n",
              "Rot                                                    \n",
              "0           3.650616          5.634938    4219.950728  \n",
              "1           3.501148         18.997705    3273.298393  "
            ]
          },
          "execution_count": 119,
          "metadata": {},
          "output_type": "execute_result"
        }
      ],
      "source": [
        "# Menghitung rata - rata\n",
        "X_test1 = X_test_1.drop('Prediction',axis=1)\n",
        "X_test1.groupby('Rot').mean()"
      ]
    },
    {
      "cell_type": "markdown",
      "metadata": {
        "id": "GEpkFhUPOfRd"
      },
      "source": [
        "Mari kita bahas karakteristik masing-masing atribut:\n",
        "\n",
        "Customer_care_calls:\n",
        "- Untuk \"Rot=0,\" rata-rata panggilan ke layanan pelanggan adalah sekitar 4.16.\n",
        "- Untuk \"Rot=1,\" rata-rata panggilan ke layanan pelanggan adalah sekitar 3.96.\n",
        "\n",
        "Ini menunjukkan bahwa rata-rata jumlah panggilan ke layanan pelanggan lebih tinggi pada kelompok \"Rot=0\" daripada pada kelompok \"Rot=1.\"\n",
        "\n",
        "\n",
        "Customer_rating:\n",
        "- Untuk \"Rot=0,\" rata-rata rating pelanggan adalah sekitar 2.97.\n",
        "- Untuk \"Rot=1,\" rata-rata rating pelanggan adalah sekitar 3.00.\n",
        "\n",
        "Ini menunjukkan bahwa rata-rata rating pelanggan sedikit lebih tinggi pada kelompok \"Rot=1\" daripada pada kelompok \"Rot=0.\"\n",
        "\n",
        "Cost_of_the_Product:\n",
        "- Untuk \"Rot=0,\" rata-rata harga produk adalah sekitar 212.58.\n",
        "- Untuk \"Rot=1,\" rata-rata harga produk adalah sekitar 206.83.\n",
        "\n",
        "Ini mengindikasikan bahwa rata-rata harga produk cenderung lebih tinggi pada kelompok \"Rot=0\" dibandingkan dengan kelompok \"Rot=1.\"\n",
        "\n",
        "Discount_offered:\n",
        "- Untuk \"Rot=0,\" rata-rata diskon yang ditawarkan adalah sekitar 5.67.\n",
        "- Untuk \"Rot=1,\" rata-rata diskon yang ditawarkan adalah sekitar 19.15.\n",
        "\n",
        "Ini mengindikasikan bahwa rata-rata diskon yang ditawarkan jauh lebih tinggi pada kelompok \"Rot=1\" dibandingkan dengan kelompok \"Rot=0.\""
      ]
    },
    {
      "cell_type": "markdown",
      "metadata": {
        "id": "cuulhyYV4YRw"
      },
      "source": [
        "-------------------------------------------------------------"
      ]
    },
    {
      "cell_type": "markdown",
      "metadata": {
        "id": "ixCjh2Nr4bJc"
      },
      "source": [
        "# Model Saving"
      ]
    },
    {
      "cell_type": "code",
      "execution_count": 120,
      "metadata": {
        "id": "ogSM8f9X4Z3p"
      },
      "outputs": [],
      "source": [
        "# save pipeline\n",
        "with open('final_pipeline1.pkl','wb') as file:\n",
        "  pickle.dump(tree_gridcv,file)"
      ]
    },
    {
      "cell_type": "markdown",
      "metadata": {
        "id": "Egwsg4DuS_TL"
      },
      "source": [
        "Menyimpan Final proses dalam file final pipeline1 untuk di gunaka di model inference."
      ]
    },
    {
      "cell_type": "markdown",
      "metadata": {
        "id": "QsaVg5WoTM94"
      },
      "source": [
        "# Model Inference\n",
        "\n",
        "Model inferencen di notebook yang berbeda."
      ]
    },
    {
      "cell_type": "markdown",
      "metadata": {
        "id": "O36RI3dqTYBW"
      },
      "source": [
        "# Pengambilan Kesimpulan\n",
        "\n",
        "**Conceptual Problems**\n",
        "\n",
        "**Apa itu Bagging**\n",
        "- Bagging, singkatan dari \"Bootstrap Aggregating,\" adalah teknik ensemble learning yang digunakan dalam machine learning untuk meningkatkan kinerja model. Teknik ini digunakan untuk mengatasi overfitting, meningkatkan stabilitas model, dan menghasilkan prediksi yang lebih konsisten.\n",
        "\n",
        "**Cara kerja bagging**\n",
        "- Bootstrap Sampling: Bagging pertama-tama melakukan pengambilan sampel acak dengan penggantian dari dataset pelatihan asli. Ini berarti beberapa contoh data dapat muncul lebih dari satu kali dalam sampel, sementara yang lain mungkin tidak termasuk sama sekali. Ini menciptakan dataset baru yang disebut \"bootstrap sample.\"\n",
        "\n",
        "Keuntungan dari Bagging adalah bahwa dengan menggabungkan hasil dari beberapa model yang dilatih pada dataset yang berbeda, itu dapat mengurangi variasi dalam prediksi dan membuat model lebih stabil. Ini adalah salah satu bentuk dari \"ensemble learning,\" di mana kita menggabungkan hasil dari beberapa model untuk meningkatkan kinerja dan kestabilan prediksi.\n",
        "\n",
        "**Perbedaan RandomForest dan Xgboost**\n",
        "\n",
        "Algoritma Random Forest dan algoritma Boosting, seperti XGBoost, adalah dua pendekatan ensemble learning yang berbeda dalam cara mereka menggabungkan beberapa model dasar untuk meningkatkan kinerja prediksi. Berikut adalah perbedaan utama dalam cara kerja algoritma Random Forest dan XGBoost:\n",
        "\n",
        "Random Forest:\n",
        "\n",
        "- Metode Pengambilan Sampel: Random Forest menggunakan teknik bootstrap sampling untuk menciptakan banyak dataset pelatihan yang berbeda. Setiap dataset ini digunakan untuk melatih Decision Trees yang independen. Random Forest juga melakukan sub-sampling pada fitur (variabel) untuk setiap pohon dalam upaya untuk menghindari korrelasi yang kuat antara pohon-pohon dalam ensemble.\n",
        "\n",
        "- Pembuatan Keputusan: Setelah Decision Trees terlatih, Random Forest menggabungkan hasil prediksi dari setiap pohon melalui mayoritas suara (mode) untuk masalah klasifikasi atau rata-rata untuk masalah regresi.\n",
        "\n",
        "XGBoost (Extreme Gradient Boosting):\n",
        "\n",
        "- Metode Pengambilan Sampel: XGBoost menggunakan pendekatan boosting. Ini berarti setiap pohon berikutnya (weak learner) dalam ensemble fokus pada sampel-sampel yang sebelumnya salah diklasifikasikan oleh pohon-pohon sebelumnya. Ini berarti setiap pohon berikutnya berusaha untuk memperbaiki kesalahan yang telah dibuat sebelumnya.\n",
        "- Pembuatan Keputusan: XGBoost juga menggabungkan hasil prediksi dari semua pohon dalam ensemble, tetapi ini dilakukan dengan memberikan bobot pada setiap pohon berdasarkan seberapa baik mereka telah melakukan dalam iterasi sebelumnya.\n",
        "- Sequential: XGBoost adalah algoritma sekuensial, yang berarti setiap pohon bergantung pada hasil pohon-pohon sebelumnya. Ini bisa mengakibatkan waktu pelatihan yang lebih lama dibandingkan dengan Random Forest.\n",
        "\n",
        "**Apa itu Cross Validation**\n",
        "\n",
        "Cross-validation (validasi silang) adalah teknik penting dalam machine learning yang digunakan untuk mengukur kinerja model secara objektif dan menghindari overfitting. Ini adalah metode evaluasi yang digunakan untuk mengestimasi sejauh mana model machine learning akan berkinerja pada data yang belum pernah dilihat sebelumnya.\n",
        "\n",
        "Cara kerja Cross Validation adalah sebagai berikut:\n",
        "\n",
        "- Pembagian Data: Dataset yang tersedia dibagi menjadi dua subset utama: subset pelatihan (training set) dan subset pengujian (testing set). Bagian pelatihan digunakan untuk melatih model, sementara bagian pengujian digunakan untuk menguji kinerja model.\n",
        "- Pengulangan: Subset data dibagi lagi menjadi beberapa \"lipatan\" (folds). Sebagai contoh, dalam metode validasi silang 5 lipatan (5-fold cross-validation), data dibagi menjadi 5 bagian yang sama besar.\n",
        "- Pelatihan dan Pengujian: Model machine learning dilatih dan dievaluasi sebanyak lipatan yang ada. Pada setiap iterasi, satu lipatan digunakan sebagai data pengujian, sementara yang lainnya digunakan sebagai data pelatihan. Ini berarti setiap lipatan digunakan satu kali sebagai data pengujian dan empat kali sebagai data pelatihan (pada kasus 5-fold cross-validation)."
      ]
    },
    {
      "cell_type": "markdown",
      "metadata": {
        "id": "Bi1ETt4EU6ML"
      },
      "source": [
        "**Kesimpulan dan Implikasi Bisnis:**\n",
        "\n",
        "Dari hasil analisis yang telah dibuat data memiliki pola data yang sama yaitu nilai Reched on time 0 lebih rendah dari pada 1 maka ini akan menjadi membuat model menentukan prediksi yang tepat serta beberapa keterbatasan fitur yang membuat mesin tidak baik dalam prediksi data yang baru. Kami harapkan kelamahan model dapat di tingkatkan dengan baik untuk mencegah miss dalam memprediksi terutaman nilai recall karena ini akan menjadi dasar kami untuk meningkatkan pelayanan terhadap layanan kami dan hubungan pelanggan, karena bisnis shipping adalah bisnis yang menjual jasa dan kepercayaan terhadap pelanggan.\n",
        "\n",
        "Berdasarkan analisis karakteristik data yang telah dilakukan, berikut beberapa rekomendasi untuk meningkatkan ketepatan waktu pengiriman dalam industri e-commerce:\n",
        "\n",
        "1. Pengelolaan Layanan Pelanggan:  Perusahaan sebaiknya mempertimbangkan untuk meningkatkan layanan pelanggan, terutama dalam hal pengiriman yang tidak tepat waktu (\"Rot=1\"). Ini bisa melibatkan peningkatan dalam penanganan keluhan pelanggan, menyediakan informasi pengiriman yang lebih akurat, atau menawarkan insentif kepada pelanggan yang mengalami keterlambatan.\n",
        "\n",
        "2. Pemantauan Kualitas Produk: Meskipun ada indikasi bahwa pelanggan mungkin memberikan rating yang lebih tinggi pada pengiriman yang tidak tepat waktu, perusahaan harus tetap memantau kualitas produk dan proses pengiriman. Produk dengan harga lebih tinggi mungkin cenderung lebih tepat waktu, jadi pastikan kualitas produk sebanding dengan harganya.\n",
        "\n",
        "3. Manajemen Diskon: Perusahaan sebaiknya mengelola tawaran diskon dengan hati-hati. Tawaran diskon yang tinggi pada pengiriman yang tidak tepat waktu (\"Rot=1\") mungkin menjadi solusi sementara, tetapi strategi ini dapat mempengaruhi margin keuntungan. Pertimbangkan untuk menawarkan diskon yang lebih seimbang dan memberikan insentif untuk pengiriman tepat waktu.\n",
        "\n",
        "4. Perencanaan Jangka Panjang: Selain fokus pada perbaikan operasional jangka pendek, perusahaan juga perlu memiliki strategi jangka panjang untuk mengatasi masalah ketepatan waktu pengiriman. Ini bisa mencakup investasi dalam teknologi yang lebih canggih, ekspansi geografis, atau pembaruan dalam model bisnis.\n",
        "\n",
        "5. Pemodelan Prediktif: Lanjutkan dengan penggunaan model machine learning yang telah dikembangkan untuk memprediksi ketepatan waktu pengiriman. Dengan demikian, perusahaan dapat mengidentifikasi pengiriman yang berisiko tidak tepat waktu dan mengambil tindakan preventif.\n",
        "\n",
        "6. Edukasi Pelanggan: Perusahaan dapat mengambil langkah-langkah untuk mengedukasi pelanggan tentang proses pengiriman, perkiraan waktu pengiriman yang realistis, dan faktor-faktor yang dapat memengaruhi ketepatan waktu. Ini dapat mengurangi ketidakpuasan pelanggan dan tingkat keluhan yang mungkin muncul karena ketidakpahaman.\n",
        "\n",
        "7. Segmentasi Pelanggan: Pelanggan mungkin memiliki preferensi yang berbeda dalam hal pengiriman. Perusahaan dapat mempertimbangkan untuk melakukan segmentasi pelanggan berdasarkan preferensi pengiriman mereka, dan kemudian menawarkan solusi pengiriman yang lebih sesuai dengan setiap segmen."
      ]
    }
  ],
  "metadata": {
    "accelerator": "GPU",
    "colab": {
      "gpuType": "T4",
      "provenance": []
    },
    "kernelspec": {
      "display_name": "Python 3",
      "name": "python3"
    },
    "language_info": {
      "name": "python"
    }
  },
  "nbformat": 4,
  "nbformat_minor": 0
}
